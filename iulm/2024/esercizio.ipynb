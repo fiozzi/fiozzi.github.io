{
 "cells": [
  {
   "cell_type": "markdown",
   "id": "4ff45892-c699-4045-86f8-d72374377eff",
   "metadata": {},
   "source": [
    "# ESERCIZIO FINALE SULLA PRIMA PARTE"
   ]
  },
  {
   "cell_type": "markdown",
   "id": "a43a44ba-b36d-46a8-a059-1021ef75f893",
   "metadata": {},
   "source": [
    "Un negozio di alimentari vende frutta al pezzo. In un certo momento i frutti disponibili sono registrati nella lista seguente:"
   ]
  },
  {
   "cell_type": "code",
   "execution_count": null,
   "id": "88e50f11-d899-4ffc-891d-784207f6cd40",
   "metadata": {},
   "outputs": [],
   "source": [
    "frutti = [\"banana\", \"mela\", \"arancia\", \"pera\"]"
   ]
  },
  {
   "cell_type": "markdown",
   "id": "1aab515b-9525-4607-9fe3-ac694b462a10",
   "metadata": {},
   "source": [
    "Per ogni tipo di frutto è stato fissato un prezzo di vendita in centesimi (al pezzo). I prezzi sono registrati nel dizionario qui sotto:"
   ]
  },
  {
   "cell_type": "code",
   "execution_count": null,
   "id": "061f1e4f-2b88-463c-9f7f-0d48e261439f",
   "metadata": {},
   "outputs": [],
   "source": [
    "prezzi = {\n",
    "    \"banana\": 10,\n",
    "    \"mela\": 15,\n",
    "    \"arancia\": 20,\n",
    "    \"pera\": 18\n",
    "}"
   ]
  },
  {
   "cell_type": "markdown",
   "id": "703dd9d7-a632-495d-aabf-281107763fec",
   "metadata": {},
   "source": [
    "Una persona desidera acquistare i frutti indicati nella lista seguente:"
   ]
  },
  {
   "cell_type": "code",
   "execution_count": null,
   "id": "bd00208e-db56-4de6-ad42-c901bb0e0222",
   "metadata": {},
   "outputs": [],
   "source": [
    "ordine = ['banana', 'arancia']"
   ]
  },
  {
   "cell_type": "markdown",
   "id": "4c18498a-fb10-4054-9316-3d7e88045a02",
   "metadata": {},
   "source": [
    "# Parte 1\n",
    "\n",
    "Scrivere un piccolo programma che stampa i frutti inclusi nell'ordine e aggiunge **disponibile** o **non disponibile**, in dipendenza dalla scorta attuale.\n",
    "\n",
    "Nell'esempio qui sopra, il programma deve stampare\n",
    "```\n",
    "banana disponibile\n",
    "arancia disponibile\n",
    "```\n",
    "\n",
    "Se la lista ordine è\n",
    "```python\n",
    "ordine = ['banana', 'kiwi']\n",
    "```\n",
    "il programma deve stampare\n",
    "```\n",
    "banana disponibile\n",
    "kiwi non disponibile\n",
    "```\n"
   ]
  },
  {
   "cell_type": "code",
   "execution_count": null,
   "id": "16f3e3cf-3ae7-4391-8957-00b9d3243db3",
   "metadata": {},
   "outputs": [],
   "source": [
    "# scrivere il codice qui\n",
    "\n",
    "    "
   ]
  },
  {
   "cell_type": "markdown",
   "id": "915238bd-69ad-4017-b278-9a3c18b793fa",
   "metadata": {},
   "source": [
    "# Parte 2\n",
    "\n",
    "Modificare il programma precedente in modo che, se il frutto è disponibile, scriva il prezzo relativo.\n",
    "\n",
    "Nell'esempio qui sopra, il programma deve stampare\n",
    "```\n",
    "banana 10\n",
    "arancia 20\n",
    "```\n",
    "\n",
    "Se la lista ordine è\n",
    "```python\n",
    "ordine = ['banana', 'kiwi']\n",
    "```\n",
    "il programma deve stampare\n",
    "```\n",
    "banana 10\n",
    "kiwi non disponibile\n",
    "```\n"
   ]
  },
  {
   "cell_type": "code",
   "execution_count": null,
   "id": "6b4e07b2-a786-45b1-97d2-644fae6999e8",
   "metadata": {},
   "outputs": [],
   "source": [
    "# scrivere il codice qui\n",
    "\n",
    "    "
   ]
  }
 ],
 "metadata": {
  "kernelspec": {
   "display_name": "Python 3 (ipykernel)",
   "language": "python",
   "name": "python3"
  },
  "language_info": {
   "codemirror_mode": {
    "name": "ipython",
    "version": 3
   },
   "file_extension": ".py",
   "mimetype": "text/x-python",
   "name": "python",
   "nbconvert_exporter": "python",
   "pygments_lexer": "ipython3",
   "version": "3.11.5"
  }
 },
 "nbformat": 4,
 "nbformat_minor": 5
}
