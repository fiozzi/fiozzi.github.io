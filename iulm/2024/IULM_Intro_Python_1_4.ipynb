{
  "cells": [
    {
      "cell_type": "markdown",
      "id": "01d1f7df-2e6b-4d0e-b92c-2a6ac6660fa4",
      "metadata": {
        "id": "01d1f7df-2e6b-4d0e-b92c-2a6ac6660fa4"
      },
      "source": [
        "# Introduzione a Python 1/4"
      ]
    },
    {
      "cell_type": "markdown",
      "id": "f2c7a2d0-5f07-4f0a-80c6-50897826afa9",
      "metadata": {
        "id": "f2c7a2d0-5f07-4f0a-80c6-50897826afa9"
      },
      "source": [
        "2 Febbraio 2024"
      ]
    },
    {
      "cell_type": "markdown",
      "id": "5aeeb700-94b9-457a-80a2-7a3b3d89ff4b",
      "metadata": {
        "id": "5aeeb700-94b9-457a-80a2-7a3b3d89ff4b"
      },
      "source": [
        "## Argomenti"
      ]
    },
    {
      "cell_type": "markdown",
      "id": "1eb57e32-c366-4689-9934-fff4eade2509",
      "metadata": {
        "id": "1eb57e32-c366-4689-9934-fff4eade2509"
      },
      "source": [
        "1. L'ambiente COLAB di Google\n",
        "2. I notebook\n",
        "3. ..."
      ]
    },
    {
      "cell_type": "markdown",
      "id": "46aabacd-ad78-446a-b638-d0c237172ace",
      "metadata": {
        "id": "46aabacd-ad78-446a-b638-d0c237172ace"
      },
      "source": [
        "## L'ambiente COLAB di Google"
      ]
    },
    {
      "cell_type": "markdown",
      "id": "d767f284-ab43-45ee-badf-e45c6f2cc3fd",
      "metadata": {
        "id": "d767f284-ab43-45ee-badf-e45c6f2cc3fd"
      },
      "source": [
        "[https://colab.research.google.com/](https://colab.research.google.com/)"
      ]
    },
    {
      "cell_type": "markdown",
      "id": "1074c105-8ac8-4b39-bcdc-0a5fdc8baee6",
      "metadata": {
        "id": "1074c105-8ac8-4b39-bcdc-0a5fdc8baee6"
      },
      "source": [
        "## Notebook"
      ]
    },
    {
      "cell_type": "markdown",
      "id": "389cf9ae-6e8a-49c0-97ce-3d93b546ad01",
      "metadata": {
        "id": "389cf9ae-6e8a-49c0-97ce-3d93b546ad01"
      },
      "source": [
        "Ambiente integrato che permette di inserire testo e codice.\n",
        "\n",
        "Un notebook è strutturato in **Celle\" che possono contenere testo, codice, o sequenze di caratteri non altrimenti interpretate."
      ]
    },
    {
      "cell_type": "markdown",
      "id": "bc7c7e9b-6f8a-4b67-bcee-c71159868f4c",
      "metadata": {
        "id": "bc7c7e9b-6f8a-4b67-bcee-c71159868f4c"
      },
      "source": [
        "### Testo"
      ]
    },
    {
      "cell_type": "markdown",
      "id": "72ecdbb3-08ea-486d-bfa8-c4966ce0e871",
      "metadata": {
        "id": "72ecdbb3-08ea-486d-bfa8-c4966ce0e871"
      },
      "source": [
        "Il testo è interpretato nella codifica MARKDOWN: [https://en.wikipedia.org/wiki/Markdown](https://en.wikipedia.org/wiki/Markdown)"
      ]
    },
    {
      "cell_type": "markdown",
      "id": "6a270755-eee3-47c1-973c-fadcd1c854a1",
      "metadata": {
        "id": "6a270755-eee3-47c1-973c-fadcd1c854a1"
      },
      "source": [
        "Markdown permette di scrivere rapidamente testo con minimi elementi di formattazione (grassetto, corsivo, elenchi puntati, ecc.)"
      ]
    },
    {
      "cell_type": "markdown",
      "id": "47b2a749-7a2d-4c72-b411-d9332ada8a1d",
      "metadata": {
        "id": "47b2a749-7a2d-4c72-b411-d9332ada8a1d"
      },
      "source": [
        "In un notebook, il tipo di cella (markdown, code o raw) determina la visualizzazione."
      ]
    },
    {
      "cell_type": "markdown",
      "id": "db03300b-0978-4f2c-a948-da7294ad3e25",
      "metadata": {
        "id": "db03300b-0978-4f2c-a948-da7294ad3e25"
      },
      "source": [
        "## Esempi"
      ]
    },
    {
      "cell_type": "markdown",
      "id": "dacb705e-68a5-49cb-9697-712e43755c68",
      "metadata": {
        "id": "dacb705e-68a5-49cb-9697-712e43755c68"
      },
      "source": [
        "# Titolo"
      ]
    },
    {
      "cell_type": "markdown",
      "id": "4e9eceef-247c-4008-8e9b-d05a8264383d",
      "metadata": {
        "id": "4e9eceef-247c-4008-8e9b-d05a8264383d"
      },
      "source": [
        "## Sottotitolo"
      ]
    },
    {
      "cell_type": "markdown",
      "id": "bc8943fb-4737-4559-b52f-700e6600d53a",
      "metadata": {
        "id": "bc8943fb-4737-4559-b52f-700e6600d53a"
      },
      "source": [
        "### Sottosottotitolo"
      ]
    },
    {
      "cell_type": "markdown",
      "id": "db375b05-b106-47be-b48c-d9cefc75f948",
      "metadata": {
        "id": "db375b05-b106-47be-b48c-d9cefc75f948"
      },
      "source": [
        "Testo generico: **evidenziato forte**, *evidenziato debole*, matematica $x+y=\\sqrt{2}$"
      ]
    },
    {
      "cell_type": "markdown",
      "id": "b531a66b-0fd2-4388-87ca-2a91d3844b53",
      "metadata": {
        "id": "b531a66b-0fd2-4388-87ca-2a91d3844b53"
      },
      "source": [
        "Elenchi puntati:\n",
        "- una cosa\n",
        "- un'altra cosa\n",
        "- delle altre cose\n",
        "  - altre cose importanti\n",
        "  - altre cose meno importanti"
      ]
    },
    {
      "cell_type": "markdown",
      "id": "cadc52bd-7366-4fb0-b0b0-31a95c4b91b7",
      "metadata": {
        "id": "cadc52bd-7366-4fb0-b0b0-31a95c4b91b7"
      },
      "source": [
        "Elenchi numerati:\n",
        "1. primo\n",
        "2. secondo\n",
        "3. terzo\n",
        "   1. terzo/1\n",
        "   2. terzo/2\n"
      ]
    },
    {
      "cell_type": "markdown",
      "id": "b8c6e2ef-ceb6-420e-b46b-fd1d59475411",
      "metadata": {
        "id": "b8c6e2ef-ceb6-420e-b46b-fd1d59475411"
      },
      "source": [
        "Caratteri non proporzionali `utili per scrivere pezzi di codice nel testo`"
      ]
    },
    {
      "cell_type": "markdown",
      "id": "7f447ac2-39d0-45ab-afa5-869425b47101",
      "metadata": {
        "id": "7f447ac2-39d0-45ab-afa5-869425b47101"
      },
      "source": [
        "Per scrivere pezzi lunghi di codice\n",
        "```python\n",
        "def successivo(num):\n",
        "    return num + 1\n",
        "```\n",
        "e si vede che è codice"
      ]
    },
    {
      "cell_type": "markdown",
      "id": "7c0d7a2a-d80c-4bd7-8f6e-9849effcd3ea",
      "metadata": {
        "id": "7c0d7a2a-d80c-4bd7-8f6e-9849effcd3ea"
      },
      "source": [
        "Citazioni\n",
        "\n",
        ">CHAPTER I\n",
        ">\n",
        ">Down the Rabbit-Hole\n",
        ">\n",
        ">Alice was beginning to get very tired of sitting by her sister on the bank, and of having nothing to do: once or twice she had peeped into the book her sister was reading, but it had no pictures or conversations in it, `and what is the use of a book,' thought Alice `without pictures or conversation?'"
      ]
    },
    {
      "cell_type": "markdown",
      "id": "2a186c00-2a91-400a-98f9-4d51db4e333e",
      "metadata": {
        "id": "2a186c00-2a91-400a-98f9-4d51db4e333e"
      },
      "source": [
        "## Muoversi e operare con le celle"
      ]
    },
    {
      "cell_type": "markdown",
      "id": "b74a8473-3ea4-4398-bf8d-49b67f828976",
      "metadata": {
        "id": "b74a8473-3ea4-4398-bf8d-49b67f828976"
      },
      "source": [
        "**Attenzione**: questa sezione dipende dal tipo di ambiente. Colab ha i suoi comandi, i Jupyter Notebook ne hanno altri, Visual Studio Code ne ha altri ancora."
      ]
    },
    {
      "cell_type": "markdown",
      "id": "c2e976b3-980a-4a59-994a-49102e079ea8",
      "metadata": {
        "id": "c2e976b3-980a-4a59-994a-49102e079ea8"
      },
      "source": [
        "`X` = cut, `V` = paste below, `C` = copy, `DD` = cancella, e molti altri dal menù Edit"
      ]
    },
    {
      "cell_type": "markdown",
      "id": "9082243f-5168-44fe-bd0a-ab9ffa29ed34",
      "metadata": {
        "id": "9082243f-5168-44fe-bd0a-ab9ffa29ed34"
      },
      "source": [
        "`Enter` permette la modifica del contenuto della cella\n",
        "\n",
        "`Shift + Enter` esegue il contenuto della cella (il markdown viene applicato, il codice viene eseguito) e passa alla cella successiva"
      ]
    },
    {
      "cell_type": "markdown",
      "id": "1db24d12-3aaa-49c6-8227-c7787f2b1fda",
      "metadata": {
        "id": "1db24d12-3aaa-49c6-8227-c7787f2b1fda"
      },
      "source": [
        "`Ctrl + M + M` cambia la cella in Markdown"
      ]
    },
    {
      "cell_type": "markdown",
      "id": "c1e006e5-8028-46c6-9277-e3f47261053d",
      "metadata": {
        "id": "c1e006e5-8028-46c6-9277-e3f47261053d"
      },
      "source": [
        "`Ctrl + M + Y` cambia la cella in codice"
      ]
    },
    {
      "cell_type": "markdown",
      "id": "dab5355b-e267-4b0c-8aee-97c86b368e75",
      "metadata": {
        "id": "dab5355b-e267-4b0c-8aee-97c86b368e75"
      },
      "source": [
        "`Ctrl + S` salva il notebook"
      ]
    },
    {
      "cell_type": "code",
      "execution_count": null,
      "id": "7j3pv1oV52vM",
      "metadata": {
        "id": "7j3pv1oV52vM"
      },
      "outputs": [],
      "source": [
        "x=3"
      ]
    },
    {
      "cell_type": "code",
      "execution_count": null,
      "id": "t-c3OwPW6MSL",
      "metadata": {
        "colab": {
          "base_uri": "https://localhost:8080/"
        },
        "id": "t-c3OwPW6MSL",
        "outputId": "86e7196d-89e4-47ba-a36e-d81d36425670"
      },
      "outputs": [
        {
          "data": {
            "text/plain": [
              "3"
            ]
          },
          "execution_count": 5,
          "metadata": {},
          "output_type": "execute_result"
        }
      ],
      "source": [
        "x"
      ]
    },
    {
      "cell_type": "code",
      "execution_count": null,
      "id": "2af56216-3039-47dd-a001-d79ea6083a05",
      "metadata": {
        "colab": {
          "base_uri": "https://localhost:8080/"
        },
        "id": "2af56216-3039-47dd-a001-d79ea6083a05",
        "outputId": "188b3be0-a251-44fb-cd33-1358bcf6515c"
      },
      "outputs": [
        {
          "name": "stdout",
          "output_type": "stream",
          "text": [
            "2+2=4\n"
          ]
        }
      ],
      "source": [
        "print(f'2+2={2+2}')"
      ]
    },
    {
      "cell_type": "markdown",
      "id": "1EMHR6IwUANi",
      "metadata": {
        "id": "1EMHR6IwUANi"
      },
      "source": [
        "# Introduzione a Python"
      ]
    },
    {
      "cell_type": "markdown",
      "id": "cdb46906",
      "metadata": {
        "id": "cdb46906"
      },
      "source": [
        "Un *programma per computer* è un insieme organizzato di istruzioni, scritte in un *linguaggio di programmazione*, che sono pensate per essere eseguite da un computer.\n",
        "\n",
        "I linguaggi di programmazione sono definiti da grammatiche specifiche, come i linguaggi naturali. E come i linguaggi naturali hanno caratteristiche che li accomunano e che li differenziano. Per questo alcuni linguaggi sono più adatti di altri a fare certe cose.\n",
        "\n",
        "In generale, i linguaggi di programmazione sono di *basso livello*, nel senso che le loro grammatiche definiscono operazioni semplici, elementari, mentre lo svolgimento di operazioni più complesse è affidato ai *programmi* che, appunto, raggruppano e organizzano in modo coerente tali operazioni elementari.\n",
        "\n",
        "I linguaggi come Python sono detti *general purpose* perché le loro istruzioni *non* sono orientate allo svolgimento di alcun compito in particolare.\n",
        "\n",
        "Python, come alcuni linguaggi di programmazione è *orientato agli oggetti*. Un *oggetto* è un'entità che ha delle *proprietà* (attributes, in Python) e che può svolgere delle operazioni, dette *metodi* (methods).\n",
        "\n",
        "Python, come molti altri linguaggi general purpose, ha una struttura costituita da:\n",
        "- un nucleo che definisce alcuni elementi base del linguaggio e alcuni programmi di utilità\n",
        "- delle *libraries* aggiuntive che si distinguono in:\n",
        "    - standard (perché presenti in tutte le installazioni di Python)\n",
        "    - non standard (disponibli su Internet)\n",
        "\n",
        "Installando Python sul proprio computer, scaricandolo da [https://www.python.org/](https://www.python.org/), si ottiene il nucleo e la standard library, ma non, ovviamente, tutte le libraries aggiuntive, che vanno installate una per una, a seconda delle necessità.\n",
        "\n",
        "Anche i programmi che permettono di creare, modificare, eseguire notebook, sono essi stessi costituiti da libraries aggiuntive.\n",
        "\n",
        "Questo è il motivo per cui usiamo colab. Nell'ambiente colab, Google ha reso disponibile Python, il software per gestire i notebook e, se servono, tutte le librerie aggiuntive per la manipolazione e l'analisi dei testi. Lo \"svantaggio\" è che l'ambiente è remoto, e gestito da Google.\n"
      ]
    },
    {
      "cell_type": "markdown",
      "id": "23c1d5be",
      "metadata": {
        "id": "23c1d5be"
      },
      "source": [
        "## Variabili"
      ]
    },
    {
      "cell_type": "markdown",
      "id": "02aeb9d1",
      "metadata": {
        "id": "02aeb9d1"
      },
      "source": [
        "In molti linguaggi, gli oggetti che un programma manipola si chiamano *variabili*. La documentazione di Python preferisce, più correttamente, il nome *data-type* come sinonimo di *oggetto*.\n",
        "\n",
        "Python fornisce molti *built-in* data-types, come numeri, stringhe, liste, dizionari, tuple. Come molti linguaggi, Python inoltre permette all'utente di definire anche nuovi data-types."
      ]
    },
    {
      "cell_type": "markdown",
      "id": "d27c94f4",
      "metadata": {
        "id": "d27c94f4"
      },
      "source": [
        "### Built-in data-types"
      ]
    },
    {
      "cell_type": "markdown",
      "id": "5cbf535a",
      "metadata": {
        "id": "5cbf535a"
      },
      "source": [
        "La lista completa è [qui](https://docs.python.org/3/library/stdtypes.html)"
      ]
    },
    {
      "cell_type": "markdown",
      "id": "2f5113ea",
      "metadata": {},
      "source": [
        "Per creare un dato occorre dargli:\n",
        "- un nome (*il nome della variabile*)\n",
        "- il tipo (*il data-type*)\n",
        "\n",
        "Questo si fa quasi sempre con l'operatore `=` che rappresenta l'assegnazione. L'istruzione `x = y` viene interpretato così:\n",
        "1. il valore sulla destra del segno `=`, cioè `y` viene valutato (se si tratta di un'espressione) o semplicemente preso così com'è (se è un numero, una sequenza di caratteri tra apostrofi o virgolette, o altro)\n",
        "2. viene presa una locazione di memoria e il contenuto di `y` viene inserito in quella locazione\n",
        "3. viene creato un collegamento, simbolico, tra il nome, `x`, e la locazione di memoria\n",
        "\n",
        "**IMPORTANTE**: il segno di uguale _non_ rappresenta un confronto tra l'espressione di destra e quella di sinistra.\n",
        "\n",
        "Il nome, `x`, può essere una qualsiasi sequenza di caratteri a-z, A-Z, 0-9, _. **Non può iniziare con un numero**. Python non ha regole per dare i nomi alle variabili, ma chi programma dovrebbe attenersi a due regole:\n",
        "- dare nomi di variabile che abbiano un significato chiaro\n",
        "- separare le parole nel nome di variabile con un _\n",
        "\n",
        "Per esempio, se una variabile deve contenere la data di nascita di una persona, conviene chiamarla `data_di_nascita`, e non `d` (che cos'è d?), `dn` (idem), `nascita` (data o luogo?), ecc. \n",
        "\n",
        "La lunghezza del nome rende chiaro a tutti (chi ha scritto il programma e chi lo sta usando, correggendo, ecc.) che cosa si sta facendo e non influisce sulla velocità di esecuzione.\n"
      ]
    },
    {
      "cell_type": "code",
      "execution_count": 1,
      "id": "6f568808",
      "metadata": {
        "id": "6f568808"
      },
      "outputs": [],
      "source": [
        "mesi_per_anno = 12"
      ]
    },
    {
      "cell_type": "code",
      "execution_count": 2,
      "id": "1db991b3",
      "metadata": {
        "id": "1db991b3",
        "outputId": "290b3819-766e-460c-da02-4f8bb7f8739e"
      },
      "outputs": [
        {
          "data": {
            "text/plain": [
              "12"
            ]
          },
          "execution_count": 2,
          "metadata": {},
          "output_type": "execute_result"
        }
      ],
      "source": [
        "mesi_per_anno"
      ]
    },
    {
      "cell_type": "markdown",
      "id": "509bba33",
      "metadata": {},
      "source": [
        "Per sapere di che tipo è una certa variabile, si può usare l'istruzione `type`."
      ]
    },
    {
      "cell_type": "code",
      "execution_count": 3,
      "id": "da274055",
      "metadata": {
        "id": "da274055",
        "outputId": "a08750c8-c79d-47ae-d2a4-0b145cbb8e82"
      },
      "outputs": [
        {
          "data": {
            "text/plain": [
              "int"
            ]
          },
          "execution_count": 3,
          "metadata": {},
          "output_type": "execute_result"
        }
      ],
      "source": [
        "type(mesi_per_anno)"
      ]
    },
    {
      "cell_type": "code",
      "execution_count": null,
      "id": "01d15b67",
      "metadata": {
        "id": "01d15b67"
      },
      "outputs": [],
      "source": [
        "b = int(5)"
      ]
    },
    {
      "cell_type": "code",
      "execution_count": null,
      "id": "a07295ee",
      "metadata": {
        "id": "a07295ee",
        "outputId": "7dd704a9-d858-4fb1-96b0-59f3e43d1cc8"
      },
      "outputs": [
        {
          "data": {
            "text/plain": [
              "int"
            ]
          },
          "execution_count": 6,
          "metadata": {},
          "output_type": "execute_result"
        }
      ],
      "source": [
        "type(b)"
      ]
    },
    {
      "cell_type": "code",
      "execution_count": null,
      "id": "4dde959f",
      "metadata": {
        "id": "4dde959f",
        "outputId": "f9768785-8cee-4429-d352-ef82868a7c6a"
      },
      "outputs": [
        {
          "data": {
            "text/plain": [
              "5"
            ]
          },
          "execution_count": 7,
          "metadata": {},
          "output_type": "execute_result"
        }
      ],
      "source": [
        "b"
      ]
    },
    {
      "cell_type": "code",
      "execution_count": null,
      "id": "7a94ce2f",
      "metadata": {
        "id": "7a94ce2f"
      },
      "outputs": [],
      "source": [
        "nome = \"Fabrizio\""
      ]
    },
    {
      "cell_type": "code",
      "execution_count": null,
      "id": "692a37f7",
      "metadata": {
        "id": "692a37f7",
        "outputId": "595ea5e3-b76f-4ab9-ebe1-e9e582c0fa4b"
      },
      "outputs": [
        {
          "data": {
            "text/plain": [
              "'Fabrizio'"
            ]
          },
          "execution_count": 9,
          "metadata": {},
          "output_type": "execute_result"
        }
      ],
      "source": [
        "nome"
      ]
    },
    {
      "cell_type": "code",
      "execution_count": null,
      "id": "891ab380",
      "metadata": {
        "id": "891ab380",
        "outputId": "b14eec6c-8722-4143-adea-95dc52aa54fb"
      },
      "outputs": [
        {
          "data": {
            "text/plain": [
              "str"
            ]
          },
          "execution_count": 10,
          "metadata": {},
          "output_type": "execute_result"
        }
      ],
      "source": [
        "type(nome)"
      ]
    },
    {
      "cell_type": "code",
      "execution_count": 1,
      "id": "7fba1510",
      "metadata": {
        "id": "7fba1510"
      },
      "outputs": [],
      "source": [
        "l1 = ['Mozart', 'Beethoven', 'Verdi']"
      ]
    },
    {
      "cell_type": "code",
      "execution_count": 2,
      "id": "8f2Uwcq44Mgu",
      "metadata": {
        "colab": {
          "base_uri": "https://localhost:8080/"
        },
        "id": "8f2Uwcq44Mgu",
        "outputId": "e9ef19c0-35bb-4a21-8f97-c3a9729eb73e"
      },
      "outputs": [
        {
          "data": {
            "text/plain": [
              "['Mozart', 'Beethoven', 'Verdi']"
            ]
          },
          "execution_count": 2,
          "metadata": {},
          "output_type": "execute_result"
        }
      ],
      "source": [
        "l1"
      ]
    },
    {
      "cell_type": "code",
      "execution_count": 3,
      "id": "IvU6ubZc4Pfe",
      "metadata": {
        "colab": {
          "base_uri": "https://localhost:8080/"
        },
        "id": "IvU6ubZc4Pfe",
        "outputId": "f7689c76-ec3f-4f00-a31d-8339388bfec5"
      },
      "outputs": [
        {
          "data": {
            "text/plain": [
              "list"
            ]
          },
          "execution_count": 3,
          "metadata": {},
          "output_type": "execute_result"
        }
      ],
      "source": [
        "type(l1)"
      ]
    },
    {
      "cell_type": "code",
      "execution_count": 4,
      "id": "UKxQmGr04SFq",
      "metadata": {
        "id": "UKxQmGr04SFq"
      },
      "outputs": [],
      "source": [
        "d1 = {'name': 'Fabrizio', 'age': 59}"
      ]
    },
    {
      "cell_type": "code",
      "execution_count": 5,
      "id": "qGGgDVnl6NUM",
      "metadata": {
        "colab": {
          "base_uri": "https://localhost:8080/"
        },
        "id": "qGGgDVnl6NUM",
        "outputId": "f2e14eaa-0c09-430b-a0de-b52c24f138bc"
      },
      "outputs": [
        {
          "data": {
            "text/plain": [
              "dict"
            ]
          },
          "execution_count": 5,
          "metadata": {},
          "output_type": "execute_result"
        }
      ],
      "source": [
        "type(d1)"
      ]
    },
    {
      "cell_type": "markdown",
      "id": "5VP7TNb16Om0",
      "metadata": {
        "id": "5VP7TNb16Om0"
      },
      "source": [
        "Il tipo di delimitatore dei caratteri viene interpretato da Python come un'indicazione del tipo di dato:\n",
        "- `' '` o `\" \"` per le stringhe\n",
        "- `[ ]` per le liste\n",
        "- `{ }` per i dizionari\n",
        "\n",
        "Si possono usare le istruzioni di costruzione esplicitamente (ma non è frequente)"
      ]
    },
    {
      "cell_type": "code",
      "execution_count": 11,
      "id": "6f7ad393",
      "metadata": {},
      "outputs": [],
      "source": [
        "d2 = dict(primo=1, secondo=2)   # forse controintuitiva ..."
      ]
    },
    {
      "cell_type": "code",
      "execution_count": 13,
      "id": "2c7df7a5",
      "metadata": {},
      "outputs": [
        {
          "data": {
            "text/plain": [
              "{'primo': 1, 'secondo': 2}"
            ]
          },
          "execution_count": 13,
          "metadata": {},
          "output_type": "execute_result"
        }
      ],
      "source": [
        "d2"
      ]
    },
    {
      "cell_type": "markdown",
      "id": "f240d32c",
      "metadata": {},
      "source": [
        "## Operazioni sui tipi di dati"
      ]
    },
    {
      "cell_type": "markdown",
      "id": "42632cba",
      "metadata": {},
      "source": [
        "### Stringhe (sequenze di caratteri)"
      ]
    },
    {
      "cell_type": "markdown",
      "id": "14f0679a",
      "metadata": {},
      "source": [
        "Una stringa è una sequenza ordinata di caratteri. I singoli caratteri di una stringa sono numerati a partire da 0. La sintassi è `<nomestringa>[indice]`.\n",
        "\n",
        "**Le lettere maiuscole non sono uguali alle lettere minuscole.**"
      ]
    },
    {
      "cell_type": "code",
      "execution_count": 42,
      "id": "91846d17",
      "metadata": {},
      "outputs": [],
      "source": [
        "s1 = 'Fabrizio'"
      ]
    },
    {
      "cell_type": "code",
      "execution_count": 43,
      "id": "2f635001",
      "metadata": {},
      "outputs": [
        {
          "data": {
            "text/plain": [
              "'F'"
            ]
          },
          "execution_count": 43,
          "metadata": {},
          "output_type": "execute_result"
        }
      ],
      "source": [
        "s1[0]"
      ]
    },
    {
      "cell_type": "code",
      "execution_count": 44,
      "id": "5668daf7",
      "metadata": {},
      "outputs": [
        {
          "data": {
            "text/plain": [
              "'r'"
            ]
          },
          "execution_count": 44,
          "metadata": {},
          "output_type": "execute_result"
        }
      ],
      "source": [
        "s1[3]"
      ]
    },
    {
      "cell_type": "markdown",
      "id": "b30c647d",
      "metadata": {},
      "source": [
        "Si possono anche indicare più caratteri usando la sintassi cosiddetta *slicing\". \n",
        "\n",
        "La sintassi `<nomestringa>[indice_inizio:indice_fine]` rappresenta tutti i caratteri da quello di `indice_inizio` a quello **precedente** `indice_fine`. In questa maniera, la lunghezza della sequenza di caratteri è data dalla differenza tra `indice_inizio` e `indice_fine`."
      ]
    },
    {
      "cell_type": "code",
      "execution_count": 45,
      "id": "5348abe1",
      "metadata": {},
      "outputs": [
        {
          "data": {
            "text/plain": [
              "'abr'"
            ]
          },
          "execution_count": 45,
          "metadata": {},
          "output_type": "execute_result"
        }
      ],
      "source": [
        "s1[1:4] # dal secondo al quarto carattere (che ha indice 3)"
      ]
    },
    {
      "cell_type": "markdown",
      "id": "0cb45949",
      "metadata": {},
      "source": [
        "Gli indici possono anche essere negativi!"
      ]
    },
    {
      "cell_type": "code",
      "execution_count": 46,
      "id": "3b72807b",
      "metadata": {},
      "outputs": [
        {
          "data": {
            "text/plain": [
              "'o'"
            ]
          },
          "execution_count": 46,
          "metadata": {},
          "output_type": "execute_result"
        }
      ],
      "source": [
        "s1[-1]"
      ]
    },
    {
      "cell_type": "code",
      "execution_count": 47,
      "id": "ab2914d3",
      "metadata": {},
      "outputs": [
        {
          "data": {
            "text/plain": [
              "'zi'"
            ]
          },
          "execution_count": 47,
          "metadata": {},
          "output_type": "execute_result"
        }
      ],
      "source": [
        "s1[-3:-1]"
      ]
    },
    {
      "cell_type": "code",
      "execution_count": 48,
      "id": "78f3ccc5",
      "metadata": {},
      "outputs": [
        {
          "data": {
            "text/plain": [
              "'zio'"
            ]
          },
          "execution_count": 48,
          "metadata": {},
          "output_type": "execute_result"
        }
      ],
      "source": [
        "s1[-3:]"
      ]
    },
    {
      "cell_type": "code",
      "execution_count": 49,
      "id": "d178cd80",
      "metadata": {},
      "outputs": [
        {
          "data": {
            "text/plain": [
              "'rizio'"
            ]
          },
          "execution_count": 49,
          "metadata": {},
          "output_type": "execute_result"
        }
      ],
      "source": [
        "s1[3:]"
      ]
    },
    {
      "cell_type": "code",
      "execution_count": 50,
      "id": "ae668298",
      "metadata": {},
      "outputs": [
        {
          "data": {
            "text/plain": [
              "'Fab'"
            ]
          },
          "execution_count": 50,
          "metadata": {},
          "output_type": "execute_result"
        }
      ],
      "source": [
        "s1[:3]"
      ]
    },
    {
      "cell_type": "markdown",
      "id": "cf4242f8",
      "metadata": {},
      "source": [
        "## Operazioni con le stringhe"
      ]
    },
    {
      "cell_type": "markdown",
      "id": "f845035e",
      "metadata": {},
      "source": [
        "### Concatenazione"
      ]
    },
    {
      "cell_type": "code",
      "execution_count": 2,
      "id": "fe3fc76c",
      "metadata": {},
      "outputs": [
        {
          "data": {
            "text/plain": [
              "'FabrizioIozzi'"
            ]
          },
          "execution_count": 2,
          "metadata": {},
          "output_type": "execute_result"
        }
      ],
      "source": [
        "s1 = 'Fabrizio'\n",
        "s2 = 'Iozzi'\n",
        "s3 = s1 + s2\n",
        "s3"
      ]
    },
    {
      "cell_type": "code",
      "execution_count": 3,
      "id": "bf434aae",
      "metadata": {},
      "outputs": [],
      "source": [
        "s3 = s1 + ' ' + s2"
      ]
    },
    {
      "cell_type": "code",
      "execution_count": 4,
      "id": "abe1089a",
      "metadata": {},
      "outputs": [
        {
          "data": {
            "text/plain": [
              "'Fabrizio Iozzi'"
            ]
          },
          "execution_count": 4,
          "metadata": {},
          "output_type": "execute_result"
        }
      ],
      "source": [
        "s3"
      ]
    },
    {
      "cell_type": "markdown",
      "id": "4c0c9410",
      "metadata": {},
      "source": [
        "### Lunghezza di una stringa"
      ]
    },
    {
      "cell_type": "code",
      "execution_count": 5,
      "id": "77008b46",
      "metadata": {},
      "outputs": [
        {
          "data": {
            "text/plain": [
              "8"
            ]
          },
          "execution_count": 5,
          "metadata": {},
          "output_type": "execute_result"
        }
      ],
      "source": [
        "len(s1)"
      ]
    },
    {
      "cell_type": "code",
      "execution_count": 6,
      "id": "819ea100",
      "metadata": {},
      "outputs": [
        {
          "data": {
            "text/plain": [
              "14"
            ]
          },
          "execution_count": 6,
          "metadata": {},
          "output_type": "execute_result"
        }
      ],
      "source": [
        "len(s3)"
      ]
    },
    {
      "cell_type": "markdown",
      "id": "f838fc86",
      "metadata": {},
      "source": [
        "`len` è un operatore che funziona su diversi elementi, non solo sulle stringhe. Lo vedremo su liste e dizionari"
      ]
    },
    {
      "cell_type": "markdown",
      "id": "6d00549e",
      "metadata": {},
      "source": [
        "## Metodi delle stringhe"
      ]
    },
    {
      "cell_type": "code",
      "execution_count": 7,
      "id": "af10f943",
      "metadata": {},
      "outputs": [
        {
          "data": {
            "text/plain": [
              "'Fabrizio'"
            ]
          },
          "execution_count": 7,
          "metadata": {},
          "output_type": "execute_result"
        }
      ],
      "source": [
        "s1"
      ]
    },
    {
      "cell_type": "code",
      "execution_count": 8,
      "id": "8caa95cf",
      "metadata": {},
      "outputs": [
        {
          "data": {
            "text/plain": [
              "'FABRIZIO'"
            ]
          },
          "execution_count": 8,
          "metadata": {},
          "output_type": "execute_result"
        }
      ],
      "source": [
        "s1.upper()"
      ]
    },
    {
      "cell_type": "markdown",
      "id": "572a7c65",
      "metadata": {},
      "source": [
        "I *metodi* sono `funzioni`, nel senso matematico del termine. C'è un input (qualche volta implicito) e c'è un output. Una buona analogia sono le funzioni di Excel. Se nella cella A2 mettiamo la formula `=SOMMA(B1;B3;B4)` la cella A2 conterrà la somma dei contenuti di B1, B3 e B4. B1, B3 e B4 sono gli input e l'output della funzione, che è la somma, viene \"restituito\" e inserito nella cella A2.\n",
        "\n",
        "Analogamente, in Python i metodi sono funzioni. Come tali **devono** avere una coppia di parentesi `()`. All'interno delle parentesi c'è l'input della funzione che \"restituisce\" l'output che produce.\n",
        "\n",
        "Nel caso precedente, l'input è implicito, perché la funzione viene chiamata con la sintassi `<oggetto>.<metodo>`, e il metodo (che trasforma una stringa nella stessa stringa con tutte maiuscole) agisce sull'oggetto, la stringa `s1`."
      ]
    },
    {
      "cell_type": "code",
      "execution_count": 9,
      "id": "a70b6df2",
      "metadata": {},
      "outputs": [
        {
          "data": {
            "text/plain": [
              "'Fabrizio'"
            ]
          },
          "execution_count": 9,
          "metadata": {},
          "output_type": "execute_result"
        }
      ],
      "source": [
        "s1"
      ]
    },
    {
      "cell_type": "markdown",
      "id": "cee84cce",
      "metadata": {},
      "source": [
        "La stringa `s1` non è cambiata. La funzione prende il contenuto di `s1` e restituisce la versione maiuscola ma *non c'è nessun oggetto a \"raccogliere\" il risultato restituito dalla funzione*.\n",
        "\n",
        "Se si vuole rendere la stringa `s1` tutta maiuscola si può scrivere"
      ]
    },
    {
      "cell_type": "code",
      "execution_count": 10,
      "id": "dce4f021",
      "metadata": {},
      "outputs": [],
      "source": [
        "s1 = s1.upper()"
      ]
    },
    {
      "cell_type": "code",
      "execution_count": 11,
      "id": "bc75b198",
      "metadata": {},
      "outputs": [
        {
          "data": {
            "text/plain": [
              "'FABRIZIO'"
            ]
          },
          "execution_count": 11,
          "metadata": {},
          "output_type": "execute_result"
        }
      ],
      "source": [
        "s1"
      ]
    },
    {
      "cell_type": "markdown",
      "id": "62cf3fbc",
      "metadata": {},
      "source": [
        "oppure si può assegnare il risultato ad un'altra stringa"
      ]
    },
    {
      "cell_type": "code",
      "execution_count": 12,
      "id": "690a7e6a",
      "metadata": {},
      "outputs": [
        {
          "data": {
            "text/plain": [
              "'FABRIZIO'"
            ]
          },
          "execution_count": 12,
          "metadata": {},
          "output_type": "execute_result"
        }
      ],
      "source": [
        "s1 = 'Fabrizio'\n",
        "s2 = s1.upper()\n",
        "s2"
      ]
    },
    {
      "cell_type": "markdown",
      "id": "0769364d",
      "metadata": {},
      "source": [
        "e in questo modo `s1` non viene modificata"
      ]
    },
    {
      "cell_type": "code",
      "execution_count": 13,
      "id": "ad20fbe8",
      "metadata": {},
      "outputs": [
        {
          "data": {
            "text/plain": [
              "'Fabrizio'"
            ]
          },
          "execution_count": 13,
          "metadata": {},
          "output_type": "execute_result"
        }
      ],
      "source": [
        "s1"
      ]
    },
    {
      "cell_type": "markdown",
      "id": "62462e79",
      "metadata": {},
      "source": [
        "### Che cosa si può fare con le stringhe?"
      ]
    },
    {
      "cell_type": "markdown",
      "id": "a19400ad",
      "metadata": {},
      "source": [
        "Gli oggetti di tipo stringa hanno numerosi metodi. L'elenco completo è [qui](https://docs.python.org/3/library/stdtypes.html#text-sequence-type-str).\n",
        "\n",
        "Vediamone alcuni."
      ]
    },
    {
      "cell_type": "code",
      "execution_count": 17,
      "id": "4a4c1a5e",
      "metadata": {},
      "outputs": [
        {
          "data": {
            "text/plain": [
              "6"
            ]
          },
          "execution_count": 17,
          "metadata": {},
          "output_type": "execute_result"
        }
      ],
      "source": [
        "s3 = \"Alice was beginning to get very tired of sitting by her sister on the bank\"\n",
        "s3.find('was')"
      ]
    },
    {
      "cell_type": "code",
      "execution_count": 18,
      "id": "a8d234d1",
      "metadata": {},
      "outputs": [
        {
          "data": {
            "text/plain": [
              "52"
            ]
          },
          "execution_count": 18,
          "metadata": {},
          "output_type": "execute_result"
        }
      ],
      "source": [
        "s3.index('h')"
      ]
    },
    {
      "cell_type": "code",
      "execution_count": 19,
      "id": "82fe0dc8",
      "metadata": {},
      "outputs": [
        {
          "data": {
            "text/plain": [
              "6"
            ]
          },
          "execution_count": 19,
          "metadata": {},
          "output_type": "execute_result"
        }
      ],
      "source": [
        "s3.index('was')"
      ]
    },
    {
      "cell_type": "markdown",
      "id": "93bfa0f7",
      "metadata": {},
      "source": [
        "I due metodi sono uguali? Praticamente sì. L'unica eccezione è che nel caso in cui la stringa non viene trovata si comportano in modo diverso."
      ]
    },
    {
      "cell_type": "code",
      "execution_count": 20,
      "id": "1d78eb18",
      "metadata": {},
      "outputs": [
        {
          "ename": "ValueError",
          "evalue": "substring not found",
          "output_type": "error",
          "traceback": [
            "\u001b[1;31m---------------------------------------------------------------------------\u001b[0m",
            "\u001b[1;31mValueError\u001b[0m                                Traceback (most recent call last)",
            "Cell \u001b[1;32mIn[20], line 1\u001b[0m\n\u001b[1;32m----> 1\u001b[0m \u001b[43ms3\u001b[49m\u001b[38;5;241;43m.\u001b[39;49m\u001b[43mindex\u001b[49m\u001b[43m(\u001b[49m\u001b[38;5;124;43m'\u001b[39;49m\u001b[38;5;124;43mFabrizio\u001b[39;49m\u001b[38;5;124;43m'\u001b[39;49m\u001b[43m)\u001b[49m\n",
            "\u001b[1;31mValueError\u001b[0m: substring not found"
          ]
        }
      ],
      "source": [
        "s3.index('Fabrizio')"
      ]
    },
    {
      "cell_type": "code",
      "execution_count": 21,
      "id": "258ae44a",
      "metadata": {},
      "outputs": [
        {
          "data": {
            "text/plain": [
              "-1"
            ]
          },
          "execution_count": 21,
          "metadata": {},
          "output_type": "execute_result"
        }
      ],
      "source": [
        "s3.find('Fabrizio')"
      ]
    },
    {
      "cell_type": "markdown",
      "id": "df403a5e",
      "metadata": {},
      "source": [
        "Se serve solo sapere se una stringa è contenuta in un'altra, si può esare `in`, il cui uso è molto frequente in questo e molti altri contesti. `in` restituisce un oggetto di tipo `Boolean`, cioè un valore `Vero` o `Falso`."
      ]
    },
    {
      "cell_type": "code",
      "execution_count": 23,
      "id": "f66c4402",
      "metadata": {},
      "outputs": [
        {
          "data": {
            "text/plain": [
              "False"
            ]
          },
          "execution_count": 23,
          "metadata": {},
          "output_type": "execute_result"
        }
      ],
      "source": [
        "'ab' in s3"
      ]
    },
    {
      "cell_type": "code",
      "execution_count": 24,
      "id": "65c798fc",
      "metadata": {},
      "outputs": [
        {
          "data": {
            "text/plain": [
              "True"
            ]
          },
          "execution_count": 24,
          "metadata": {},
          "output_type": "execute_result"
        }
      ],
      "source": [
        "'was' in s3"
      ]
    },
    {
      "cell_type": "code",
      "execution_count": 28,
      "id": "d8ccfae7",
      "metadata": {},
      "outputs": [
        {
          "data": {
            "text/plain": [
              "False"
            ]
          },
          "execution_count": 28,
          "metadata": {},
          "output_type": "execute_result"
        }
      ],
      "source": [
        "s3.isalpha() # Falso, perché ci sono gli spazi"
      ]
    },
    {
      "cell_type": "code",
      "execution_count": 29,
      "id": "b93b9c68",
      "metadata": {},
      "outputs": [
        {
          "data": {
            "text/plain": [
              "True"
            ]
          },
          "execution_count": 29,
          "metadata": {},
          "output_type": "execute_result"
        }
      ],
      "source": [
        "'Fabrizio'.isalpha()"
      ]
    },
    {
      "cell_type": "code",
      "execution_count": 30,
      "id": "2ed5782f",
      "metadata": {},
      "outputs": [
        {
          "data": {
            "text/plain": [
              "'Alice wAs beginning to get very tired of sitting by her sister on the bAnk'"
            ]
          },
          "execution_count": 30,
          "metadata": {},
          "output_type": "execute_result"
        }
      ],
      "source": [
        "s3.replace('a', 'A')"
      ]
    },
    {
      "cell_type": "code",
      "execution_count": 31,
      "id": "f0b53f67",
      "metadata": {},
      "outputs": [
        {
          "data": {
            "text/plain": [
              "'Alice was beginning to get very tired of sitting by her sister on the bank'"
            ]
          },
          "execution_count": 31,
          "metadata": {},
          "output_type": "execute_result"
        }
      ],
      "source": [
        "s3"
      ]
    },
    {
      "cell_type": "code",
      "execution_count": 32,
      "id": "c4125390",
      "metadata": {},
      "outputs": [
        {
          "data": {
            "text/plain": [
              "['Alice',\n",
              " 'was',\n",
              " 'beginning',\n",
              " 'to',\n",
              " 'get',\n",
              " 'very',\n",
              " 'tired',\n",
              " 'of',\n",
              " 'sitting',\n",
              " 'by',\n",
              " 'her',\n",
              " 'sister',\n",
              " 'on',\n",
              " 'the',\n",
              " 'bank']"
            ]
          },
          "execution_count": 32,
          "metadata": {},
          "output_type": "execute_result"
        }
      ],
      "source": [
        "s3.split()"
      ]
    },
    {
      "cell_type": "markdown",
      "id": "6bb464b9",
      "metadata": {},
      "source": [
        "`split` è un metodo che accetta come parametro una stringa da usare come separatore"
      ]
    },
    {
      "cell_type": "code",
      "execution_count": 33,
      "id": "50de1595",
      "metadata": {},
      "outputs": [
        {
          "data": {
            "text/plain": [
              "['Alice w',\n",
              " 's beginning to get very tired of sitting by her sister on the b',\n",
              " 'nk']"
            ]
          },
          "execution_count": 33,
          "metadata": {},
          "output_type": "execute_result"
        }
      ],
      "source": [
        "s3.split('a')"
      ]
    },
    {
      "cell_type": "code",
      "execution_count": 34,
      "id": "f322bd76",
      "metadata": {},
      "outputs": [
        {
          "data": {
            "text/plain": [
              "['02', 'Feb', '2024']"
            ]
          },
          "execution_count": 34,
          "metadata": {},
          "output_type": "execute_result"
        }
      ],
      "source": [
        "'02-Feb-2024'.split('-')"
      ]
    },
    {
      "cell_type": "markdown",
      "id": "56ac50c5",
      "metadata": {},
      "source": [
        "Scrivere `split()` vuol dire *non* indicare il separatore. La funzione manca di un parametro fondamentale e ne definisce uno per *default* (cioè per difetto, mancanza). "
      ]
    },
    {
      "cell_type": "code",
      "execution_count": 35,
      "id": "00e073b0",
      "metadata": {},
      "outputs": [
        {
          "data": {
            "text/plain": [
              "['Fabr', 'izio']"
            ]
          },
          "execution_count": 35,
          "metadata": {},
          "output_type": "execute_result"
        }
      ],
      "source": [
        "'Fabr    \\n    izio'.split()"
      ]
    },
    {
      "cell_type": "code",
      "execution_count": 37,
      "id": "84467fc7",
      "metadata": {},
      "outputs": [
        {
          "name": "stdout",
          "output_type": "stream",
          "text": [
            "Fabr    \n",
            "    izio\n"
          ]
        }
      ],
      "source": [
        "print('Fabr    \\n    izio')"
      ]
    },
    {
      "cell_type": "markdown",
      "id": "dc5b3b1d",
      "metadata": {},
      "source": [
        "### Intermezzo: la funzione print"
      ]
    },
    {
      "cell_type": "markdown",
      "id": "595e540d",
      "metadata": {},
      "source": [
        "La funzione `print` stampa il contenuto di uno o più oggetti. "
      ]
    },
    {
      "cell_type": "code",
      "execution_count": 38,
      "id": "f3451e34",
      "metadata": {},
      "outputs": [
        {
          "name": "stdout",
          "output_type": "stream",
          "text": [
            "3 Fabrizio 9\n"
          ]
        }
      ],
      "source": [
        "print(3, 'Fabrizio', 4+5)"
      ]
    },
    {
      "cell_type": "code",
      "execution_count": 41,
      "id": "50a01cf7",
      "metadata": {},
      "outputs": [
        {
          "name": "stdout",
          "output_type": "stream",
          "text": [
            "Istituto Universitario di Lingue Moderne\n"
          ]
        }
      ],
      "source": [
        "print('Istituto Universitario di Lingue Moderne')"
      ]
    },
    {
      "cell_type": "code",
      "execution_count": 40,
      "id": "a097b15e",
      "metadata": {},
      "outputs": [
        {
          "name": "stdout",
          "output_type": "stream",
          "text": [
            "La stringa s3 contiene: Alice was beginning to get very tired of sitting by her sister on the bank\n"
          ]
        }
      ],
      "source": [
        "print(f'La stringa s3 contiene: {s3}')"
      ]
    },
    {
      "cell_type": "markdown",
      "id": "07b47df2",
      "metadata": {},
      "source": [
        "### Il metodo strip"
      ]
    },
    {
      "cell_type": "code",
      "execution_count": 8,
      "id": "6d9da6fd",
      "metadata": {},
      "outputs": [],
      "source": [
        "stringa = \"\\n\\nCiao Fabrizio\\tIozzi\\nSei allo IULM!\\n\\n\""
      ]
    },
    {
      "cell_type": "code",
      "execution_count": 9,
      "id": "6ff1c35b",
      "metadata": {},
      "outputs": [
        {
          "name": "stdout",
          "output_type": "stream",
          "text": [
            "Inizio\n",
            "\n",
            "\n",
            "Ciao Fabrizio\tIozzi\n",
            "Sei allo IULM!\n",
            "\n",
            "\n",
            "Fine\n"
          ]
        }
      ],
      "source": [
        "print('Inizio')\n",
        "print(stringa)\n",
        "print('Fine')"
      ]
    },
    {
      "cell_type": "code",
      "execution_count": 10,
      "id": "6cf05ab9",
      "metadata": {},
      "outputs": [
        {
          "name": "stdout",
          "output_type": "stream",
          "text": [
            "Inizio\n",
            "Ciao Fabrizio\tIozzi\n",
            "Sei allo IULM!\n",
            "Fine\n"
          ]
        }
      ],
      "source": [
        "print('Inizio')\n",
        "print(stringa.strip())\n",
        "print('Fine')"
      ]
    },
    {
      "cell_type": "markdown",
      "id": "d4035a67",
      "metadata": {},
      "source": [
        "## Hacking London Tube"
      ]
    },
    {
      "cell_type": "markdown",
      "id": "274966c0",
      "metadata": {},
      "source": [
        "![Original London Tube](tube_before.jpg)"
      ]
    },
    {
      "cell_type": "markdown",
      "id": "192d1510",
      "metadata": {},
      "source": [
        "![London Tube Hacked](tube_after.jpg)"
      ]
    },
    {
      "cell_type": "code",
      "execution_count": null,
      "id": "b96dbe83",
      "metadata": {},
      "outputs": [
        {
          "name": "stdout",
          "output_type": "stream",
          "text": [
            "Obstruct the doors cause delay and be dangerous.\n",
            "Obstruct the doors cause delay and anger us.\n"
          ]
        }
      ],
      "source": [
        "tube_str = \"Obstructing the doors causes delay and can be dangerous.\"\n",
        "hacker_str1 = tube_str\n",
        "print(hacker_str1)\n"
      ]
    },
    {
      "cell_type": "markdown",
      "id": "66198bfb",
      "metadata": {},
      "source": [
        "### Esempio di un tipo di dati definito dall'utente"
      ]
    },
    {
      "cell_type": "code",
      "execution_count": null,
      "id": "55dbec04",
      "metadata": {},
      "outputs": [
        {
          "data": {
            "text/plain": [
              "'F'"
            ]
          },
          "metadata": {},
          "output_type": "display_data"
        }
      ],
      "source": [
        "s1[0]"
      ]
    },
    {
      "cell_type": "code",
      "execution_count": 25,
      "id": "ed28ed4a",
      "metadata": {},
      "outputs": [],
      "source": [
        "class Persona:\n",
        "    def __init__(self, cognome, nome, anno_di_nascita):\n",
        "        self.cognome = cognome\n",
        "        self.nome = nome\n",
        "        self.anno_di_nascita = anno_di_nascita\n",
        "    \n",
        "    def eta(self, anno_corrente):\n",
        "        return anno_corrente - self.anno_di_nascita\n",
        "\n",
        "p1 = Persona(cognome='Iozzi', nome='Fabrizio', anno_di_nascita=1964)\n"
      ]
    },
    {
      "cell_type": "code",
      "execution_count": 26,
      "id": "cac41316",
      "metadata": {},
      "outputs": [
        {
          "data": {
            "text/plain": [
              "'Iozzi'"
            ]
          },
          "execution_count": 26,
          "metadata": {},
          "output_type": "execute_result"
        }
      ],
      "source": [
        "p1.cognome"
      ]
    },
    {
      "cell_type": "code",
      "execution_count": 27,
      "id": "d116db46",
      "metadata": {},
      "outputs": [
        {
          "data": {
            "text/plain": [
              "'Fabrizio'"
            ]
          },
          "execution_count": 27,
          "metadata": {},
          "output_type": "execute_result"
        }
      ],
      "source": [
        "p1.nome"
      ]
    },
    {
      "cell_type": "code",
      "execution_count": 28,
      "id": "f1a6df31",
      "metadata": {},
      "outputs": [
        {
          "data": {
            "text/plain": [
              "60"
            ]
          },
          "execution_count": 28,
          "metadata": {},
          "output_type": "execute_result"
        }
      ],
      "source": [
        "p1.eta(2024)"
      ]
    },
    {
      "cell_type": "markdown",
      "id": "80ffbf2b",
      "metadata": {},
      "source": [
        "`cognome` e `nome` sono metodi del tipo `Persona`. `eta` è un metodo del tipo `Persona`."
      ]
    },
    {
      "cell_type": "markdown",
      "id": "b0a34d1c",
      "metadata": {},
      "source": []
    }
  ],
  "metadata": {
    "colab": {
      "provenance": []
    },
    "kernelspec": {
      "display_name": "Python 3 (ipykernel)",
      "language": "python",
      "name": "python3"
    },
    "language_info": {
      "codemirror_mode": {
        "name": "ipython",
        "version": 3
      },
      "file_extension": ".py",
      "mimetype": "text/x-python",
      "name": "python",
      "nbconvert_exporter": "python",
      "pygments_lexer": "ipython3",
      "version": "3.11.5"
    }
  },
  "nbformat": 4,
  "nbformat_minor": 5
}
