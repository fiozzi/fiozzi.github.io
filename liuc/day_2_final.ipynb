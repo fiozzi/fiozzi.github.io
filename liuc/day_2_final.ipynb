{
 "cells": [
  {
   "cell_type": "markdown",
   "metadata": {
    "editable": true,
    "slideshow": {
     "slide_type": ""
    },
    "tags": []
   },
   "source": [
    "# Programma Giorno 2\n",
    "\n",
    "- Control Flow\n",
    "- Conditionals\n",
    "- Loops\n",
    "- Dictionaries\n",
    "- Arguments of Functions\n",
    "- List comprehension\n",
    "- Sets\n",
    "- Reading and Writing Files (the hard way)"
   ]
  },
  {
   "cell_type": "markdown",
   "metadata": {},
   "source": [
    "# Control Flow\n",
    "\n",
    "In computer science, control flow (or flow of control) is the order in which individual statements, instructions or function calls of an imperative program are executed or evaluated. The emphasis on explicit control flow distinguishes an imperative programming language from a declarative programming language.\n",
    "[https://en.wikipedia.org/wiki/Control_flow](https://en.wikipedia.org/wiki/Control_flow)\n",
    "\n",
    "Essentially, a program should be able to \"decide\":\n",
    "- whether to execute a set of statements or not (*conditionals*)\n",
    "- repeat the execution of a set of statements a number of times (*loops*)\n",
    "\n"
   ]
  },
  {
   "cell_type": "markdown",
   "metadata": {},
   "source": [
    "# Boolean Expressions\n",
    "\n",
    "A boolean expression is an expression that is either ```True``` and ```False```. These are special values that belong to the type bool; they are not strings. \n",
    "\n"
   ]
  },
  {
   "cell_type": "code",
   "execution_count": 1,
   "metadata": {},
   "outputs": [
    {
     "data": {
      "text/plain": [
       "False"
      ]
     },
     "execution_count": 1,
     "metadata": {},
     "output_type": "execute_result"
    }
   ],
   "source": [
    "a = 3\n",
    "b = 5\n",
    "a == b"
   ]
  },
  {
   "cell_type": "code",
   "execution_count": 2,
   "metadata": {},
   "outputs": [
    {
     "data": {
      "text/plain": [
       "True"
      ]
     },
     "execution_count": 2,
     "metadata": {},
     "output_type": "execute_result"
    }
   ],
   "source": [
    "b - a == 2"
   ]
  },
  {
   "cell_type": "code",
   "execution_count": 3,
   "metadata": {},
   "outputs": [
    {
     "data": {
      "text/plain": [
       "bool"
      ]
     },
     "execution_count": 3,
     "metadata": {},
     "output_type": "execute_result"
    }
   ],
   "source": [
    "type(True)"
   ]
  },
  {
   "cell_type": "markdown",
   "metadata": {},
   "source": [
    "# What is True?\n",
    "\n",
    "Any object can be tested for truth value, for use in an `if` or `while` condition or as operand of the Boolean operations below.\n",
    "\n",
    "By default, an object is considered true unless its class defines either a `__bool__()` method that returns False or a `__len__()` method that returns zero, when called with the object. \n",
    "\n",
    "# What is False? \n",
    "\n",
    "Here are most of the built-in objects considered false:\n",
    "* constants defined to be false: `None` and `False`\n",
    "* zero of any numeric type: `0`, `0.0`, `0j`, `Decimal(0)`, `Fraction(0, 1)`\n",
    "* empty sequences and collections: `''`, `()`, `[]`, `{}`, `set()`, `range(0)`\n",
    "\n",
    "Operations and built-in functions that have a Boolean result always return `0` or `False` for false and `1` or `True` for true, unless otherwise stated. (Important exception: the Boolean operations `or` and `and` always return one of their operands.)"
   ]
  },
  {
   "cell_type": "code",
   "execution_count": 4,
   "metadata": {},
   "outputs": [
    {
     "data": {
      "text/plain": [
       "True"
      ]
     },
     "execution_count": 4,
     "metadata": {},
     "output_type": "execute_result"
    }
   ],
   "source": [
    "0 == False"
   ]
  },
  {
   "cell_type": "markdown",
   "metadata": {},
   "source": [
    "# Operators"
   ]
  },
  {
   "cell_type": "markdown",
   "metadata": {},
   "source": [
    "Numerical\n",
    "```python\n",
    "x == y               # x is equal to y\n",
    "x != y               # x is not equal to y\n",
    "x > y                # x is greater than y\n",
    "x < y                # x is less than y\n",
    "x >= y               # x is greater than or equal to y\n",
    "x <= y               # x is less than or equal to y\n",
    "```\n"
   ]
  },
  {
   "cell_type": "markdown",
   "metadata": {},
   "source": [
    "Logical\n",
    "\n",
    "`and`, `or`, `not`\n"
   ]
  },
  {
   "cell_type": "markdown",
   "metadata": {},
   "source": [
    "# Conditionals"
   ]
  },
  {
   "cell_type": "markdown",
   "metadata": {},
   "source": [
    "\n",
    "```python\n",
    "if condition_1:\n",
    "    statement_1a\n",
    "    ...\n",
    "elif condition_2:\n",
    "    statement_2a\n",
    "    ...\n",
    "else:\n",
    "    statement_3a\n",
    "    ...\n",
    "```\n",
    "- indented blocks are mutually exclusive (only one is executed)\n",
    "- ```elif``` and ```else``` are optional\n",
    "\n",
    "# Loops: While\n",
    "\n",
    "```python\n",
    "while <test>:\n",
    "    <statements>\n",
    "    if <test>: break        # exit loop now, skip else\n",
    "    if <test>: continue     # go to top of loop now\n",
    "else:\n",
    "    <statements>            # if we didn't hit a break\n",
    "```\n",
    "\n",
    "1. Determine whether the condition is true or false.\n",
    "1. If false, exit the while statement and continue execution at the next statement.\n",
    "1. If the condition is true, run the indented block and then go back to step 1.\n",
    "\n",
    "# Loops: For\n",
    "\n",
    "The Python for loop begins with a header line that specifies an assignment target (or targets), along with an object you want to step through. The header is followed by a block of indented statements, which you want to repeat:\n",
    "\n",
    "```python\n",
    "for <target> in <object>:   # assign object items to target\n",
    "    <statements>\n",
    "    if <test>: break        # exit loop now, skip else\n",
    "    if <test>: continue     # go to top of loop now\n",
    "else:\n",
    "    <statements>            # if we didn't hit a 'break'\n",
    "```\n"
   ]
  },
  {
   "cell_type": "code",
   "execution_count": 5,
   "metadata": {},
   "outputs": [
    {
     "name": "stdout",
     "output_type": "stream",
     "text": [
      "L1 evaluates as if it were True\n"
     ]
    }
   ],
   "source": [
    "L1 = [2,1,3]\n",
    "L2 = []\n",
    "if L1:\n",
    "    print('L1 evaluates as if it were True')\n",
    "if L2:\n",
    "    print('L2 evaluates as if it were True')\n"
   ]
  },
  {
   "cell_type": "code",
   "execution_count": 6,
   "metadata": {},
   "outputs": [
    {
     "name": "stdout",
     "output_type": "stream",
     "text": [
      "x is less than y\n"
     ]
    }
   ],
   "source": [
    "x = 3\n",
    "y = 5\n",
    "if x < y:\n",
    "    print('x is less than y')\n",
    "elif x > y:\n",
    "    print('x is greater than y')\n",
    "else:\n",
    "    print('x and y are equal')"
   ]
  },
  {
   "cell_type": "code",
   "execution_count": 7,
   "metadata": {},
   "outputs": [
    {
     "name": "stdout",
     "output_type": "stream",
     "text": [
      "10\n",
      "9\n",
      "8\n",
      "7\n",
      "6\n",
      "5\n",
      "4\n",
      "3\n",
      "2\n",
      "1\n",
      "Blastoff!\n"
     ]
    }
   ],
   "source": [
    "n = 10\n",
    "while n > 0:\n",
    "    print(n)\n",
    "    n = n - 1\n",
    "print('Blastoff!')"
   ]
  },
  {
   "cell_type": "markdown",
   "metadata": {},
   "source": [
    "# Loop special statements\n",
    "\n",
    "In Python:\n",
    "\n",
    "- `break` Jumps out of the closest enclosing loop (past the entire loop statement).\n",
    "- `continue` Jumps to the top of the closest enclosing loop (to the loop’s header line).\n",
    "- `pass` Does nothing at all: it’s an empty statement placeholder.\n",
    "- `loop else block` Run if and only if the loop is exited normally, that is, without hitting a break.\n",
    "\n",
    "# For as a sequence iterator\n",
    "\n",
    "The `for` loop is a generic **sequence iterator** in Python: it can step through the items in any object that responds to the sequence indexing operation. The for works on strings, lists, tuples, and other objects.\n"
   ]
  },
  {
   "cell_type": "code",
   "execution_count": 8,
   "metadata": {},
   "outputs": [
    {
     "name": "stdout",
     "output_type": "stream",
     "text": [
      "0\n",
      "1\n",
      "4\n",
      "9\n",
      "16\n"
     ]
    }
   ],
   "source": [
    "for i in range(5):\n",
    "    print(i**2)\n"
   ]
  },
  {
   "cell_type": "markdown",
   "metadata": {},
   "source": [
    "A string is a sequence so you can use `for` to get one character at a time "
   ]
  },
  {
   "cell_type": "code",
   "execution_count": 9,
   "metadata": {},
   "outputs": [
    {
     "name": "stdout",
     "output_type": "stream",
     "text": [
      "D\n",
      "o\n",
      "n\n",
      "a\n",
      "l\n",
      "d\n",
      " \n",
      "D\n",
      "u\n",
      "c\n",
      "k\n"
     ]
    }
   ],
   "source": [
    "for char in 'Donald Duck':\n",
    "    print(char)"
   ]
  },
  {
   "cell_type": "markdown",
   "metadata": {},
   "source": [
    "# The Collatz Conjecture\n",
    "\n",
    "Start from any positive integer *n*. At every step do one of the following to get a new number:\n",
    "- if the number is even, divide it by two\n",
    "- if the number is odd, multiply it by three and add 1\n",
    "\n",
    "For example, say you start from 6. 6 is even, so the next number is 6/2=3. 3 is odd so we multiply it by 3 and add 1 to get 10. 10 is even, we get 5. 5 is odd, so we get 16. Then we divide by 2, to get 8. Then again we divide by 2, to get 4 and from 4 we get 2, then 1, then back to 4 and we end up in a cycle 4, 2, 1.\n",
    "\n",
    "The Collatz Conjecture says that no matter the number you start from, you will end up in the 4, 2, 1 cycle.\n",
    "\n",
    "The conjecture is still such, no one knows whether it is true or not.\n",
    "\n",
    "Write a code to test the sequence generated by a generic number *n*."
   ]
  },
  {
   "cell_type": "code",
   "execution_count": 10,
   "metadata": {},
   "outputs": [
    {
     "name": "stdout",
     "output_type": "stream",
     "text": [
      "22\n",
      "11\n",
      "34\n",
      "17\n",
      "52\n",
      "26\n",
      "13\n",
      "40\n",
      "20\n",
      "10\n",
      "5\n",
      "16\n",
      "8\n",
      "4\n",
      "2\n",
      "1\n"
     ]
    }
   ],
   "source": [
    "n = 22\n",
    "print(n)\n",
    "while n != 1:\n",
    "    if n % 2 == 0:\n",
    "        n = n//2\n",
    "    else:\n",
    "        n = 3*n + 1\n",
    "    print(n)\n"
   ]
  },
  {
   "cell_type": "markdown",
   "metadata": {},
   "source": [
    "# Finding the first negative element in a list\n",
    "\n",
    "Say we have a list `L` and we’re looking for the index of the first negative element of the list. Our code is:"
   ]
  },
  {
   "cell_type": "code",
   "execution_count": 11,
   "metadata": {},
   "outputs": [
    {
     "name": "stdout",
     "output_type": "stream",
     "text": [
      "2\n"
     ]
    }
   ],
   "source": [
    "L = [1, 2, -3, -6, 4]\n",
    "i = 0\n",
    "while L[i] >= 0:\n",
    "    i = i + 1\n",
    "print(i)\n"
   ]
  },
  {
   "cell_type": "markdown",
   "metadata": {},
   "source": [
    "The code works, even if the negative element is the first of the list. However, it is not correct. Why?"
   ]
  },
  {
   "cell_type": "markdown",
   "metadata": {},
   "source": [
    "Because, if the list has no negative elements, then it raises an exception."
   ]
  },
  {
   "cell_type": "code",
   "execution_count": 12,
   "metadata": {},
   "outputs": [
    {
     "ename": "IndexError",
     "evalue": "list index out of range",
     "output_type": "error",
     "traceback": [
      "\u001b[1;31m---------------------------------------------------------------------------\u001b[0m",
      "\u001b[1;31mIndexError\u001b[0m                                Traceback (most recent call last)",
      "Cell \u001b[1;32mIn[12], line 3\u001b[0m\n\u001b[0;32m      1\u001b[0m L \u001b[38;5;241m=\u001b[39m [\u001b[38;5;241m1\u001b[39m, \u001b[38;5;241m2\u001b[39m, \u001b[38;5;241m3\u001b[39m, \u001b[38;5;241m6\u001b[39m, \u001b[38;5;241m4\u001b[39m]\n\u001b[0;32m      2\u001b[0m i \u001b[38;5;241m=\u001b[39m \u001b[38;5;241m0\u001b[39m\n\u001b[1;32m----> 3\u001b[0m \u001b[38;5;28;01mwhile\u001b[39;00m \u001b[43mL\u001b[49m\u001b[43m[\u001b[49m\u001b[43mi\u001b[49m\u001b[43m]\u001b[49m \u001b[38;5;241m>\u001b[39m\u001b[38;5;241m=\u001b[39m \u001b[38;5;241m0\u001b[39m:\n\u001b[0;32m      4\u001b[0m     i \u001b[38;5;241m=\u001b[39m i \u001b[38;5;241m+\u001b[39m \u001b[38;5;241m1\u001b[39m\n\u001b[0;32m      5\u001b[0m \u001b[38;5;28mprint\u001b[39m(i)\n",
      "\u001b[1;31mIndexError\u001b[0m: list index out of range"
     ]
    }
   ],
   "source": [
    "L = [1, 2, 3, 6, 4]\n",
    "i = 0\n",
    "while L[i] >= 0:\n",
    "    i = i + 1\n",
    "print(i)\n"
   ]
  },
  {
   "cell_type": "markdown",
   "metadata": {},
   "source": [
    "We can modify this by adding a condition that guarantees we are not out of range."
   ]
  },
  {
   "cell_type": "code",
   "execution_count": 13,
   "metadata": {},
   "outputs": [
    {
     "name": "stdout",
     "output_type": "stream",
     "text": [
      "No negative elements\n"
     ]
    }
   ],
   "source": [
    "L = [1, 22, 3, 4, 6]\n",
    "i = 0\n",
    "while i < len(L) and L[i] >= 0:   # short-circuiting\n",
    "    i = i + 1\n",
    "if i < len(L):\n",
    "    print(i)\n",
    "else:\n",
    "    print('No negative elements')"
   ]
  },
  {
   "cell_type": "markdown",
   "metadata": {},
   "source": [
    "Rewriting the \"find the negative element\" with for. A list is an iterable ..."
   ]
  },
  {
   "cell_type": "code",
   "execution_count": 14,
   "metadata": {},
   "outputs": [
    {
     "name": "stdout",
     "output_type": "stream",
     "text": [
      "-3\n"
     ]
    }
   ],
   "source": [
    "L1 = [1, 22, -3, 4, -6]\n",
    "found = False   # flag\n",
    "for el in L1:\n",
    "    if (not found) and el < 0:\n",
    "        print(el)\n",
    "        found = True\n",
    "if not found:\n",
    "    print('No negative elements')"
   ]
  },
  {
   "cell_type": "markdown",
   "metadata": {},
   "source": [
    "But we want the index, not the element ..."
   ]
  },
  {
   "cell_type": "code",
   "execution_count": 15,
   "metadata": {},
   "outputs": [
    {
     "name": "stdout",
     "output_type": "stream",
     "text": [
      "2\n"
     ]
    }
   ],
   "source": [
    "L1 = [1, 22, -3, 4, -6]\n",
    "found = False   # flag\n",
    "i = 0\n",
    "for el in L1:\n",
    "    if (not found) and el < 0:\n",
    "        print(i)\n",
    "        found = True\n",
    "    i = i + 1\n",
    "if not found:\n",
    "    print('No negative elements')"
   ]
  },
  {
   "cell_type": "markdown",
   "metadata": {},
   "source": [
    "Better solution:"
   ]
  },
  {
   "cell_type": "code",
   "execution_count": 17,
   "metadata": {},
   "outputs": [
    {
     "name": "stdout",
     "output_type": "stream",
     "text": [
      "2\n"
     ]
    }
   ],
   "source": [
    "L1 = [1, 22, -3, 4, -6]\n",
    "found = False   # flag\n",
    "for indice, elemento in enumerate(L1):\n",
    "    if (not found) and elemento < 0:\n",
    "        print(indice)\n",
    "        found = True\n",
    "if not found:\n",
    "    print('No negative elements')"
   ]
  },
  {
   "cell_type": "markdown",
   "metadata": {},
   "source": [
    "With break statement"
   ]
  },
  {
   "cell_type": "code",
   "execution_count": null,
   "metadata": {},
   "outputs": [],
   "source": [
    "L1 = [1, 22, -3, 4, -6]\n",
    "not_found = True   # flag\n",
    "for i, el in enumerate(L1):\n",
    "    if not_found and el < 0:\n",
    "        print(i)\n",
    "        not_found = False\n",
    "        break\n",
    "if not_found:\n",
    "    print('No negative elements')"
   ]
  },
  {
   "cell_type": "markdown",
   "metadata": {},
   "source": [
    "Apparently, nothing has changed. However, in the last format we are performing the exact number of needed iterations (three, in this case). The scan of the list stops when the first negative element is seen."
   ]
  },
  {
   "cell_type": "markdown",
   "metadata": {},
   "source": [
    "A better version?"
   ]
  },
  {
   "cell_type": "code",
   "execution_count": 18,
   "metadata": {},
   "outputs": [
    {
     "name": "stdout",
     "output_type": "stream",
     "text": [
      "2\n"
     ]
    }
   ],
   "source": [
    "L1 = [1, 22, -3, 4, -6]\n",
    "for i, el in enumerate(L1):\n",
    "    if el < 0:\n",
    "        print(i)\n",
    "        break\n",
    "else:\n",
    "    print('No negative elements')"
   ]
  },
  {
   "cell_type": "markdown",
   "metadata": {},
   "source": [
    "The above version does not need the flag. However, the usage (and meaning) of the `else` clause in the for loop (and in the while loop) is known to be confusing to someone."
   ]
  },
  {
   "cell_type": "markdown",
   "metadata": {},
   "source": [
    "## Dictionaries\n",
    "\n",
    "Dictionaries are **mutable** collections of key-value pairs  They exist in other languages and are also called maps or “associative arrays”.\n",
    "In Python they are enclosed by braces. Every pair, called item, contains a key and a value."
   ]
  },
  {
   "cell_type": "code",
   "execution_count": 19,
   "metadata": {},
   "outputs": [
    {
     "name": "stdout",
     "output_type": "stream",
     "text": [
      "Donald\n",
      "Duck\n"
     ]
    }
   ],
   "source": [
    "d1 = {'first_name': 'Donald', 'last_name': 'Duck'}\n",
    "print(d1['first_name'])     # Donald\n",
    "print(d1['last_name'])      # DUck"
   ]
  },
  {
   "cell_type": "markdown",
   "metadata": {},
   "source": [
    "The syntax is that of lists, but now you have a key (that can be any immutable)\n",
    "instead of an index (that must be an integer)\n",
    "\n",
    "You may change, add and remove items using the same syntax.\n",
    "\n",
    "`get` method returns the value, given the key.\n",
    "`pop` method returns the value, given the key, and removes the item.\n",
    "\n"
   ]
  },
  {
   "cell_type": "code",
   "execution_count": 26,
   "metadata": {},
   "outputs": [
    {
     "name": "stdout",
     "output_type": "stream",
     "text": [
      "Donald\n",
      "Duck\n",
      "{'first_name': 'Donald', 'last_name': 'Duck', 'birth_year': 1931}\n",
      "{'first_name': 'Donald', 'last_name': 'Duck', 'birth_year': 1932}\n",
      "{'first_name': 'Donald', 'last_name': 'Duck'}\n",
      "{'first_name': 'Donald', 'last_name': 'Duck', 'birth_year': 1931}\n"
     ]
    }
   ],
   "source": [
    "d1 = {'first_name': 'Donald', 'last_name': 'Duck'}\n",
    "print(d1['first_name'])     # Donald\n",
    "print(d1['last_name'])      # Duck\n",
    "\n",
    "d1['birth_year'] = 1931\n",
    "print(d1)\n",
    "d1['birth_year'] = 1932\n",
    "print(d1)\n",
    "del(d1['birth_year'])\n",
    "print(d1)\n",
    "d1['birth_year'] = 1931\n",
    "print(d1)"
   ]
  },
  {
   "cell_type": "code",
   "execution_count": 27,
   "metadata": {},
   "outputs": [
    {
     "name": "stdout",
     "output_type": "stream",
     "text": [
      "dict_keys(['first_name', 'last_name', 'birth_year'])\n",
      "dict_values(['Donald', 'Duck', 1931])\n",
      "dict_items([('first_name', 'Donald'), ('last_name', 'Duck'), ('birth_year', 1931)])\n",
      "Key: first_name -> Value: Donald\n",
      "Key: last_name -> Value: Duck\n",
      "Key: birth_year -> Value: 1931\n"
     ]
    },
    {
     "ename": "KeyError",
     "evalue": "'partner'",
     "output_type": "error",
     "traceback": [
      "\u001b[1;31m---------------------------------------------------------------------------\u001b[0m",
      "\u001b[1;31mKeyError\u001b[0m                                  Traceback (most recent call last)",
      "Cell \u001b[1;32mIn[27], line 8\u001b[0m\n\u001b[0;32m      5\u001b[0m \u001b[38;5;28;01mfor\u001b[39;00m k,v \u001b[38;5;129;01min\u001b[39;00m d1\u001b[38;5;241m.\u001b[39mitems():\n\u001b[0;32m      6\u001b[0m     \u001b[38;5;28mprint\u001b[39m(\u001b[38;5;124mf\u001b[39m\u001b[38;5;124m'\u001b[39m\u001b[38;5;124mKey: \u001b[39m\u001b[38;5;132;01m{\u001b[39;00mk\u001b[38;5;132;01m}\u001b[39;00m\u001b[38;5;124m -> Value: \u001b[39m\u001b[38;5;132;01m{\u001b[39;00mv\u001b[38;5;132;01m}\u001b[39;00m\u001b[38;5;124m'\u001b[39m)\n\u001b[1;32m----> 8\u001b[0m \u001b[38;5;28mprint\u001b[39m(\u001b[43md1\u001b[49m\u001b[43m[\u001b[49m\u001b[38;5;124;43m'\u001b[39;49m\u001b[38;5;124;43mpartner\u001b[39;49m\u001b[38;5;124;43m'\u001b[39;49m\u001b[43m]\u001b[49m)\n",
      "\u001b[1;31mKeyError\u001b[0m: 'partner'"
     ]
    }
   ],
   "source": [
    "print(d1.keys())\n",
    "print(d1.values())\n",
    "print(d1.items())\n",
    "\n",
    "for k,v in d1.items():\n",
    "    print(f'Key: {k} -> Value: {v}')\n",
    "\n",
    "print(d1['partner'])"
   ]
  },
  {
   "cell_type": "markdown",
   "metadata": {},
   "source": [
    "\n",
    "To avoid the above problem, one can use the method get. From [https://docs.python.org/3/library/stdtypes.html#mapping-types-dict](https://docs.python.org/3/library/stdtypes.html#mapping-types-dict)\n",
    ">get(key[, default])\n",
    ">\n",
    ">Return the value for key if key is in the dictionary, else default. If default is not given,  it defaults to None, so that this method never raises a KeyError.\n"
   ]
  },
  {
   "cell_type": "code",
   "execution_count": 28,
   "metadata": {},
   "outputs": [
    {
     "name": "stdout",
     "output_type": "stream",
     "text": [
      "Single\n",
      "{'first_name': 'Donald', 'last_name': 'Duck', 'birth_year': 1931}\n",
      "Donald\n",
      "Donald\n",
      "{'last_name': 'Duck', 'birth_year': 1931}\n"
     ]
    }
   ],
   "source": [
    "print(d1.get('partner','Single'))\n",
    "print(d1)\n",
    "print(d1.get('first_name','Unknown'))\n",
    "print(d1.pop('first_name','Unknown'))\n",
    "print(d1)\n"
   ]
  },
  {
   "cell_type": "markdown",
   "metadata": {
    "editable": true,
    "slideshow": {
     "slide_type": ""
    },
    "tags": []
   },
   "source": [
    "\n",
    "## More on Functions\n",
    "\n",
    "Functions are defined with the ```def``` statement.\n",
    "\n",
    "The first part of a function definition specifies the function name and parameter names that represent input values. The body of a function is a sequence of statements that execute when the function is called or applied. \n",
    "\n",
    "The standard naming convention for functions is to use lowercase letters with an underscore ( _ ) used as a word separator—for example, `read_data()`. If a function is not meant to be used directly because it’s a helper or some kind of internal implementation detail, its name usually has a single underscore prepended to it—for example, `_helper()`. These are only conventions, however. \n",
    "\n",
    "### Arguments\n",
    "\n",
    "Arguments are fully evaluated left-to-right before executing the function body. For example, `add(1+1, 2+2)` is first reduced to ```add(2, 4)``` before calling the function. The order and number of arguments must match the parameters given in the function definition. If a mismatch exists, a `TypeError` exception is raised. The structure of calling a function (such as the number of required arguments) is known as the function’s call signature.\n",
    "\n",
    "A function may have multiple `return` statements, but only one is executed.\n",
    "\n",
    "### Default arguments\n",
    "\n",
    "You can attach default values to function parameters by assigning values in the function definition. For example:\n",
    "\n"
   ]
  },
  {
   "cell_type": "code",
   "execution_count": 1,
   "metadata": {},
   "outputs": [
    {
     "name": "stdout",
     "output_type": "stream",
     "text": [
      "{'firstname': 'Mickey', 'lastname': 'Mouse', 'ug_university': 'NYU'}\n",
      "{'firstname': 'Minnie', 'lastname': 'Mouse', 'ug_university': 'Bocconi'}\n"
     ]
    }
   ],
   "source": [
    "def enroll_student(firstname, lastname, ug_university = 'Bocconi'):\n",
    "    d = {}\n",
    "    d['firstname'] = firstname    \n",
    "    d['lastname'] = lastname\n",
    "    d['ug_university'] = ug_university\n",
    "    return d\n",
    "\n",
    "d = enroll_student('Mickey', 'Mouse', 'NYU')\n",
    "print(d)\n",
    "d = enroll_student('Minnie', 'Mouse')\n",
    "print(d)\n"
   ]
  },
  {
   "cell_type": "markdown",
   "metadata": {},
   "source": [
    "### Defaults and optional parameters\n",
    "\n",
    "When a function defines a parameter with a default value, *that parameter, and all the parameters that follow it, are optional*. It is not possible to specify a parameter with no default value after any parameter with a default value.\n",
    "\n",
    "Another example with datetime objects.\n",
    "\n"
   ]
  },
  {
   "cell_type": "code",
   "execution_count": 44,
   "metadata": {},
   "outputs": [
    {
     "name": "stdout",
     "output_type": "stream",
     "text": [
      "<class 'datetime.datetime'>\n",
      "Sat 09 Dec 2023\n",
      "Sat 16 Sep 2023\n",
      "True\n",
      "True\n"
     ]
    }
   ],
   "source": [
    "import datetime\n",
    "\n",
    "str_date_1 = '09/12/2023'\n",
    "d = datetime.datetime.strptime(str_date_1, '%d/%m/%Y')\n",
    "print(type(d))\n",
    "print(d.strftime('%a %d %b %Y'))\n",
    "str_date_2 = '09/16/2023'\n",
    "d = datetime.datetime.strptime(str_date_2, '%m/%d/%Y')\n",
    "print(d.strftime('%a %d %b %Y'))\n",
    "\n",
    "def check_date(str_date, format = '%d/%m/%Y'):\n",
    "    try:\n",
    "        d = datetime.datetime.strptime(str_date, format)\n",
    "        return True\n",
    "    except ValueError:\n",
    "        return False\n",
    "\n",
    "print(check_date(str_date_1))\n",
    "print(check_date(str_date_2, format='%m/%d/%Y'))\n",
    "\n"
   ]
  },
  {
   "cell_type": "markdown",
   "metadata": {},
   "source": [
    "### Evaluation of Default Parameters\n",
    "\n",
    "Default parameter values **are evaluated once** when the function is first defined, *not each time the function is called*. This often leads to surprising behavior if mutable objects are used as a default.\n",
    "\n"
   ]
  },
  {
   "cell_type": "code",
   "execution_count": null,
   "metadata": {},
   "outputs": [],
   "source": [
    "def func(x, items=[]):\n",
    "    items.append(x)\n",
    "    return items\n",
    "\n",
    "print(func(1))\n",
    "print(func(2)) \n",
    "print(func(3)) "
   ]
  },
  {
   "cell_type": "markdown",
   "metadata": {},
   "source": [
    "Notice how the default argument retains the modifications made from previous invocations. To prevent this, it is better to use None and add a check.\n",
    "\n"
   ]
  },
  {
   "cell_type": "code",
   "execution_count": null,
   "metadata": {},
   "outputs": [],
   "source": [
    "def func(x, items=None):\n",
    "    if items is None:\n",
    "        items = []\n",
    "        items.append(x)\n",
    "    return items\n",
    "\n",
    "print(func(1))\n",
    "print(func(2)) \n",
    "print(func(3)) \n"
   ]
  },
  {
   "cell_type": "markdown",
   "metadata": {},
   "source": [
    "As a general practice, to avoid such surprises, only use immutable objects for default argument values—numbers, strings, Booleans, `None`, and so on.\n"
   ]
  },
  {
   "cell_type": "markdown",
   "metadata": {},
   "source": [
    "\n",
    "## Variable Number of Arguments\n",
    "\n",
    "A function can accept a variable number of arguments if an asterisk `*` is used as a prefix on the **last** parameter name. "
   ]
  },
  {
   "cell_type": "code",
   "execution_count": 58,
   "metadata": {},
   "outputs": [
    {
     "name": "stdout",
     "output_type": "stream",
     "text": [
      "<class 'tuple'>\n",
      "30\n",
      "300\n",
      "<class 'tuple'>\n",
      "20\n",
      "200\n",
      "<class 'tuple'>\n",
      "3\n",
      "4\n",
      "5\n",
      "120\n",
      "120\n",
      "6.164414002968976\n",
      "2\n"
     ]
    }
   ],
   "source": [
    "def product(first, *args):\n",
    "    result = first\n",
    "    print(type(args))\n",
    "    for x in args:\n",
    "        print(x)\n",
    "        result = result * x\n",
    "    return result\n",
    "import math\n",
    "def product_chiara(*args):\n",
    "    p = 1\n",
    "    for i in range(len(args)):\n",
    "        p = p * args[i]\n",
    "    return p\n",
    "\n",
    "r1 = product(10,30)\n",
    "print(r1)\n",
    "print(product(10, 20))\n",
    "print(product(2, 3, 4, 5))\n",
    "print(product_chiara(2, 3, 4, 5))\n",
    "\n",
    "def norm(*components):\n",
    "    sq = 0\n",
    "    for component in components:\n",
    "        sq = sq + component*component\n",
    "    return math.sqrt(sq)\n",
    "\n",
    "print(norm(0,4,3,2,3))\n",
    "\n",
    "def inner_product(v1, v2):\n",
    "    ip = 0\n",
    "    for component in zip(v1, v2):\n",
    "        ip = ip + component[0] * component[1]\n",
    "    return ip\n",
    "\n",
    "print(inner_product((1,2,3),(0,1,0)))"
   ]
  },
  {
   "cell_type": "markdown",
   "metadata": {},
   "source": [
    "In this case, all of the extra arguments are placed into the `args` variable as a *tuple*. You can then work with the arguments using the standard sequence operations—iteration, slicing, unpacking, and so on.\n",
    "\n"
   ]
  },
  {
   "cell_type": "code",
   "execution_count": 56,
   "metadata": {},
   "outputs": [
    {
     "name": "stdout",
     "output_type": "stream",
     "text": [
      "Costumer 1 from IT made the following purchases:\n",
      "1000 euro\n",
      "1500 euro\n",
      "Costumer 3 from DE made the following purchases:\n",
      "300 euro\n",
      "Costumer 8 from UK made the following purchases:\n",
      "100 euro\n",
      "1000 euro\n",
      "900 euro\n",
      "140 euro\n",
      "Country: Italy\n",
      "Milan\n",
      "Venice\n",
      "Florence\n",
      "Country: UK\n",
      "London\n",
      "Edinburgh\n",
      "Glasgow\n",
      "Manchester\n",
      "Oxford\n"
     ]
    }
   ],
   "source": [
    "# each of the following lists contains \n",
    "# the id of a customer\n",
    "# their country code\n",
    "# the amounts they spent\n",
    "c1 = [1, 'IT', 1000, 1500]\n",
    "c2 = [3, 'DE', 300]\n",
    "c3 = [8, 'UK', 100, 1000, 900, 140]\n",
    "\n",
    "def print_customer_data(cust_data):\n",
    "    cust_code, cust_country, *cust_purchases = cust_data\n",
    "    print(f'Costumer {cust_code} from {cust_country} made the following purchases:')\n",
    "    for purchase in cust_purchases:\n",
    "        print(f'{purchase} euro')\n",
    "\n",
    "print_customer_data(c1)\n",
    "print_customer_data(c2)\n",
    "print_customer_data(c3)\n",
    "\n",
    "def places(country, *cities):\n",
    "    print(f'Country: {country}')\n",
    "    for city in cities:\n",
    "        print(city)\n",
    "\n",
    "places('Italy', 'Milan', 'Venice', 'Florence')\n",
    "places('UK', 'London', 'Edinburgh', 'Glasgow', 'Manchester', 'Oxford')\n",
    "\n"
   ]
  },
  {
   "cell_type": "markdown",
   "metadata": {},
   "source": [
    "\n",
    "### Unpacking vs Slicing\n",
    "\n",
    "When you use tuples or lists on the left side of the `=`, Python pairs objects on the right side with targets on the left and assigns them from left to right.\n",
    "\n",
    "Combined with the asterisk, unpacking provides a sometimes better alternative to slicing.\n",
    "\n"
   ]
  },
  {
   "cell_type": "code",
   "execution_count": null,
   "metadata": {},
   "outputs": [],
   "source": [
    "ages = [0, 9, 4, 8, 7, 20, 19, 1, 6, 15]\n",
    "ages_descending = sorted(ages, reverse=True)\n",
    "\n",
    "# oldest, second_oldest = ages_descending\n",
    "#\n",
    "# does not work: the list on the right has more than 2 elements\n",
    "\n",
    "# with slicing\n",
    "oldest = ages_descending[0]\n",
    "second_oldest = ages_descending[1]\n",
    "others = ages_descending[2:]\n",
    "print(oldest, second_oldest, others)\n",
    "\n",
    "# with catch-all unpacking\n",
    "oldest, second_oldest, *others = ages_descending\n",
    "print(oldest, second_oldest, others)\n",
    "\n",
    "# variation\n",
    "oldest, *others, youngest = ages_descending\n",
    "print(oldest, youngest, others)\n"
   ]
  },
  {
   "cell_type": "markdown",
   "metadata": {},
   "source": [
    "### Positional vs Keyword\n",
    "\n",
    "Function arguments can be supplied by explicitly naming each parameter and specifying a value. \n",
    "\n",
    "These are known as **keyword arguments**.\n",
    "\n"
   ]
  },
  {
   "cell_type": "code",
   "execution_count": null,
   "metadata": {},
   "outputs": [],
   "source": [
    "def enroll_student(firstname, lastname, ug_university = 'Bocconi'):\n",
    "    d = {}\n",
    "    d['firstname'] = firstname    \n",
    "    d['lastname'] = lastname\n",
    "    d['ug_university'] = ug_university\n",
    "    return d\n",
    "\n",
    "d = enroll_student(firstname = 'Minnie', lastname = 'Mouse') \n",
    "print('in order, all kwargs, OK', d)\n",
    "\n",
    "d = enroll_student(lastname = 'Mouse', firstname = 'Minnie') \n",
    "print('not in order, all kwargs, OK', d)\n",
    "\n",
    "d = enroll_student('Minnie', lastname='Mouse') \n",
    "print('positional first, then kwargs, OK', d)\n",
    "\n",
    "d = enroll_student(firstname = 'Minnie', 'Mouse') \n",
    "print('kwargs first, then positional, ERROR', d)\n"
   ]
  },
  {
   "cell_type": "markdown",
   "metadata": {},
   "source": [
    "With keyword arguments, the order of the arguments doesn’t matter. \n",
    "\n",
    "If you omit any of the required arguments or if the name of a keyword doesn’t match any of the parameter names in the function definition, you get a TypeError.\n",
    "\n",
    "Positional arguments and keyword arguments can appear in the same function call, provided that \n",
    "- **all the positional arguments appear first**, \n",
    "- values are provided for all mandatory arguments, and \n",
    "- no argument receives more than one value. "
   ]
  },
  {
   "cell_type": "code",
   "execution_count": null,
   "metadata": {},
   "outputs": [],
   "source": [
    "def enroll_student(firstname, lastname, ug_university = 'Bocconi'):\n",
    "    d = {}\n",
    "    d['firstname'] = firstname    \n",
    "    d['lastname'] = lastname\n",
    "    d['ug_university'] = ug_university\n",
    "    return d\n",
    "\n",
    "d = enroll_student(firstname = 'Minnie', 'Mouse') \n",
    "print('kwargs first, then positional, ERROR', d)\n"
   ]
  },
  {
   "cell_type": "markdown",
   "metadata": {},
   "source": [
    "### Arbitrary arguments\n",
    "\n",
    "If the **last** argument of a function definition is prefixed with `**` (double asterisk), all the additional keyword arguments (those that don’t match any of the other parameter names) are placed in a dictionary and passed to the function. The order of items in this dictionary is guaranteed to match the order in which keyword arguments were provided.\n",
    "\n",
    "Arbitrary keyword arguments might be useful for defining functions that accept a large number of potentially open-ended configuration options that would be too unwieldy to list as parameters.\n",
    "\n",
    "\n",
    "\n"
   ]
  },
  {
   "cell_type": "code",
   "execution_count": null,
   "metadata": {},
   "outputs": [],
   "source": [
    "def video(title, **parms):\n",
    "    language = parms.pop('language', 'English')\n",
    "    color = parms.pop('color', 'color')\n",
    "    # No more options\n",
    "    if parms:\n",
    "        raise TypeError(f'Unsupported configuration options {list(parms)}')\n",
    "    return f'Title: {title}, language: {language}, {color}'\n",
    "\n",
    "print(video('Wile E Coyote'))\n",
    "print(video('The Third Man', color='b/w'))\n",
    "print(video('2001 A Space Odyssey', director='Kubrick'))\n"
   ]
  },
  {
   "cell_type": "markdown",
   "metadata": {},
   "source": [
    "## List comprehensions\n"
   ]
  },
  {
   "cell_type": "code",
   "execution_count": 61,
   "metadata": {},
   "outputs": [
    {
     "name": "stdout",
     "output_type": "stream",
     "text": [
      "[(1, 3), (1, 1), (1, 4), (2, 3), (2, 1), (2, 4), (3, 3), (3, 1), (3, 4)]\n",
      "[(1, 3), (1, 4), (2, 3), (2, 1), (2, 4), (3, 1), (3, 4)]\n",
      "[(1, 3), (1, 4), (2, 3), (2, 1), (2, 4), (3, 1), (3, 4)]\n"
     ]
    }
   ],
   "source": [
    "'''\n",
    "squares = []\n",
    "for x in range(10):\n",
    "    squares.append(x**2)\n",
    "\n",
    "print(squares)\n",
    "\n",
    "squares = [x**2 for x in range(10)]\n",
    "\n",
    "print(squares)\n",
    "'''\n",
    "c0 = [(x, y) for x in [1,2,3] for y in [3,1,4]]\n",
    "c1 = [(x, y) for x in [1,2,3] for y in [3,1,4] if x != y]\n",
    "\n",
    "c2 = []\n",
    "for x in [1,2,3]:\n",
    "    for y in [3,1,4]:\n",
    "        if x != y:\n",
    "            c2.append((x, y))\n",
    "\n",
    "print(c0)\n",
    "print(c1)\n",
    "print(c2)"
   ]
  },
  {
   "cell_type": "code",
   "execution_count": 62,
   "metadata": {},
   "outputs": [
    {
     "name": "stdout",
     "output_type": "stream",
     "text": [
      "[-8, -4, 0, 4, 8]\n",
      "[0, 2, 4]\n",
      "[4, 2, 0, 2, 4]\n",
      "['banana', 'loganberry', 'passion fruit']\n",
      "[(0, 0), (1, 1), (2, 4), (3, 9), (4, 16), (5, 25)]\n",
      "[1, 2, 3, 4, 5, 6, 7, 8, 9]\n"
     ]
    }
   ],
   "source": [
    "vec = [-4, -2, 0, 2, 4]\n",
    "# create a new list with the values doubled\n",
    "r1 = [x*2 for x in vec]\n",
    "print(r1)\n",
    "\n",
    "# filter the list to exclude negative numbers\n",
    "r2 = [x for x in vec if x >= 0]\n",
    "print(r2)\n",
    "\n",
    "# apply a function to all the elements\n",
    "r3 = [abs(x) for x in vec]\n",
    "print(r3)\n",
    "\n",
    "# call a method on each element\n",
    "fresh_fruit = ['  banana', '  loganberry ', 'passion fruit  ']\n",
    "r4 = [name.strip() for name in fresh_fruit]\n",
    "print(r4)\n",
    "\n",
    "# create a list of 2-tuples like (number, square)\n",
    "r5 = [(x, x**2) for x in range(6)]\n",
    "print(r5)\n",
    "\n",
    "# the tuple must be parenthesized, otherwise an error is raised\n",
    "\n",
    "# flatten a list using a listcomp with two 'for'\n",
    "vec = [[1,2,3], [4,5,6], [7,8,9]]\n",
    "r6 = [num for elem in vec for num in elem]\n",
    "print(r6)"
   ]
  },
  {
   "cell_type": "markdown",
   "metadata": {},
   "source": [
    "\n",
    "## Sets\n"
   ]
  },
  {
   "cell_type": "code",
   "execution_count": 66,
   "metadata": {},
   "outputs": [
    {
     "name": "stdout",
     "output_type": "stream",
     "text": [
      "{3, 1, 3.14, 55}\n",
      "{1, 3, 3.14, 'Goofy', 55}\n",
      "{1, 3, 3.14, 'Goofy', 55}\n",
      "[1, 3, 3, 5, 7, 8, 7]\n",
      "{1, 3, 5, 7, 8}\n",
      "[1, 3, 5, 7, 8]\n"
     ]
    }
   ],
   "source": [
    "A = {1, 3, 55, 3.14}\n",
    "print(A)\n",
    "\n",
    "A.add('Goofy')\n",
    "\n",
    "print(A)\n",
    "\n",
    "A.add(3)\n",
    "\n",
    "print(A)\n",
    "\n",
    "l1 = [1,3,3,5,7,8,7]\n",
    "print(l1)\n",
    "s1 = set(l1)\n",
    "print(s1)\n",
    "l2 = list(s1)\n",
    "print(l2)"
   ]
  },
  {
   "cell_type": "markdown",
   "metadata": {},
   "source": [
    "Seems it takes no time, but there is no magic: a check is done not to add the same element twice!"
   ]
  },
  {
   "cell_type": "code",
   "execution_count": null,
   "metadata": {},
   "outputs": [],
   "source": [
    "import numbers\n",
    "A = {1,-44, 3.14, 'Goofy'}\n",
    "for el in A:\n",
    "    if isinstance(el, numbers.Number) and el < 0:\n",
    "        print('A contains negative numbers!')\n",
    "\n",
    "\n",
    "B = set()\n",
    "\n",
    "B.add(5)\n",
    "\n",
    "print(B)\n"
   ]
  },
  {
   "cell_type": "markdown",
   "metadata": {},
   "source": [
    "Elements of a `set` cannot be mutable."
   ]
  },
  {
   "cell_type": "code",
   "execution_count": null,
   "metadata": {},
   "outputs": [],
   "source": [
    "A = {2,3,[1,2]}\n"
   ]
  },
  {
   "cell_type": "markdown",
   "metadata": {},
   "source": [
    "\n",
    "See also [https://en.wikipedia.org/wiki/Hash_function](https://en.wikipedia.org/wiki/Hash_function)\n",
    "\n",
    "Adding to a list performs slightly better than adding to a set (there's no need to hash new elements)\n"
   ]
  },
  {
   "cell_type": "code",
   "execution_count": 69,
   "metadata": {},
   "outputs": [
    {
     "data": {
      "text/plain": [
       "5.636775699999816"
      ]
     },
     "execution_count": 69,
     "metadata": {},
     "output_type": "execute_result"
    }
   ],
   "source": [
    "\n",
    "import timeit\n",
    "\n",
    "timeit.timeit(stmt='for i in range(n):' '   A.add(i)', setup='A = set(); n=1000', number=100000)\n",
    "\n",
    "timeit.timeit(stmt='for i in range(n):' '   B.append(i)', setup='B = list(); n=1000', number=100000)\n"
   ]
  },
  {
   "cell_type": "markdown",
   "metadata": {},
   "source": [
    "Comprehensions can generate also dictionaries and sets.\n",
    "\n"
   ]
  },
  {
   "cell_type": "code",
   "execution_count": null,
   "metadata": {},
   "outputs": [],
   "source": [
    "d = {(\"number\" + str(i)):i for i in range(10)}\n",
    "\n",
    "print(d)\n",
    "\n",
    "s = {i**2 for i in range(20)}\n",
    "print(s)\n"
   ]
  },
  {
   "cell_type": "markdown",
   "metadata": {},
   "source": [
    "### Random and Pseudo-Random Numbers in python\n",
    "\n",
    "- The `random` module\n",
    "- The `random.seed()` function. `seed(number)` initializes the random number generator to a specific \"seed\". The effect is that after calling `random.seed(N)`, the sequence of random numbers is the same on every machine (that is, it is not random at all!). \n",
    "- `seed` is crucial when evaluating the performance of a randomized algorithm. Without it, the sequence of random numbers given to algorithm A will be different from that given to algorithm B, making the comparison of the performances impossible.\n",
    "\n"
   ]
  },
  {
   "cell_type": "code",
   "execution_count": 71,
   "metadata": {},
   "outputs": [
    {
     "data": {
      "text/plain": [
       "[12, 13, 9, 26, 21, 8, 14, 5, 25, 27]"
      ]
     },
     "execution_count": 71,
     "metadata": {},
     "output_type": "execute_result"
    }
   ],
   "source": [
    "\n",
    "import random\n",
    "\n",
    "# random.random() generates a pseudo-random decimal number \n",
    "# uniformly distributed in the interval [0,1)\n",
    "random.random()\n",
    "\n",
    "# random.randint(a, b) generates a pseudo-random integer \n",
    "# uniformly distributed in the interval [a, b]\n",
    "random.randint(3,10)\n",
    "\n",
    "random.seed(10)\n",
    "\n",
    "random.random()\n",
    "\n",
    "# random.choices() draws k elements from a sequence (with replacement)\n",
    "random.choices(range(30), k=10)\n",
    "\n",
    "# with probabilities ...\n",
    "random.choices([100, 200, 300, 400], [30, 30, 30, 10], k=5)\n",
    "\n",
    "# random.sample() draws k elements from a sequence (without replacement)\n",
    "random.sample(range(30), k=10)\n"
   ]
  },
  {
   "cell_type": "markdown",
   "metadata": {},
   "source": [
    "# Reading/Writing Files"
   ]
  },
  {
   "cell_type": "markdown",
   "metadata": {},
   "source": [
    "For reading or writing a file, Python uses a `file object`. \n",
    "\n",
    "What you do is\n",
    "1. Open a communication channel with the file, obtaining a reference to a specific file object\n",
    "1. (read/write) Manipulate the content of that object via ad hoc functions\n",
    "1. Terminate the communication (that is, close the file object)\n",
    "\n",
    "Different Operating Systems (OSs) have a limitation on the number of files they can handle at the same time. The number is usually large but some slots are taken for the internal working of the OS and from the other programs. Bottom line: one should take care of point 3. above."
   ]
  },
  {
   "cell_type": "markdown",
   "metadata": {},
   "source": [
    "## Text and Binary files\n",
    "\n",
    "At the lowest level, Python works with two fundamental datatypes:\n",
    "- *bytes* that represent raw uninterpreted data of any kind and \n",
    "- *text* that represents Unicode characters."
   ]
  },
  {
   "cell_type": "markdown",
   "metadata": {},
   "source": [
    "# Finding files in a computer\n",
    "\n",
    "OSs organize files in a database called `file system`. Windows and MacOS have different file systems. Thus, the way a file can be referred to depends on the OS. In general, however, the database can be represented at a tree that creates a hierarchy.\n",
    "\n",
    "The way this hierarchy translates into a string, depends on the os. For example, the file *artists.txt* in the subdirecotry *datafiles* of the current directory, would be \n",
    "\n",
    "> *.\\datafiles\\artists.txt* \n",
    "\n",
    "in windows and\n",
    "\n",
    "> */datafiles/artists.txt* \n",
    "\n",
    "in MacOS (and linux too). \n",
    "\n",
    "Python provides a level of abstraction about the OS with the package os."
   ]
  },
  {
   "cell_type": "code",
   "execution_count": null,
   "metadata": {},
   "outputs": [],
   "source": [
    "import os\n",
    "print(os.getcwd())"
   ]
  },
  {
   "cell_type": "code",
   "execution_count": null,
   "metadata": {},
   "outputs": [],
   "source": [
    "filename = os.path.join(os.getcwd(),'data','bridges.data')\n",
    "print(filename)\n"
   ]
  },
  {
   "cell_type": "code",
   "execution_count": null,
   "metadata": {},
   "outputs": [],
   "source": [
    "# Read a text file all at once as a string\n",
    "input_file_name = os.path.join(os.getcwd(),'data','bridges.data')\n",
    "with open(input_file_name, 'rt') as input_file:\n",
    "    data = input_file.read()\n",
    "    print(data)"
   ]
  },
  {
   "cell_type": "code",
   "execution_count": null,
   "metadata": {},
   "outputs": [],
   "source": [
    "# Read a file line-by-line\n",
    "input_file_name = os.path.join(os.getcwd(),'data','bridges.data')\n",
    "with open(input_file_name, 'rt') as input_file:\n",
    "    for line in input_file:\n",
    "        print(line)\n",
    "        # do sth with line"
   ]
  },
  {
   "cell_type": "code",
   "execution_count": null,
   "metadata": {},
   "outputs": [],
   "source": [
    "# Write to a text file\n",
    "output_file_name = os.path.join(os.getcwd(),'data','out.txt')\n",
    "with open(output_file_name, 'wt') as output_file:\n",
    "    output_file.write('Some output\\n')\n",
    "    print('More output', file=output_file)"
   ]
  },
  {
   "cell_type": "code",
   "execution_count": null,
   "metadata": {
    "editable": true,
    "slideshow": {
     "slide_type": ""
    },
    "tags": []
   },
   "outputs": [],
   "source": [
    "# read from and write to a text file\n",
    "input_file_name = os.path.join(os.getcwd(),'data','bridges.data')\n",
    "output_file_name = os.path.join(os.getcwd(),'data','out.txt')\n",
    "with open(input_file_name, 'rt') as input_file, open(output_file_name, 'w') as output_file:\n",
    "    for line in input_file:\n",
    "        if line[:2] == 'E1':\n",
    "            # if line starts with 'E1', copy it to the output\n",
    "            output_file.writelines(line)\n"
   ]
  },
  {
   "cell_type": "markdown",
   "metadata": {},
   "source": [
    "To open a file, use the built-in `open()` function. Usually, `open()` is given a filename and a file mode. It is also often used in combination with the `with` statement as a *context manager*. \n",
    "\n",
    "When opening a file, you need to specify a file mode. The core file modes are **'r'** for reading, **'w'** for writing, and **'a'** for appending. 'w' mode replaces any existing file with new content. 'a' opens a file for writing and positions the file pointer to the end of the file so that new data can be appended.\n",
    "\n",
    "A special file mode of **'x'** can be used to write to a file, but only if it doesn't exist already. This is a useful way to prevent accidental overwriting of existing data. For this mode, a FileExistsError exception is raised if the file already exists."
   ]
  },
  {
   "cell_type": "markdown",
   "metadata": {},
   "source": [
    "# CSV module\n",
    "\n",
    "Rows in CSV files are naturally represented using dictionaries. Reading a csv file into an array of dictionaries is made easy through the csv module. \n",
    "\n",
    "The csv module defines two methods for the csv object: DictReader and DictWriter. See the documentation for the csv module, especially for the .reader and the DictReader functions:\n",
    "\n",
    "[https://docs.python.org/3/library/csv.html](https://docs.python.org/3/library/csv.html)\n"
   ]
  },
  {
   "cell_type": "code",
   "execution_count": 33,
   "metadata": {
    "editable": true,
    "slideshow": {
     "slide_type": ""
    },
    "tags": []
   },
   "outputs": [
    {
     "name": "stdout",
     "output_type": "stream",
     "text": [
      "C:\\github\\castellanza\\data\\Artists.txt\n",
      "<csv.DictReader object at 0x00000298F602AA80>\n",
      "[('Male', 9762), ('', 3141), ('Female', 2300), ('male', 15), ('Non-Binary', 2), ('female', 1), ('Non-binary', 1)]\n"
     ]
    }
   ],
   "source": [
    "import csv \n",
    "import os\n",
    "input_file_name = os.path.join(os.getcwd(),'data','Artists.txt')\n",
    "print(input_file_name)\n",
    "# nationality\n",
    "with open(input_file_name, encoding='utf-8') as f:\n",
    "    linereader = csv.DictReader(f, delimiter=',', quotechar='\"')\n",
    "    print(linereader)\n",
    "    gender = {}\n",
    "    for row in linereader:\n",
    "        if row['Gender'] in gender.keys():\n",
    "            gender[row['Gender']] = gender[row['Gender']] + 1\n",
    "        else:\n",
    "            gender[row['Gender']] = 1\n",
    "\n",
    "print(sorted(gender.items(), key=lambda item: item[1],reverse=True))\n"
   ]
  },
  {
   "cell_type": "markdown",
   "metadata": {
    "editable": true,
    "slideshow": {
     "slide_type": ""
    },
    "tags": []
   },
   "source": [
    "A similar method works for writing csv files. We can use the DictWriter function in the csv module. \n",
    "\n",
    "[https://docs.python.org/3/library/csv.html?highlight=dictwriter#csv.DictWriter](https://docs.python.org/3/library/csv.html?highlight=dictwriter#csv.DictWriter)"
   ]
  },
  {
   "cell_type": "code",
   "execution_count": 20,
   "metadata": {},
   "outputs": [],
   "source": [
    "l1 = [1,2,4]"
   ]
  },
  {
   "cell_type": "code",
   "execution_count": 21,
   "metadata": {},
   "outputs": [
    {
     "data": {
      "text/plain": [
       "[1, 2, 4]"
      ]
     },
     "execution_count": 21,
     "metadata": {},
     "output_type": "execute_result"
    }
   ],
   "source": [
    "l1"
   ]
  },
  {
   "cell_type": "code",
   "execution_count": 22,
   "metadata": {},
   "outputs": [],
   "source": [
    "l1.append(55)"
   ]
  },
  {
   "cell_type": "code",
   "execution_count": 23,
   "metadata": {},
   "outputs": [
    {
     "data": {
      "text/plain": [
       "[1, 2, 4, 55]"
      ]
     },
     "execution_count": 23,
     "metadata": {},
     "output_type": "execute_result"
    }
   ],
   "source": [
    "l1"
   ]
  },
  {
   "cell_type": "code",
   "execution_count": 8,
   "metadata": {},
   "outputs": [
    {
     "data": {
      "text/plain": [
       "['__add__',\n",
       " '__class__',\n",
       " '__class_getitem__',\n",
       " '__contains__',\n",
       " '__delattr__',\n",
       " '__delitem__',\n",
       " '__dir__',\n",
       " '__doc__',\n",
       " '__eq__',\n",
       " '__format__',\n",
       " '__ge__',\n",
       " '__getattribute__',\n",
       " '__getitem__',\n",
       " '__getstate__',\n",
       " '__gt__',\n",
       " '__hash__',\n",
       " '__iadd__',\n",
       " '__imul__',\n",
       " '__init__',\n",
       " '__init_subclass__',\n",
       " '__iter__',\n",
       " '__le__',\n",
       " '__len__',\n",
       " '__lt__',\n",
       " '__mul__',\n",
       " '__ne__',\n",
       " '__new__',\n",
       " '__reduce__',\n",
       " '__reduce_ex__',\n",
       " '__repr__',\n",
       " '__reversed__',\n",
       " '__rmul__',\n",
       " '__setattr__',\n",
       " '__setitem__',\n",
       " '__sizeof__',\n",
       " '__str__',\n",
       " '__subclasshook__',\n",
       " 'append',\n",
       " 'clear',\n",
       " 'copy',\n",
       " 'count',\n",
       " 'extend',\n",
       " 'index',\n",
       " 'insert',\n",
       " 'pop',\n",
       " 'remove',\n",
       " 'reverse',\n",
       " 'sort']"
      ]
     },
     "execution_count": 8,
     "metadata": {},
     "output_type": "execute_result"
    }
   ],
   "source": [
    "dir(l1)"
   ]
  },
  {
   "cell_type": "code",
   "execution_count": 9,
   "metadata": {},
   "outputs": [],
   "source": [
    "d = {'name':'Fabrizio', 'last_name':'Iozzi'}"
   ]
  },
  {
   "cell_type": "code",
   "execution_count": 10,
   "metadata": {},
   "outputs": [
    {
     "data": {
      "text/plain": [
       "{'name': 'Fabrizio', 'last_name': 'Iozzi'}"
      ]
     },
     "execution_count": 10,
     "metadata": {},
     "output_type": "execute_result"
    }
   ],
   "source": [
    "d"
   ]
  },
  {
   "cell_type": "code",
   "execution_count": 11,
   "metadata": {},
   "outputs": [
    {
     "data": {
      "text/plain": [
       "dict_keys(['name', 'last_name'])"
      ]
     },
     "execution_count": 11,
     "metadata": {},
     "output_type": "execute_result"
    }
   ],
   "source": [
    "d.keys()"
   ]
  },
  {
   "cell_type": "code",
   "execution_count": 28,
   "metadata": {},
   "outputs": [],
   "source": [
    "l2 = l1.append(22)"
   ]
  },
  {
   "cell_type": "code",
   "execution_count": 29,
   "metadata": {},
   "outputs": [
    {
     "data": {
      "text/plain": [
       "[1, 2, 4, 55, 66, 22, 22]"
      ]
     },
     "execution_count": 29,
     "metadata": {},
     "output_type": "execute_result"
    }
   ],
   "source": [
    "l1"
   ]
  },
  {
   "cell_type": "code",
   "execution_count": 31,
   "metadata": {},
   "outputs": [],
   "source": [
    "l3 = list((2,44,'ddd'))"
   ]
  },
  {
   "cell_type": "code",
   "execution_count": 32,
   "metadata": {},
   "outputs": [
    {
     "data": {
      "text/plain": [
       "[2, 44, 'ddd']"
      ]
     },
     "execution_count": 32,
     "metadata": {},
     "output_type": "execute_result"
    }
   ],
   "source": [
    "l3"
   ]
  },
  {
   "cell_type": "code",
   "execution_count": 33,
   "metadata": {},
   "outputs": [],
   "source": [
    "a = int(44)"
   ]
  },
  {
   "cell_type": "code",
   "execution_count": 34,
   "metadata": {},
   "outputs": [
    {
     "data": {
      "text/plain": [
       "44"
      ]
     },
     "execution_count": 34,
     "metadata": {},
     "output_type": "execute_result"
    }
   ],
   "source": [
    "a"
   ]
  },
  {
   "cell_type": "code",
   "execution_count": 35,
   "metadata": {},
   "outputs": [],
   "source": [
    "a = 44."
   ]
  },
  {
   "cell_type": "code",
   "execution_count": 36,
   "metadata": {},
   "outputs": [
    {
     "data": {
      "text/plain": [
       "float"
      ]
     },
     "execution_count": 36,
     "metadata": {},
     "output_type": "execute_result"
    }
   ],
   "source": [
    "type(a)"
   ]
  },
  {
   "cell_type": "code",
   "execution_count": 37,
   "metadata": {},
   "outputs": [],
   "source": [
    "a = float(44)"
   ]
  },
  {
   "cell_type": "code",
   "execution_count": 38,
   "metadata": {},
   "outputs": [
    {
     "data": {
      "text/plain": [
       "44.0"
      ]
     },
     "execution_count": 38,
     "metadata": {},
     "output_type": "execute_result"
    }
   ],
   "source": [
    "a"
   ]
  },
  {
   "cell_type": "code",
   "execution_count": 40,
   "metadata": {},
   "outputs": [],
   "source": [
    "a = complex('1+3j')"
   ]
  },
  {
   "cell_type": "code",
   "execution_count": 41,
   "metadata": {},
   "outputs": [
    {
     "data": {
      "text/plain": [
       "complex"
      ]
     },
     "execution_count": 41,
     "metadata": {},
     "output_type": "execute_result"
    }
   ],
   "source": [
    "type(a)"
   ]
  },
  {
   "cell_type": "code",
   "execution_count": 43,
   "metadata": {},
   "outputs": [
    {
     "data": {
      "text/plain": [
       "(1-3j)"
      ]
     },
     "execution_count": 43,
     "metadata": {},
     "output_type": "execute_result"
    }
   ],
   "source": [
    "a.conjugate()"
   ]
  },
  {
   "cell_type": "code",
   "execution_count": 76,
   "metadata": {},
   "outputs": [
    {
     "name": "stdout",
     "output_type": "stream",
     "text": [
      "<__main__.Point object at 0x00000258FB6AC380>\n",
      "3.605551275463989\n",
      "1.4142135623730951\n"
     ]
    }
   ],
   "source": [
    "import math\n",
    "class Point():\n",
    "    def __init__(self, x, y):\n",
    "        self.x = x\n",
    "        self.y = y\n",
    "\n",
    "    def dist_from_O(self):\n",
    "        return math.sqrt(self.x*self.x + self.y*self.y)\n",
    "\n",
    "p1 = Point(2,3)\n",
    "print(p1)\n",
    "print(p1.dist_from_O())\n",
    "\n",
    "def distance(p1, p2):\n",
    "    return math.sqrt((p1.x-p2.x)**2+(p1.y-p2.y)**2)\n",
    "\n",
    "p2 = Point(3,4)\n",
    "print(distance(p1,p2))"
   ]
  },
  {
   "cell_type": "code",
   "execution_count": 74,
   "metadata": {},
   "outputs": [
    {
     "data": {
      "text/plain": [
       "['__class__',\n",
       " '__delattr__',\n",
       " '__dict__',\n",
       " '__dir__',\n",
       " '__doc__',\n",
       " '__eq__',\n",
       " '__format__',\n",
       " '__ge__',\n",
       " '__getattribute__',\n",
       " '__getstate__',\n",
       " '__gt__',\n",
       " '__hash__',\n",
       " '__init__',\n",
       " '__init_subclass__',\n",
       " '__le__',\n",
       " '__lt__',\n",
       " '__module__',\n",
       " '__ne__',\n",
       " '__new__',\n",
       " '__reduce__',\n",
       " '__reduce_ex__',\n",
       " '__repr__',\n",
       " '__setattr__',\n",
       " '__sizeof__',\n",
       " '__str__',\n",
       " '__subclasshook__',\n",
       " '__weakref__',\n",
       " 'dist_from_O',\n",
       " 'x',\n",
       " 'y']"
      ]
     },
     "execution_count": 74,
     "metadata": {},
     "output_type": "execute_result"
    }
   ],
   "source": [
    "dir(p1)"
   ]
  },
  {
   "cell_type": "code",
   "execution_count": null,
   "metadata": {},
   "outputs": [],
   "source": []
  }
 ],
 "metadata": {
  "kernelspec": {
   "display_name": "Python 3 (ipykernel)",
   "language": "python",
   "name": "python3"
  },
  "language_info": {
   "codemirror_mode": {
    "name": "ipython",
    "version": 3
   },
   "file_extension": ".py",
   "mimetype": "text/x-python",
   "name": "python",
   "nbconvert_exporter": "python",
   "pygments_lexer": "ipython3",
   "version": "3.12.3"
  }
 },
 "nbformat": 4,
 "nbformat_minor": 4
}
