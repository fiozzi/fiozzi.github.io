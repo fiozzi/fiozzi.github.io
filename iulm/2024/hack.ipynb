{
 "cells": [
  {
   "cell_type": "markdown",
   "metadata": {},
   "source": [
    "## Hacking London Tube"
   ]
  },
  {
   "cell_type": "markdown",
   "metadata": {},
   "source": [
    "![Original London Tube](tube_before.jpg)"
   ]
  },
  {
   "cell_type": "markdown",
   "metadata": {},
   "source": [
    "![London Tube Hacked](tube_after.jpg)"
   ]
  },
  {
   "cell_type": "code",
   "execution_count": 34,
   "metadata": {},
   "outputs": [
    {
     "name": "stdout",
     "output_type": "stream",
     "text": [
      "Obstruct the doors cause delay and be dangerous.\n",
      "Obstruct the doors cause delay and anger us.\n"
     ]
    }
   ],
   "source": [
    "tube_str = \"Obstructing the doors causes delay and can be dangerous.\"\n",
    "hacker_str1 = tube_str[:8] + tube_str[11:21] + tube_str[21:27] + tube_str[28:34] + tube_str[34:38] + tube_str[-14:]\n",
    "hacker_str2 = tube_str[:8] + tube_str[11:21] + tube_str[21:27] + tube_str[28:39] + tube_str[-9:-4] + ' ' + tube_str[-3:]\n",
    "print(hacker_str1)\n",
    "print(hacker_str2)"
   ]
  }
 ],
 "metadata": {
  "kernelspec": {
   "display_name": "Python 3 (ipykernel)",
   "language": "python",
   "name": "python3"
  },
  "language_info": {
   "codemirror_mode": {
    "name": "ipython",
    "version": 3
   },
   "file_extension": ".py",
   "mimetype": "text/x-python",
   "name": "python",
   "nbconvert_exporter": "python",
   "pygments_lexer": "ipython3",
   "version": "3.11.4"
  }
 },
 "nbformat": 4,
 "nbformat_minor": 4
}
