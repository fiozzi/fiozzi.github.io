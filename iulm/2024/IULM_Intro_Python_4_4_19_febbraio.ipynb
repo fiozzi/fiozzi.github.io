{
  "cells": [
    {
      "cell_type": "markdown",
      "id": "01d1f7df-2e6b-4d0e-b92c-2a6ac6660fa4",
      "metadata": {
        "id": "01d1f7df-2e6b-4d0e-b92c-2a6ac6660fa4"
      },
      "source": [
        "# Introduzione a Python 4/4"
      ]
    },
    {
      "cell_type": "markdown",
      "id": "f2c7a2d0-5f07-4f0a-80c6-50897826afa9",
      "metadata": {
        "id": "f2c7a2d0-5f07-4f0a-80c6-50897826afa9"
      },
      "source": [
        "19 Febbraio 2024"
      ]
    },
    {
      "cell_type": "markdown",
      "id": "5aeeb700-94b9-457a-80a2-7a3b3d89ff4b",
      "metadata": {
        "id": "5aeeb700-94b9-457a-80a2-7a3b3d89ff4b"
      },
      "source": [
        "## Argomenti"
      ]
    },
    {
      "cell_type": "markdown",
      "id": "1eb57e32-c366-4689-9934-fff4eade2509",
      "metadata": {
        "id": "1eb57e32-c366-4689-9934-fff4eade2509"
      },
      "source": [
        "1. Moduli\n",
        "1. File esterni\n"
      ]
    },
    {
      "cell_type": "markdown",
      "id": "0da05232",
      "metadata": {
        "id": "0da05232"
      },
      "source": [
        "## Moduli"
      ]
    },
    {
      "cell_type": "markdown",
      "id": "bac8f54a",
      "metadata": {
        "id": "bac8f54a"
      },
      "source": [
        "Le funzioni e i tipi inclusi nel nucleo di Python sono insufficienti per molte applicazioni.\n",
        "\n",
        "La struttura di Python permette quindi di includere moduli aggiuntivi che, di norma, si aggiungono all'inizio del notebook."
      ]
    },
    {
      "cell_type": "markdown",
      "id": "96ccc803",
      "metadata": {
        "id": "96ccc803"
      },
      "source": [
        "Per esempio, il modulo `string` contiene delle costanti e delle stringhe di utilità nella manipolazione dei testi\n",
        "\n",
        "Il modulo è parte della Standard Library ed è descritto [qui](https://docs.python.org/3/library/string.html#module-string)"
      ]
    },
    {
      "cell_type": "markdown",
      "id": "bd2473ed",
      "metadata": {
        "id": "bd2473ed"
      },
      "source": [
        "Per importare un modulo nel notebook si usa l'struzione `import`."
      ]
    },
    {
      "cell_type": "code",
      "source": [
        "string.ascii_letters"
      ],
      "metadata": {
        "id": "s0EKkmINv6pl"
      },
      "id": "s0EKkmINv6pl",
      "execution_count": null,
      "outputs": []
    },
    {
      "cell_type": "code",
      "execution_count": null,
      "id": "4c5430a2",
      "metadata": {
        "id": "4c5430a2"
      },
      "outputs": [],
      "source": [
        "import string\n"
      ]
    },
    {
      "cell_type": "markdown",
      "id": "8aa65443",
      "metadata": {
        "id": "8aa65443"
      },
      "source": [
        "Un modo equivalente per ottenere questo risultato è il seguente"
      ]
    },
    {
      "cell_type": "code",
      "execution_count": null,
      "id": "8112c222",
      "metadata": {
        "id": "8112c222"
      },
      "outputs": [],
      "source": [
        "lettere = string.ascii_letters\n",
        "print(lettere)\n",
        "\n",
        "segni_interpunzione = string.punctuation\n",
        "print(segni_interpunzione)\n",
        "\n",
        "caratteri_invisibili = string.whitespace\n",
        "print(caratteri_invisibili)"
      ]
    },
    {
      "cell_type": "markdown",
      "id": "437d7d81",
      "metadata": {
        "id": "437d7d81"
      },
      "source": [
        "In pratica, un modulo è un pezzo di codice contenuto in un file che definisce dei nuovi tipi di dati e delle funzioni. L'importazione rende possibile richiamare tutti gli oggetti contenuti nel file esterno semplicemente mettendo come prefisso il nome del modulo.\n",
        "\n",
        "Un altro esempio è il modulo `datetime` che viene utilizzato per gestire dati relativi a date e tempi."
      ]
    },
    {
      "cell_type": "code",
      "execution_count": null,
      "id": "aa0dfc69",
      "metadata": {
        "id": "aa0dfc69"
      },
      "outputs": [],
      "source": [
        "import datetime as dt"
      ]
    },
    {
      "cell_type": "markdown",
      "id": "3dcf1688",
      "metadata": {
        "id": "3dcf1688"
      },
      "source": [
        "Nella sintassi qui sopra, `as` introduce un sinonimo per il modulo. In pratica, invece di scrivere ogni volta `datetime.` si potrà scrivere `dt.`.\n",
        "\n"
      ]
    },
    {
      "cell_type": "code",
      "execution_count": null,
      "id": "fb0c916a",
      "metadata": {
        "id": "fb0c916a"
      },
      "outputs": [],
      "source": [
        "adesso = dt.datetime.now()\n",
        "print(adesso)"
      ]
    },
    {
      "cell_type": "code",
      "source": [
        "type(adesso)"
      ],
      "metadata": {
        "id": "vmZKkYVF0ht5"
      },
      "id": "vmZKkYVF0ht5",
      "execution_count": null,
      "outputs": []
    },
    {
      "cell_type": "code",
      "source": [
        "print(adesso.strftime(\"%a %d %b %Y\"))"
      ],
      "metadata": {
        "id": "bvCOJhWw2LZi"
      },
      "id": "bvCOJhWw2LZi",
      "execution_count": null,
      "outputs": []
    },
    {
      "cell_type": "markdown",
      "id": "a373d120",
      "metadata": {
        "id": "a373d120"
      },
      "source": [
        "Infine, c'è il modulo `math` che contiene le principali funzioni matematiche."
      ]
    },
    {
      "cell_type": "code",
      "execution_count": null,
      "id": "44d50efa",
      "metadata": {
        "id": "44d50efa"
      },
      "outputs": [],
      "source": [
        "import math\n",
        "\n",
        "a = 9\n",
        "b = math.sqrt(a)\n",
        "print(f'La radice quadrata di {a} è {b}.')"
      ]
    },
    {
      "cell_type": "markdown",
      "id": "9ce83738",
      "metadata": {
        "id": "9ce83738"
      },
      "source": [
        "Di solito, per le analisi scientifiche, si usano moduli più complessi, `numpy`, `scipy`, che saranno introdotti successivamente."
      ]
    },
    {
      "cell_type": "markdown",
      "id": "c2f09e96",
      "metadata": {
        "id": "c2f09e96"
      },
      "source": [
        "# Lavorare con i file esterni"
      ]
    },
    {
      "cell_type": "markdown",
      "id": "608f7ba8",
      "metadata": {
        "id": "608f7ba8"
      },
      "source": [
        "I testi da analizzare sono contenuti in file esterni. Per esempio, nel file `alice.txt` è contenuto il testo di Alice in Wonderland."
      ]
    },
    {
      "cell_type": "markdown",
      "id": "c5c8fa82",
      "metadata": {
        "id": "c5c8fa82"
      },
      "source": [
        "Per esaminare il file occorre renderlo disponibile a Python. Questo si fa nel modo seguente.\n",
        "```python\n",
        "with open('alice.txt', 'r') as file_input:\n",
        "```\n",
        "\n",
        "In generale, la sintassi è\n",
        "```python\n",
        "with open(<nome del file>, <tipo_di_collegamento>) as <nome_variabile>:\n",
        "```\n",
        "\n",
        "dove:\n",
        "- `<nome del file>` è il nome del file nel sistema\n",
        "- `<tipo di collegamento>` è una stringa. Ad es:`\"r\"` sta per `read`, `\"w\"` sta per write\n",
        "- `<nome variabile` è il nome che si vuole assegnare alla variabile con cui si lavorerà in seguito, come se si lavorasse con il file."
      ]
    },
    {
      "cell_type": "code",
      "execution_count": null,
      "id": "87dee4e9",
      "metadata": {
        "colab": {
          "base_uri": "https://localhost:8080/"
        },
        "id": "87dee4e9",
        "outputId": "e3ac7bfd-5d79-4da9-b265-31e7a8209cff"
      },
      "outputs": [
        {
          "output_type": "stream",
          "name": "stdout",
          "text": [
            "CHAPTER I.\n",
            "\n",
            "Down the Rabbit-Hole\n",
            "\n",
            "\n",
            "\n",
            "\n",
            "\n",
            "Alice was beginning to get very tired of sitting by her sister on the\n",
            "\n",
            "bank, and of having nothing to do: once or twice she had peeped into\n",
            "\n",
            "the book her sister was reading, but it had no pictures or\n",
            "\n",
            "conversations in it, “and what is the use of a book,” thought Alice\n",
            "\n",
            "“without pictures or conversations?”\n",
            "\n",
            "\n",
            "\n",
            "So she was considering in her own mind (as well as she could, for the\n",
            "\n",
            "hot day made her feel very sleepy and stupid), whether the pleasure of\n",
            "\n",
            "making a daisy-chain would be worth the trouble of getting up and\n",
            "\n",
            "picking the daisies, when suddenly a White Rabbit with pink eyes ran\n",
            "\n",
            "close by her.\n",
            "\n",
            "\n",
            "\n",
            "There was nothing so _very_ remarkable in that; nor did Alice think it\n",
            "\n",
            "so _very_ much out of the way to hear the Rabbit say to itself, “Oh\n",
            "\n",
            "dear! Oh dear! I shall be late!” (when she thought it over afterwards,\n",
            "\n",
            "it occurred to her that she ought to have wondered at this, but at the\n",
            "\n",
            "time it all seemed quite natural); but when the Rabbit actually _took a\n",
            "\n",
            "watch out of its waistcoat-pocket_, and looked at it, and then hurried\n",
            "\n",
            "on, Alice started to her feet, for it flashed across her mind that she\n",
            "\n",
            "had never before seen a rabbit with either a waistcoat-pocket, or a\n",
            "\n",
            "watch to take out of it, and burning with curiosity, she ran across the\n",
            "\n",
            "field after it, and fortunately was just in time to see it pop down a\n",
            "\n",
            "large rabbit-hole under the hedge.\n",
            "\n",
            "\n",
            "\n",
            "In another moment down went Alice after it, never once considering how\n",
            "\n",
            "in the world she was to get out again.\n",
            "\n",
            "\n",
            "\n",
            "The rabbit-hole went straight on like a tunnel for some way, and then\n",
            "\n",
            "dipped suddenly down, so suddenly that Alice had not a moment to think\n",
            "\n",
            "about stopping herself before she found herself falling down a very\n",
            "\n",
            "deep well.\n",
            "\n",
            "\n",
            "\n",
            "Either the well was very deep, or she fell very slowly, for she had\n",
            "\n",
            "plenty of time as she went down to look about her and to wonder what\n",
            "\n",
            "was going to happen next. First, she tried to look down and make out\n",
            "\n",
            "what she was coming to, but it was too dark to see anything; then she\n",
            "\n",
            "looked at the sides of the well, and noticed that they were filled with\n",
            "\n",
            "cupboards and book-shelves; here and there she saw maps and pictures\n",
            "\n",
            "hung upon pegs. She took down a jar from one of the shelves as she\n",
            "\n",
            "passed; it was labelled “ORANGE MARMALADE”, but to her great\n",
            "\n",
            "disappointment it was empty: she did not like to drop the jar for fear\n",
            "\n",
            "of killing somebody underneath, so managed to put it into one of the\n",
            "\n",
            "cupboards as she fell past it.\n",
            "\n",
            "\n",
            "\n",
            "“Well!” thought Alice to herself, “after such a fall as this, I shall\n",
            "\n",
            "think nothing of tumbling down stairs! How brave they’ll all think me\n",
            "\n",
            "at home! Why, I wouldn’t say anything about it, even if I fell off the\n",
            "\n",
            "top of the house!” (Which was very likely true.)\n",
            "\n",
            "\n",
            "\n",
            "Down, down, down. Would the fall _never_ come to an end? “I wonder how\n",
            "\n",
            "many miles I’ve fallen by this time?” she said aloud. “I must be\n",
            "\n",
            "getting somewhere near the centre of the earth. Let me see: that would\n",
            "\n",
            "be four thousand miles down, I think—” (for, you see, Alice had learnt\n",
            "\n",
            "several things of this sort in her lessons in the schoolroom, and\n",
            "\n",
            "though this was not a _very_ good opportunity for showing off her\n",
            "\n",
            "knowledge, as there was no one to listen to her, still it was good\n",
            "\n",
            "practice to say it over) “—yes, that’s about the right distance—but\n",
            "\n",
            "then I wonder what Latitude or Longitude I’ve got to?” (Alice had no\n",
            "\n",
            "idea what Latitude was, or Longitude either, but thought they were nice\n",
            "\n",
            "grand words to say.)\n",
            "\n",
            "\n",
            "\n",
            "Presently she began again. “I wonder if I shall fall right _through_\n",
            "\n",
            "the earth! How funny it’ll seem to come out among the people that walk\n",
            "\n",
            "with their heads downward! The Antipathies, I think—” (she was rather\n",
            "\n",
            "glad there _was_ no one listening, this time, as it didn’t sound at all\n",
            "\n",
            "the right word) “—but I shall have to ask them what the name of the\n",
            "\n",
            "country is, you know. Please, Ma’am, is this New Zealand or Australia?”\n",
            "\n",
            "(and she tried to curtsey as she spoke—fancy _curtseying_ as you’re\n",
            "\n",
            "falling through the air! Do you think you could manage it?) “And what\n",
            "\n",
            "an ignorant little girl she’ll think me for asking! No, it’ll never do\n",
            "\n",
            "to ask: perhaps I shall see it written up somewhere.”\n",
            "\n",
            "\n",
            "\n",
            "Down, down, down. There was nothing else to do, so Alice soon began\n",
            "\n",
            "talking again. “Dinah’ll miss me very much to-night, I should think!”\n",
            "\n",
            "(Dinah was the cat.) “I hope they’ll remember her saucer of milk at\n",
            "\n",
            "tea-time. Dinah my dear! I wish you were down here with me! There are\n",
            "\n",
            "no mice in the air, I’m afraid, but you might catch a bat, and that’s\n",
            "\n",
            "very like a mouse, you know. But do cats eat bats, I wonder?” And here\n",
            "\n",
            "Alice began to get rather sleepy, and went on saying to herself, in a\n",
            "\n",
            "dreamy sort of way, “Do cats eat bats? Do cats eat bats?” and\n",
            "\n",
            "sometimes, “Do bats eat cats?” for, you see, as she couldn’t answer\n",
            "\n",
            "either question, it didn’t much matter which way she put it. She felt\n",
            "\n",
            "that she was dozing off, and had just begun to dream that she was\n",
            "\n",
            "walking hand in hand with Dinah, and saying to her very earnestly,\n",
            "\n",
            "“Now, Dinah, tell me the truth: did you ever eat a bat?” when suddenly,\n",
            "\n",
            "thump! thump! down she came upon a heap of sticks and dry leaves, and\n",
            "\n",
            "the fall was over.\n",
            "\n",
            "\n",
            "\n",
            "Alice was not a bit hurt, and she jumped up on to her feet in a moment:\n",
            "\n",
            "she looked up, but it was all dark overhead; before her was another\n",
            "\n",
            "long passage, and the White Rabbit was still in sight, hurrying down\n",
            "\n",
            "it. There was not a moment to be lost: away went Alice like the wind,\n",
            "\n",
            "and was just in time to hear it say, as it turned a corner, “Oh my ears\n",
            "\n",
            "and whiskers, how late it’s getting!” She was close behind it when she\n",
            "\n",
            "turned the corner, but the Rabbit was no longer to be seen: she found\n",
            "\n",
            "herself in a long, low hall, which was lit up by a row of lamps hanging\n",
            "\n",
            "from the roof.\n",
            "\n",
            "\n",
            "\n",
            "There were doors all round the hall, but they were all locked; and when\n",
            "\n",
            "Alice had been all the way down one side and up the other, trying every\n",
            "\n",
            "door, she walked sadly down the middle, wondering how she was ever to\n",
            "\n",
            "get out again.\n",
            "\n",
            "\n",
            "\n",
            "Suddenly she came upon a little three-legged table, all made of solid\n",
            "\n",
            "glass; there was nothing on it except a tiny golden key, and Alice’s\n",
            "\n",
            "first thought was that it might belong to one of the doors of the hall;\n",
            "\n",
            "but, alas! either the locks were too large, or the key was too small,\n",
            "\n",
            "but at any rate it would not open any of them. However, on the second\n",
            "\n",
            "time round, she came upon a low curtain she had not noticed before, and\n",
            "\n",
            "behind it was a little door about fifteen inches high: she tried the\n",
            "\n",
            "little golden key in the lock, and to her great delight it fitted!\n",
            "\n",
            "\n",
            "\n",
            "Alice opened the door and found that it led into a small passage, not\n",
            "\n",
            "much larger than a rat-hole: she knelt down and looked along the\n",
            "\n",
            "passage into the loveliest garden you ever saw. How she longed to get\n",
            "\n",
            "out of that dark hall, and wander about among those beds of bright\n",
            "\n",
            "flowers and those cool fountains, but she could not even get her head\n",
            "\n",
            "through the doorway; “and even if my head would go through,” thought\n",
            "\n",
            "poor Alice, “it would be of very little use without my shoulders. Oh,\n",
            "\n",
            "how I wish I could shut up like a telescope! I think I could, if I only\n",
            "\n",
            "knew how to begin.” For, you see, so many out-of-the-way things had\n",
            "\n",
            "happened lately, that Alice had begun to think that very few things\n",
            "\n",
            "indeed were really impossible.\n",
            "\n",
            "\n",
            "\n",
            "There seemed to be no use in waiting by the little door, so she went\n",
            "\n",
            "back to the table, half hoping she might find another key on it, or at\n",
            "\n",
            "any rate a book of rules for shutting people up like telescopes: this\n",
            "\n",
            "time she found a little bottle on it, (“which certainly was not here\n",
            "\n",
            "before,” said Alice,) and round the neck of the bottle was a paper\n",
            "\n",
            "label, with the words “DRINK ME,” beautifully printed on it in large\n",
            "\n",
            "letters.\n",
            "\n",
            "\n",
            "\n",
            "It was all very well to say “Drink me,” but the wise little Alice was\n",
            "\n",
            "not going to do _that_ in a hurry. “No, I’ll look first,” she said,\n",
            "\n",
            "“and see whether it’s marked ‘_poison_’ or not”; for she had read\n",
            "\n",
            "several nice little histories about children who had got burnt, and\n",
            "\n",
            "eaten up by wild beasts and other unpleasant things, all because they\n",
            "\n",
            "_would_ not remember the simple rules their friends had taught them:\n",
            "\n",
            "such as, that a red-hot poker will burn you if you hold it too long;\n",
            "\n",
            "and that if you cut your finger _very_ deeply with a knife, it usually\n",
            "\n",
            "bleeds; and she had never forgotten that, if you drink much from a\n",
            "\n",
            "bottle marked “poison,” it is almost certain to disagree with you,\n",
            "\n",
            "sooner or later.\n",
            "\n",
            "\n",
            "\n",
            "However, this bottle was _not_ marked “poison,” so Alice ventured to\n",
            "\n",
            "taste it, and finding it very nice, (it had, in fact, a sort of mixed\n",
            "\n",
            "flavour of cherry-tart, custard, pine-apple, roast turkey, toffee, and\n",
            "\n",
            "hot buttered toast,) she very soon finished it off.\n",
            "\n",
            "\n",
            "\n",
            "*      *      *      *      *      *      *\n",
            "\n",
            "\n",
            "\n",
            "    *      *      *      *      *      *\n",
            "\n",
            "\n",
            "\n",
            "*      *      *      *      *      *      *\n",
            "\n",
            "\n",
            "\n",
            "\n",
            "\n",
            "“What a curious feeling!” said Alice; “I must be shutting up like a\n",
            "\n",
            "telescope.”\n",
            "\n",
            "\n",
            "\n",
            "And so it was indeed: she was now only ten inches high, and her face\n",
            "\n",
            "brightened up at the thought that she was now the right size for going\n",
            "\n",
            "through the little door into that lovely garden. First, however, she\n",
            "\n",
            "waited for a few minutes to see if she was going to shrink any further:\n",
            "\n",
            "she felt a little nervous about this; “for it might end, you know,”\n",
            "\n",
            "said Alice to herself, “in my going out altogether, like a candle. I\n",
            "\n",
            "wonder what I should be like then?” And she tried to fancy what the\n",
            "\n",
            "flame of a candle is like after the candle is blown out, for she could\n",
            "\n",
            "not remember ever having seen such a thing.\n",
            "\n",
            "\n",
            "\n",
            "After a while, finding that nothing more happened, she decided on going\n",
            "\n",
            "into the garden at once; but, alas for poor Alice! when she got to the\n",
            "\n",
            "door, she found she had forgotten the little golden key, and when she\n",
            "\n",
            "went back to the table for it, she found she could not possibly reach\n",
            "\n",
            "it: she could see it quite plainly through the glass, and she tried her\n",
            "\n",
            "best to climb up one of the legs of the table, but it was too slippery;\n",
            "\n",
            "and when she had tired herself out with trying, the poor little thing\n",
            "\n",
            "sat down and cried.\n",
            "\n",
            "\n",
            "\n",
            "“Come, there’s no use in crying like that!” said Alice to herself,\n",
            "\n",
            "rather sharply; “I advise you to leave off this minute!” She generally\n",
            "\n",
            "gave herself very good advice, (though she very seldom followed it),\n",
            "\n",
            "and sometimes she scolded herself so severely as to bring tears into\n",
            "\n",
            "her eyes; and once she remembered trying to box her own ears for having\n",
            "\n",
            "cheated herself in a game of croquet she was playing against herself,\n",
            "\n",
            "for this curious child was very fond of pretending to be two people.\n",
            "\n",
            "“But it’s no use now,” thought poor Alice, “to pretend to be two\n",
            "\n",
            "people! Why, there’s hardly enough of me left to make _one_ respectable\n",
            "\n",
            "person!”\n",
            "\n",
            "\n",
            "\n",
            "Soon her eye fell on a little glass box that was lying under the table:\n",
            "\n",
            "she opened it, and found in it a very small cake, on which the words\n",
            "\n",
            "“EAT ME” were beautifully marked in currants. “Well, I’ll eat it,” said\n",
            "\n",
            "Alice, “and if it makes me grow larger, I can reach the key; and if it\n",
            "\n",
            "makes me grow smaller, I can creep under the door; so either way I’ll\n",
            "\n",
            "get into the garden, and I don’t care which happens!”\n",
            "\n",
            "\n",
            "\n",
            "She ate a little bit, and said anxiously to herself, “Which way? Which\n",
            "\n",
            "way?”, holding her hand on the top of her head to feel which way it was\n",
            "\n",
            "growing, and she was quite surprised to find that she remained the same\n",
            "\n",
            "size: to be sure, this generally happens when one eats cake, but Alice\n",
            "\n",
            "had got so much into the way of expecting nothing but out-of-the-way\n",
            "\n",
            "things to happen, that it seemed quite dull and stupid for life to go\n",
            "\n",
            "on in the common way.\n",
            "\n",
            "\n",
            "\n",
            "So she set to work, and very soon finished off the cake.\n",
            "\n"
          ]
        }
      ],
      "source": [
        "# from google.colab import drive\n",
        "# drive.mount('/content/drive')\n",
        "with open('/content/drive/My Drive/Colab Notebooks/alice_chapter1.txt', 'r', encoding='utf-8') as file_input:\n",
        "  # everything = file_input.read()\n",
        "  for line in file_input:\n",
        "    print(line)\n"
      ]
    },
    {
      "cell_type": "markdown",
      "id": "10a65dc7",
      "metadata": {
        "id": "10a65dc7"
      },
      "source": [
        "Il nome della variabile assegnato al file (in inglese, *file handle*) si comporta come un *iterator*. Analogamente alle liste, alle stringhe, ai range, se compare all'interno di un ciclo `for` restituisce una linea alla volta fino alla fine del file."
      ]
    },
    {
      "cell_type": "code",
      "execution_count": null,
      "id": "de2cb687",
      "metadata": {
        "id": "de2cb687",
        "colab": {
          "base_uri": "https://localhost:8080/"
        },
        "outputId": "ad066a33-1e6e-4757-ae7b-fa59874ba9cb"
      },
      "outputs": [
        {
          "output_type": "stream",
          "name": "stdout",
          "text": [
            "CHAPTER I.\n",
            "Down the Rabbit-Hole\n",
            "\n",
            "\n",
            "Alice was beginning to get very tired of sitting by her sister on the\n",
            "bank, and of having nothing to do: once or twice she had peeped into\n",
            "the book her sister was reading, but it had no pictures or\n",
            "conversations in it, “and what is the use of a book,” thought Alice\n",
            "“without pictures or conversations?”\n",
            "\n",
            "So she was considering in her own mind (as well as she could, for the\n",
            "hot day made her feel very sleepy and stupid), whether the pleasure of\n",
            "making a daisy-chain would be worth the trouble of getting up and\n",
            "picking the daisies, when suddenly a White Rabbit with pink eyes ran\n",
            "close by her.\n",
            "\n",
            "There was nothing so _very_ remarkable in that; nor did Alice think it\n",
            "so _very_ much out of the way to hear the Rabbit say to itself, “Oh\n",
            "dear! Oh dear! I shall be late!” (when she thought it over afterwards,\n",
            "it occurred to her that she ought to have wondered at this, but at the\n",
            "time it all seemed quite natural); but when the Rabbit actually _took a\n",
            "watch out of its waistcoat-pocket_, and looked at it, and then hurried\n",
            "on, Alice started to her feet, for it flashed across her mind that she\n",
            "had never before seen a rabbit with either a waistcoat-pocket, or a\n",
            "watch to take out of it, and burning with curiosity, she ran across the\n",
            "field after it, and fortunately was just in time to see it pop down a\n",
            "large rabbit-hole under the hedge.\n",
            "\n",
            "In another moment down went Alice after it, never once considering how\n",
            "in the world she was to get out again.\n",
            "\n",
            "The rabbit-hole went straight on like a tunnel for some way, and then\n",
            "dipped suddenly down, so suddenly that Alice had not a moment to think\n",
            "about stopping herself before she found herself falling down a very\n",
            "deep well.\n",
            "\n",
            "Either the well was very deep, or she fell very slowly, for she had\n",
            "plenty of time as she went down to look about her and to wonder what\n",
            "was going to happen next. First, she tried to look down and make out\n",
            "what she was coming to, but it was too dark to see anything; then she\n",
            "looked at the sides of the well, and noticed that they were filled with\n",
            "cupboards and book-shelves; here and there she saw maps and pictures\n",
            "hung upon pegs. She took down a jar from one of the shelves as she\n",
            "passed; it was labelled “ORANGE MARMALADE”, but to her great\n",
            "disappointment it was empty: she did not like to drop the jar for fear\n",
            "of killing somebody underneath, so managed to put it into one of the\n",
            "cupboards as she fell past it.\n",
            "\n",
            "“Well!” thought Alice to herself, “after such a fall as this, I shall\n",
            "think nothing of tumbling down stairs! How brave they’ll all think me\n",
            "at home! Why, I wouldn’t say anything about it, even if I fell off the\n",
            "top of the house!” (Which was very likely true.)\n",
            "\n",
            "Down, down, down. Would the fall _never_ come to an end? “I wonder how\n",
            "many miles I’ve fallen by this time?” she said aloud. “I must be\n",
            "getting somewhere near the centre of the earth. Let me see: that would\n",
            "be four thousand miles down, I think—” (for, you see, Alice had learnt\n",
            "several things of this sort in her lessons in the schoolroom, and\n",
            "though this was not a _very_ good opportunity for showing off her\n",
            "knowledge, as there was no one to listen to her, still it was good\n",
            "practice to say it over) “—yes, that’s about the right distance—but\n",
            "then I wonder what Latitude or Longitude I’ve got to?” (Alice had no\n",
            "idea what Latitude was, or Longitude either, but thought they were nice\n",
            "grand words to say.)\n",
            "\n",
            "Presently she began again. “I wonder if I shall fall right _through_\n",
            "the earth! How funny it’ll seem to come out among the people that walk\n",
            "with their heads downward! The Antipathies, I think—” (she was rather\n",
            "glad there _was_ no one listening, this time, as it didn’t sound at all\n",
            "the right word) “—but I shall have to ask them what the name of the\n",
            "country is, you know. Please, Ma’am, is this New Zealand or Australia?”\n",
            "(and she tried to curtsey as she spoke—fancy _curtseying_ as you’re\n",
            "falling through the air! Do you think you could manage it?) “And what\n",
            "an ignorant little girl she’ll think me for asking! No, it’ll never do\n",
            "to ask: perhaps I shall see it written up somewhere.”\n",
            "\n",
            "Down, down, down. There was nothing else to do, so Alice soon began\n",
            "talking again. “Dinah’ll miss me very much to-night, I should think!”\n",
            "(Dinah was the cat.) “I hope they’ll remember her saucer of milk at\n",
            "tea-time. Dinah my dear! I wish you were down here with me! There are\n",
            "no mice in the air, I’m afraid, but you might catch a bat, and that’s\n",
            "very like a mouse, you know. But do cats eat bats, I wonder?” And here\n",
            "Alice began to get rather sleepy, and went on saying to herself, in a\n",
            "dreamy sort of way, “Do cats eat bats? Do cats eat bats?” and\n",
            "sometimes, “Do bats eat cats?” for, you see, as she couldn’t answer\n",
            "either question, it didn’t much matter which way she put it. She felt\n",
            "that she was dozing off, and had just begun to dream that she was\n",
            "walking hand in hand with Dinah, and saying to her very earnestly,\n",
            "“Now, Dinah, tell me the truth: did you ever eat a bat?” when suddenly,\n",
            "thump! thump! down she came upon a heap of sticks and dry leaves, and\n",
            "the fall was over.\n",
            "\n",
            "Alice was not a bit hurt, and she jumped up on to her feet in a moment:\n",
            "she looked up, but it was all dark overhead; before her was another\n",
            "long passage, and the White Rabbit was still in sight, hurrying down\n",
            "it. There was not a moment to be lost: away went Alice like the wind,\n",
            "and was just in time to hear it say, as it turned a corner, “Oh my ears\n",
            "and whiskers, how late it’s getting!” She was close behind it when she\n",
            "turned the corner, but the Rabbit was no longer to be seen: she found\n",
            "herself in a long, low hall, which was lit up by a row of lamps hanging\n",
            "from the roof.\n",
            "\n",
            "There were doors all round the hall, but they were all locked; and when\n",
            "Alice had been all the way down one side and up the other, trying every\n",
            "door, she walked sadly down the middle, wondering how she was ever to\n",
            "get out again.\n",
            "\n",
            "Suddenly she came upon a little three-legged table, all made of solid\n",
            "glass; there was nothing on it except a tiny golden key, and Alice’s\n",
            "first thought was that it might belong to one of the doors of the hall;\n",
            "but, alas! either the locks were too large, or the key was too small,\n",
            "but at any rate it would not open any of them. However, on the second\n",
            "time round, she came upon a low curtain she had not noticed before, and\n",
            "behind it was a little door about fifteen inches high: she tried the\n",
            "little golden key in the lock, and to her great delight it fitted!\n",
            "\n",
            "Alice opened the door and found that it led into a small passage, not\n",
            "much larger than a rat-hole: she knelt down and looked along the\n",
            "passage into the loveliest garden you ever saw. How she longed to get\n",
            "out of that dark hall, and wander about among those beds of bright\n",
            "flowers and those cool fountains, but she could not even get her head\n",
            "through the doorway; “and even if my head would go through,” thought\n",
            "poor Alice, “it would be of very little use without my shoulders. Oh,\n",
            "how I wish I could shut up like a telescope! I think I could, if I only\n",
            "knew how to begin.” For, you see, so many out-of-the-way things had\n",
            "happened lately, that Alice had begun to think that very few things\n",
            "indeed were really impossible.\n",
            "\n",
            "There seemed to be no use in waiting by the little door, so she went\n",
            "back to the table, half hoping she might find another key on it, or at\n",
            "any rate a book of rules for shutting people up like telescopes: this\n",
            "time she found a little bottle on it, (“which certainly was not here\n",
            "before,” said Alice,) and round the neck of the bottle was a paper\n",
            "label, with the words “DRINK ME,” beautifully printed on it in large\n",
            "letters.\n",
            "\n",
            "It was all very well to say “Drink me,” but the wise little Alice was\n",
            "not going to do _that_ in a hurry. “No, I’ll look first,” she said,\n",
            "“and see whether it’s marked ‘_poison_’ or not”; for she had read\n",
            "several nice little histories about children who had got burnt, and\n",
            "eaten up by wild beasts and other unpleasant things, all because they\n",
            "_would_ not remember the simple rules their friends had taught them:\n",
            "such as, that a red-hot poker will burn you if you hold it too long;\n",
            "and that if you cut your finger _very_ deeply with a knife, it usually\n",
            "bleeds; and she had never forgotten that, if you drink much from a\n",
            "bottle marked “poison,” it is almost certain to disagree with you,\n",
            "sooner or later.\n",
            "\n",
            "However, this bottle was _not_ marked “poison,” so Alice ventured to\n",
            "taste it, and finding it very nice, (it had, in fact, a sort of mixed\n",
            "flavour of cherry-tart, custard, pine-apple, roast turkey, toffee, and\n",
            "hot buttered toast,) she very soon finished it off.\n",
            "\n",
            "*      *      *      *      *      *      *\n",
            "\n",
            "*      *      *      *      *      *\n",
            "\n",
            "*      *      *      *      *      *      *\n",
            "\n",
            "\n",
            "“What a curious feeling!” said Alice; “I must be shutting up like a\n",
            "telescope.”\n",
            "\n",
            "And so it was indeed: she was now only ten inches high, and her face\n",
            "brightened up at the thought that she was now the right size for going\n",
            "through the little door into that lovely garden. First, however, she\n",
            "waited for a few minutes to see if she was going to shrink any further:\n",
            "she felt a little nervous about this; “for it might end, you know,”\n",
            "said Alice to herself, “in my going out altogether, like a candle. I\n",
            "wonder what I should be like then?” And she tried to fancy what the\n",
            "flame of a candle is like after the candle is blown out, for she could\n",
            "not remember ever having seen such a thing.\n",
            "\n",
            "After a while, finding that nothing more happened, she decided on going\n",
            "into the garden at once; but, alas for poor Alice! when she got to the\n",
            "door, she found she had forgotten the little golden key, and when she\n",
            "went back to the table for it, she found she could not possibly reach\n",
            "it: she could see it quite plainly through the glass, and she tried her\n",
            "best to climb up one of the legs of the table, but it was too slippery;\n",
            "and when she had tired herself out with trying, the poor little thing\n",
            "sat down and cried.\n",
            "\n",
            "“Come, there’s no use in crying like that!” said Alice to herself,\n",
            "rather sharply; “I advise you to leave off this minute!” She generally\n",
            "gave herself very good advice, (though she very seldom followed it),\n",
            "and sometimes she scolded herself so severely as to bring tears into\n",
            "her eyes; and once she remembered trying to box her own ears for having\n",
            "cheated herself in a game of croquet she was playing against herself,\n",
            "for this curious child was very fond of pretending to be two people.\n",
            "“But it’s no use now,” thought poor Alice, “to pretend to be two\n",
            "people! Why, there’s hardly enough of me left to make _one_ respectable\n",
            "person!”\n",
            "\n",
            "Soon her eye fell on a little glass box that was lying under the table:\n",
            "she opened it, and found in it a very small cake, on which the words\n",
            "“EAT ME” were beautifully marked in currants. “Well, I’ll eat it,” said\n",
            "Alice, “and if it makes me grow larger, I can reach the key; and if it\n",
            "makes me grow smaller, I can creep under the door; so either way I’ll\n",
            "get into the garden, and I don’t care which happens!”\n",
            "\n",
            "She ate a little bit, and said anxiously to herself, “Which way? Which\n",
            "way?”, holding her hand on the top of her head to feel which way it was\n",
            "growing, and she was quite surprised to find that she remained the same\n",
            "size: to be sure, this generally happens when one eats cake, but Alice\n",
            "had got so much into the way of expecting nothing but out-of-the-way\n",
            "things to happen, that it seemed quite dull and stupid for life to go\n",
            "on in the common way.\n",
            "\n",
            "So she set to work, and very soon finished off the cake.\n"
          ]
        }
      ],
      "source": [
        "with open('/content/drive/My Drive/Colab Notebooks/alice_chapter1.txt', 'r', encoding='utf-8') as file_input:\n",
        "    for line in file_input:\n",
        "        print(line.strip())\n",
        "\n",
        "\n"
      ]
    },
    {
      "cell_type": "markdown",
      "id": "18d3e538",
      "metadata": {
        "id": "18d3e538"
      },
      "source": [
        "Il metodo `read()` legge tutto il file in una stringa. Non conviene usarlo!"
      ]
    },
    {
      "cell_type": "code",
      "execution_count": null,
      "id": "8f507c20",
      "metadata": {
        "id": "8f507c20",
        "colab": {
          "base_uri": "https://localhost:8080/"
        },
        "outputId": "f137389b-2e7d-4676-d411-d3a72bd8f3b5"
      },
      "outputs": [
        {
          "output_type": "stream",
          "name": "stdout",
          "text": [
            "11420\n"
          ]
        }
      ],
      "source": [
        "with open('/content/drive/My Drive/Colab Notebooks/alice_chapter1.txt', 'r', encoding='utf-8') as file_input:\n",
        "    all_text = file_input.read()\n",
        "\n",
        "print(len(all_text))"
      ]
    },
    {
      "cell_type": "markdown",
      "id": "ba42d38c",
      "metadata": {
        "id": "ba42d38c"
      },
      "source": [
        "Come si vedrà nel seguito, molte delle manipolazioni sui file contenenti i dati sono fatte con strumenti specifici e dall'uso relativamente semplice."
      ]
    },
    {
      "cell_type": "markdown",
      "id": "abbc6d12",
      "metadata": {
        "id": "abbc6d12"
      },
      "source": [
        "### Esercizio"
      ]
    },
    {
      "cell_type": "markdown",
      "id": "89f2afd8",
      "metadata": {
        "id": "89f2afd8"
      },
      "source": [
        "Il file `alice_chapter1.txt` contiene il primo capitolo del libro.\n",
        "\n",
        "Scrivere un breve programma che stampa solo le linee che contengono la parola *Alice*."
      ]
    },
    {
      "cell_type": "code",
      "execution_count": null,
      "id": "147efbec",
      "metadata": {
        "id": "147efbec",
        "colab": {
          "base_uri": "https://localhost:8080/"
        },
        "outputId": "46313667-2fc5-4071-ab45-6a061ee63b6c"
      },
      "outputs": [
        {
          "output_type": "stream",
          "name": "stdout",
          "text": [
            "['Alice was beginning to get very tired of sitting by her sister on the\\n', 'conversations in it, “and what is the use of a book,” thought Alice\\n', 'There was nothing so _very_ remarkable in that; nor did Alice think it\\n', 'on, Alice started to her feet, for it flashed across her mind that she\\n', 'In another moment down went Alice after it, never once considering how\\n', 'dipped suddenly down, so suddenly that Alice had not a moment to think\\n', '“Well!” thought Alice to herself, “after such a fall as this, I shall\\n', 'be four thousand miles down, I think—” (for, you see, Alice had learnt\\n', 'then I wonder what Latitude or Longitude I’ve got to?” (Alice had no\\n', 'Down, down, down. There was nothing else to do, so Alice soon began\\n', 'Alice began to get rather sleepy, and went on saying to herself, in a\\n', 'Alice was not a bit hurt, and she jumped up on to her feet in a moment:\\n', 'it. There was not a moment to be lost: away went Alice like the wind,\\n', 'Alice had been all the way down one side and up the other, trying every\\n', 'glass; there was nothing on it except a tiny golden key, and Alice’s\\n', 'Alice opened the door and found that it led into a small passage, not\\n', 'poor Alice, “it would be of very little use without my shoulders. Oh,\\n', 'happened lately, that Alice had begun to think that very few things\\n', 'before,” said Alice,) and round the neck of the bottle was a paper\\n', 'It was all very well to say “Drink me,” but the wise little Alice was\\n', 'However, this bottle was _not_ marked “poison,” so Alice ventured to\\n', '“What a curious feeling!” said Alice; “I must be shutting up like a\\n', 'said Alice to herself, “in my going out altogether, like a candle. I\\n', 'into the garden at once; but, alas for poor Alice! when she got to the\\n', '“Come, there’s no use in crying like that!” said Alice to herself,\\n', '“But it’s no use now,” thought poor Alice, “to pretend to be two\\n', 'Alice, “and if it makes me grow larger, I can reach the key; and if it\\n', 'size: to be sure, this generally happens when one eats cake, but Alice\\n']\n"
          ]
        }
      ],
      "source": [
        "# with open('/content/drive/My Drive/Colab Notebooks/alice_chapter1.txt', 'r', encoding='utf-8') as file_input:\n",
        "#    for line in file_input:\n",
        "#        if 'Alice' in line:\n",
        "#            print(line.strip())\n",
        "\n",
        "with open('/content/drive/My Drive/Colab Notebooks/alice_chapter1.txt', 'r', encoding='utf-8') as file_input:\n",
        "  # costruire una lista con tutte le righe che contengono Alice\n",
        "  lista_righe_con_Alice = [line for line in file_input if 'Alice' in line]\n",
        "\n",
        "print(lista_righe_con_Alice)\n"
      ]
    },
    {
      "cell_type": "code",
      "execution_count": null,
      "id": "2ba8f051",
      "metadata": {
        "id": "2ba8f051"
      },
      "outputs": [],
      "source": []
    }
  ],
  "metadata": {
    "colab": {
      "provenance": []
    },
    "kernelspec": {
      "display_name": "Python 3 (ipykernel)",
      "language": "python",
      "name": "python3"
    },
    "language_info": {
      "codemirror_mode": {
        "name": "ipython",
        "version": 3
      },
      "file_extension": ".py",
      "mimetype": "text/x-python",
      "name": "python",
      "nbconvert_exporter": "python",
      "pygments_lexer": "ipython3",
      "version": "3.11.5"
    }
  },
  "nbformat": 4,
  "nbformat_minor": 5
}