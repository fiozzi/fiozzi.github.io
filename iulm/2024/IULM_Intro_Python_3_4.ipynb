{
  "cells": [
    {
      "cell_type": "markdown",
      "id": "01d1f7df-2e6b-4d0e-b92c-2a6ac6660fa4",
      "metadata": {
        "id": "01d1f7df-2e6b-4d0e-b92c-2a6ac6660fa4"
      },
      "source": [
        "# Introduzione a Python 3/4"
      ]
    },
    {
      "cell_type": "markdown",
      "id": "f2c7a2d0-5f07-4f0a-80c6-50897826afa9",
      "metadata": {
        "id": "f2c7a2d0-5f07-4f0a-80c6-50897826afa9"
      },
      "source": [
        "12 Febbraio 2024"
      ]
    },
    {
      "cell_type": "markdown",
      "id": "5aeeb700-94b9-457a-80a2-7a3b3d89ff4b",
      "metadata": {
        "id": "5aeeb700-94b9-457a-80a2-7a3b3d89ff4b"
      },
      "source": [
        "## Argomenti"
      ]
    },
    {
      "cell_type": "markdown",
      "id": "1eb57e32-c366-4689-9934-fff4eade2509",
      "metadata": {
        "id": "1eb57e32-c366-4689-9934-fff4eade2509"
      },
      "source": [
        "1. Comprehension\n",
        "1. Dizionari (dict)\n",
        "1. Insiemi (set)\n"
      ]
    },
    {
      "cell_type": "markdown",
      "id": "0da05232",
      "metadata": {},
      "source": [
        "## List comprehension"
      ]
    },
    {
      "cell_type": "markdown",
      "id": "bac8f54a",
      "metadata": {},
      "source": [
        "La list comprehension è una forma di scrittura molto frequente in Python (e anche molto efficiente). Supponiamo di voler costruire una lista con tutti i numeri interi da 0 a 9. Un modo per farlo è"
      ]
    },
    {
      "cell_type": "code",
      "execution_count": 2,
      "id": "4c5430a2",
      "metadata": {},
      "outputs": [
        {
          "data": {
            "text/plain": [
              "[0, 1, 2, 3, 4, 5, 6, 7, 8, 9]"
            ]
          },
          "execution_count": 2,
          "metadata": {},
          "output_type": "execute_result"
        }
      ],
      "source": [
        "lista1 = [] # creiamo una lista vuota\n",
        "for numero in range(10):\n",
        "    lista1.append(numero) # aggiungiamo i numeri via via che range li produce\n",
        "\n",
        "lista1"
      ]
    },
    {
      "cell_type": "markdown",
      "id": "8aa65443",
      "metadata": {},
      "source": [
        "Un modo equivalente per ottenere questo risultato è il seguente"
      ]
    },
    {
      "cell_type": "code",
      "execution_count": 3,
      "id": "8112c222",
      "metadata": {},
      "outputs": [
        {
          "data": {
            "text/plain": [
              "[0, 1, 2, 3, 4, 5, 6, 7, 8, 9]"
            ]
          },
          "execution_count": 3,
          "metadata": {},
          "output_type": "execute_result"
        }
      ],
      "source": [
        "lista1 = [x for x in range(10)]\n",
        "lista1"
      ]
    },
    {
      "cell_type": "markdown",
      "id": "437d7d81",
      "metadata": {},
      "source": [
        "La scrittura `[x for x in range(10)]` si legge abbastanza chiaramente:\n",
        "- le parentesi quadre indicano che si tratta di una lista\n",
        "- la `x` rappresenta il generico elemento della lista\n",
        "- il resto è più o meno interpretabile come \"prendi tutte le x per ogni x che sta in range(10)\"\n",
        "\n",
        "Un altro esempio:"
      ]
    },
    {
      "cell_type": "code",
      "execution_count": 7,
      "id": "aa0dfc69",
      "metadata": {},
      "outputs": [
        {
          "name": "stdout",
          "output_type": "stream",
          "text": [
            "['MELA', 'BANANA', 'CILIEGIA', 'KIWI', 'MANGO']\n"
          ]
        }
      ],
      "source": [
        "frutta = [\"mela\", \"banana\", \"ciliegia\", \"kiwi\", \"mango\"]\n",
        "\n",
        "frutta_maiuscolo = [x.upper() for x in frutta]\n",
        "\n",
        "print(frutta_maiuscolo)"
      ]
    },
    {
      "cell_type": "markdown",
      "id": "3dcf1688",
      "metadata": {},
      "source": [
        "Nella comprehension si possono anche inserire condizionali. Supponiamo di avere una lista di numeri e di voler creare un'altra lista con i soli numeri maggiori di 5."
      ]
    },
    {
      "cell_type": "code",
      "execution_count": 8,
      "id": "fb0c916a",
      "metadata": {},
      "outputs": [
        {
          "data": {
            "text/plain": [
              "[6, 8, 6, 9]"
            ]
          },
          "execution_count": 8,
          "metadata": {},
          "output_type": "execute_result"
        }
      ],
      "source": [
        "lista1 = [1,4,6,3,8,6,9]\n",
        "lista2 = [x for x in lista1 if x > 5]\n",
        "lista2"
      ]
    },
    {
      "cell_type": "markdown",
      "id": "c794bdaa",
      "metadata": {},
      "source": [
        "### Esercizio\n",
        "\n",
        "Data una lista di stringhe `L` e una lettera `x`, produrre una nuova lista contenente solo le stringhe di `L` che hanno la lettera `x`. Ad esempio, se `L = ['mario', 'alice', 'carla', 'luigi']` e se la lettera è `c`, la nuova lista deve essere `['alice', 'carla']`"
      ]
    },
    {
      "cell_type": "code",
      "execution_count": 10,
      "id": "11ed49e1",
      "metadata": {},
      "outputs": [
        {
          "name": "stdout",
          "output_type": "stream",
          "text": [
            "['alice', 'carla']\n"
          ]
        }
      ],
      "source": [
        "nomi = ['mario', 'alice', 'carla', 'luigi']\n",
        "\n",
        "print(nomi_con_la_c)"
      ]
    },
    {
      "cell_type": "markdown",
      "id": "f7a83879",
      "metadata": {},
      "source": [
        "### Un esempio dal futuro ..."
      ]
    },
    {
      "cell_type": "code",
      "execution_count": null,
      "id": "408e9d44",
      "metadata": {},
      "outputs": [],
      "source": [
        "name = 'Frank Herbert'\n",
        "regex = '[^.]*' + name + '[^.]*'\n",
        "matches = re.findall(regex, complete_text)\n",
        "[m.strip() + '.' for m in matches]"
      ]
    },
    {
      "cell_type": "markdown",
      "id": "89e68aa1",
      "metadata": {},
      "source": [
        "# Tuple"
      ]
    },
    {
      "cell_type": "markdown",
      "id": "5e59d82f",
      "metadata": {},
      "source": [
        "Sono tipi di dati analoghi alle liste, ma sono **immutabili**. Sono delimitate da due parentesi tonde. Si comportano analogamente alle liste, eccetto, ovviamente, per le operazioni che comportano una modifica. Tali operazioni generano errore."
      ]
    },
    {
      "cell_type": "code",
      "execution_count": 18,
      "id": "1c8961de",
      "metadata": {},
      "outputs": [],
      "source": [
        "t1 = (1, 3, 55, 'Fabrizio')"
      ]
    },
    {
      "cell_type": "code",
      "execution_count": 19,
      "id": "f6e47426",
      "metadata": {},
      "outputs": [
        {
          "data": {
            "text/plain": [
              "1"
            ]
          },
          "execution_count": 19,
          "metadata": {},
          "output_type": "execute_result"
        }
      ],
      "source": [
        "t1[0]"
      ]
    },
    {
      "cell_type": "code",
      "execution_count": 20,
      "id": "ae413fa7",
      "metadata": {},
      "outputs": [
        {
          "data": {
            "text/plain": [
              "'Fabrizio'"
            ]
          },
          "execution_count": 20,
          "metadata": {},
          "output_type": "execute_result"
        }
      ],
      "source": [
        "t1[3]"
      ]
    },
    {
      "cell_type": "code",
      "execution_count": 21,
      "id": "3c6c91c9",
      "metadata": {},
      "outputs": [
        {
          "data": {
            "text/plain": [
              "'a'"
            ]
          },
          "execution_count": 21,
          "metadata": {},
          "output_type": "execute_result"
        }
      ],
      "source": [
        "t1[3][1]"
      ]
    },
    {
      "cell_type": "code",
      "execution_count": 23,
      "id": "9fcfcd80",
      "metadata": {},
      "outputs": [
        {
          "ename": "TypeError",
          "evalue": "'tuple' object does not support item assignment",
          "output_type": "error",
          "traceback": [
            "\u001b[1;31m---------------------------------------------------------------------------\u001b[0m",
            "\u001b[1;31mTypeError\u001b[0m                                 Traceback (most recent call last)",
            "Cell \u001b[1;32mIn[23], line 1\u001b[0m\n\u001b[1;32m----> 1\u001b[0m \u001b[43mt1\u001b[49m\u001b[43m[\u001b[49m\u001b[38;5;241;43m1\u001b[39;49m\u001b[43m]\u001b[49m \u001b[38;5;241m=\u001b[39m \u001b[38;5;241m12\u001b[39m\n",
            "\u001b[1;31mTypeError\u001b[0m: 'tuple' object does not support item assignment"
          ]
        }
      ],
      "source": [
        "t1[1] = 12"
      ]
    },
    {
      "cell_type": "markdown",
      "id": "36acfc56",
      "metadata": {},
      "source": [
        "Molto spesso le funzioni e i metodi di Python restituiscono tuple."
      ]
    },
    {
      "cell_type": "markdown",
      "id": "acefd29c",
      "metadata": {},
      "source": [
        "# Dizionari"
      ]
    },
    {
      "cell_type": "markdown",
      "id": "75595cd0",
      "metadata": {},
      "source": [
        "Un `dict` (dictionary) è una tabella con una o più `keys` a ognuna delle quali corrisponde un `value`. "
      ]
    },
    {
      "cell_type": "code",
      "execution_count": 27,
      "id": "abb28368",
      "metadata": {},
      "outputs": [],
      "source": [
        "d1 = {'nome': 'Mickey', 'cognome': 'Mouse'}"
      ]
    },
    {
      "cell_type": "code",
      "execution_count": 28,
      "id": "9f845261",
      "metadata": {},
      "outputs": [
        {
          "data": {
            "text/plain": [
              "dict"
            ]
          },
          "execution_count": 28,
          "metadata": {},
          "output_type": "execute_result"
        }
      ],
      "source": [
        "type(d1)"
      ]
    },
    {
      "cell_type": "markdown",
      "id": "60bd71b3",
      "metadata": {},
      "source": [
        "Gli elementi di un dizionario sono raggruppati in `items`, `keys` e `values`."
      ]
    },
    {
      "cell_type": "code",
      "execution_count": 29,
      "id": "f22b4baa",
      "metadata": {},
      "outputs": [
        {
          "data": {
            "text/plain": [
              "dict_items([('nome', 'Mickey'), ('cognome', 'Mouse')])"
            ]
          },
          "execution_count": 29,
          "metadata": {},
          "output_type": "execute_result"
        }
      ],
      "source": [
        "d1.items()"
      ]
    },
    {
      "cell_type": "code",
      "execution_count": 30,
      "id": "2afceb00",
      "metadata": {},
      "outputs": [
        {
          "data": {
            "text/plain": [
              "dict_keys(['nome', 'cognome'])"
            ]
          },
          "execution_count": 30,
          "metadata": {},
          "output_type": "execute_result"
        }
      ],
      "source": [
        "d1.keys()"
      ]
    },
    {
      "cell_type": "code",
      "execution_count": 35,
      "id": "f7ebb91e",
      "metadata": {},
      "outputs": [
        {
          "data": {
            "text/plain": [
              "dict_values(['Minnie', 'Mouse'])"
            ]
          },
          "execution_count": 35,
          "metadata": {},
          "output_type": "execute_result"
        }
      ],
      "source": [
        "d1.values()"
      ]
    },
    {
      "cell_type": "markdown",
      "id": "d8d02e93",
      "metadata": {},
      "source": [
        "Le keys di un dizionario devono essere **uniche** e **immutabili**. Come keys si usano di solito stringhe (`nome`, `cognome`) ma si possono usare anche numeri. I values invece sono mutabili."
      ]
    },
    {
      "cell_type": "code",
      "execution_count": 36,
      "id": "9ab5fa88",
      "metadata": {},
      "outputs": [],
      "source": [
        "d1['nome'] = 'Minnie'"
      ]
    },
    {
      "cell_type": "code",
      "execution_count": 37,
      "id": "26c9157d",
      "metadata": {},
      "outputs": [
        {
          "data": {
            "text/plain": [
              "{'nome': 'Minnie', 'cognome': 'Mouse'}"
            ]
          },
          "execution_count": 37,
          "metadata": {},
          "output_type": "execute_result"
        }
      ],
      "source": [
        "d1"
      ]
    },
    {
      "cell_type": "markdown",
      "id": "03e1a84d",
      "metadata": {},
      "source": [
        "Per aggiungere una chiave a un dizionario, basta usare la sintassi per la modifica. Se la chiave non esiste, viene creata e il valore viene associato."
      ]
    },
    {
      "cell_type": "code",
      "execution_count": 38,
      "id": "d3113445",
      "metadata": {},
      "outputs": [],
      "source": [
        "d1['creatore'] = 'Disney'"
      ]
    },
    {
      "cell_type": "code",
      "execution_count": 39,
      "id": "a0816cfb",
      "metadata": {},
      "outputs": [
        {
          "data": {
            "text/plain": [
              "{'nome': 'Minnie', 'cognome': 'Mouse', 'creatore': 'Disney'}"
            ]
          },
          "execution_count": 39,
          "metadata": {},
          "output_type": "execute_result"
        }
      ],
      "source": [
        "d1"
      ]
    },
    {
      "cell_type": "code",
      "execution_count": 40,
      "id": "7d6cbbd4",
      "metadata": {},
      "outputs": [],
      "source": [
        "del d1['creatore']"
      ]
    },
    {
      "cell_type": "code",
      "execution_count": 41,
      "id": "621823d8",
      "metadata": {},
      "outputs": [
        {
          "data": {
            "text/plain": [
              "{'nome': 'Minnie', 'cognome': 'Mouse'}"
            ]
          },
          "execution_count": 41,
          "metadata": {},
          "output_type": "execute_result"
        }
      ],
      "source": [
        "d1"
      ]
    },
    {
      "cell_type": "markdown",
      "id": "934fe733",
      "metadata": {},
      "source": [
        "### Come leggere i dati di un dizionario"
      ]
    },
    {
      "cell_type": "markdown",
      "id": "23be5e8e",
      "metadata": {},
      "source": [
        "Si può usare il metodo `items` che restituisce, una ad una, le coppie `(chiave, valore)` come una tupla."
      ]
    },
    {
      "cell_type": "code",
      "execution_count": 46,
      "id": "81debf7b",
      "metadata": {},
      "outputs": [
        {
          "name": "stdout",
          "output_type": "stream",
          "text": [
            "nome: Mickey\n",
            "cognome: Mouse\n",
            "anno_di_nascita: 1928\n"
          ]
        }
      ],
      "source": [
        "for key, value in d1.items():\n",
        "    print(f'{key}: {value}')"
      ]
    },
    {
      "cell_type": "markdown",
      "id": "3a20b7e6",
      "metadata": {},
      "source": [
        "### Dizionari nella rappresentazione dei dati"
      ]
    },
    {
      "cell_type": "markdown",
      "id": "aa6cc586",
      "metadata": {},
      "source": [
        "I dizionari sono usati molto per rappresentare i dati. Supponiamo che i dati siano in una tabella\n",
        "\n",
        "|nome | cognome | anno_di_nascita|\n",
        "|-----|---------|----------------|\n",
        "|Mickey | Mouse | 1928|\n",
        "|Minnie | Mouse | 1928|\n",
        "|Wile E.|Coyote | 1949|\n",
        "\n",
        "e quindi ogni riga è un dizionario. E la tabella è una lista di dizionari."
      ]
    },
    {
      "cell_type": "code",
      "execution_count": 44,
      "id": "66b3e36a",
      "metadata": {},
      "outputs": [
        {
          "name": "stdout",
          "output_type": "stream",
          "text": [
            "{'nome': 'Mickey', 'cognome': 'Mouse', 'anno_di_nascita': 1928}\n",
            "{'nome': 'Minnie', 'cognome': 'Mouse', 'anno_di_nascita': 1928}\n",
            "{'nome': 'Wile E.', 'cognome': 'Coyote', 'anno_di_nascita': 1949}\n",
            "[{'nome': 'Mickey', 'cognome': 'Mouse', 'anno_di_nascita': 1928}, {'nome': 'Minnie', 'cognome': 'Mouse', 'anno_di_nascita': 1928}, {'nome': 'Wile E.', 'cognome': 'Coyote', 'anno_di_nascita': 1949}]\n"
          ]
        }
      ],
      "source": [
        "d1 = {}\n",
        "d1['nome'] = 'Mickey'\n",
        "d1['cognome'] = 'Mouse'\n",
        "d1['anno_di_nascita'] = 1928\n",
        "\n",
        "d2 = {}\n",
        "d2['nome'] = 'Minnie'\n",
        "d2['cognome'] = 'Mouse'\n",
        "d2['anno_di_nascita'] = 1928\n",
        "\n",
        "d3 = {}\n",
        "d3['nome'] = 'Wile E.'\n",
        "d3['cognome'] = 'Coyote'\n",
        "d3['anno_di_nascita'] = 1949\n",
        "\n",
        "print(d1)\n",
        "print(d2)\n",
        "print(d3)\n",
        "\n",
        "personaggi_cartoni = []\n",
        "personaggi_cartoni.append(d1)\n",
        "personaggi_cartoni.append(d2)\n",
        "personaggi_cartoni.append(d3)\n",
        "\n",
        "print(personaggi_cartoni)"
      ]
    },
    {
      "cell_type": "markdown",
      "id": "18d3b755",
      "metadata": {},
      "source": [
        "### Esercizio"
      ]
    },
    {
      "cell_type": "markdown",
      "id": "05ce98c3",
      "metadata": {},
      "source": [
        "Scrivere un piccolo programma che legge la lista dei personaggi `personaggi_cartoni` e stampa di ciascuno *solo* l'anno di nascita."
      ]
    },
    {
      "cell_type": "code",
      "execution_count": 48,
      "id": "d26a58a3",
      "metadata": {},
      "outputs": [
        {
          "name": "stdout",
          "output_type": "stream",
          "text": [
            "1928\n",
            "1928\n",
            "1949\n"
          ]
        }
      ],
      "source": [
        "for personaggio in personaggi_cartoni:\n",
        "    # personaggio è un dict\n",
        "    print(f'{personaggio[\"anno_di_nascita\"]}')"
      ]
    },
    {
      "cell_type": "markdown",
      "id": "53830faf",
      "metadata": {},
      "source": [
        "## I dizionari non hanno indici, ma solo chiavi"
      ]
    },
    {
      "cell_type": "markdown",
      "id": "7fc56525",
      "metadata": {},
      "source": [
        "I dizionari non hanno indici: non c'è un primo elemento, un secondo elemento, ecc. come nelle liste, nelle stringhe e nelle tuple. L'unica maniera per accedere ai valori in un dizionario è utilizzare le chiavi.\n",
        "\n",
        "I dizionari sono implementati con algoritmi particolarmente efficienti e quindi, data una chiave, recuperano il valore in tempo molto rapido."
      ]
    },
    {
      "cell_type": "markdown",
      "id": "223a436a",
      "metadata": {},
      "source": [
        "# Sets"
      ]
    },
    {
      "cell_type": "markdown",
      "id": "c598a95c",
      "metadata": {},
      "source": [
        "I `sets` sono \"raccolte di oggetti\" con l'unico requisito che lo stesso oggetto non può essere incluso più di una volta, come per gli insiemi in matematica. Si definiscono con le parentesi graffe come i dizionari ma non c'è amnbiguità perché non ci sono i `:`."
      ]
    },
    {
      "cell_type": "code",
      "execution_count": 49,
      "id": "4a9aeb4b",
      "metadata": {},
      "outputs": [],
      "source": [
        "set1 = {1, 3, 'Fabrizio', 99}"
      ]
    },
    {
      "cell_type": "code",
      "execution_count": 51,
      "id": "7b54a88f",
      "metadata": {},
      "outputs": [
        {
          "data": {
            "text/plain": [
              "set"
            ]
          },
          "execution_count": 51,
          "metadata": {},
          "output_type": "execute_result"
        }
      ],
      "source": [
        "type(set1)"
      ]
    },
    {
      "cell_type": "code",
      "execution_count": 52,
      "id": "f5ae16c5",
      "metadata": {},
      "outputs": [
        {
          "data": {
            "text/plain": [
              "{1, 3, 4, 99, 'Fabrizio'}"
            ]
          },
          "execution_count": 52,
          "metadata": {},
          "output_type": "execute_result"
        }
      ],
      "source": [
        "set1.add(4)\n",
        "set1"
      ]
    },
    {
      "cell_type": "code",
      "execution_count": 53,
      "id": "d6fc7df8",
      "metadata": {},
      "outputs": [
        {
          "data": {
            "text/plain": [
              "True"
            ]
          },
          "execution_count": 53,
          "metadata": {},
          "output_type": "execute_result"
        }
      ],
      "source": [
        "99 in set1"
      ]
    },
    {
      "cell_type": "code",
      "execution_count": 54,
      "id": "287fd2c0",
      "metadata": {},
      "outputs": [
        {
          "data": {
            "text/plain": [
              "False"
            ]
          },
          "execution_count": 54,
          "metadata": {},
          "output_type": "execute_result"
        }
      ],
      "source": [
        "100 in set1"
      ]
    },
    {
      "cell_type": "code",
      "execution_count": 55,
      "id": "5ce6900a",
      "metadata": {},
      "outputs": [],
      "source": [
        "set2 = {5, 55, 555}"
      ]
    },
    {
      "cell_type": "code",
      "execution_count": 58,
      "id": "979405a2",
      "metadata": {},
      "outputs": [],
      "source": [
        "set3 = set1.union(set2)"
      ]
    },
    {
      "cell_type": "code",
      "execution_count": 59,
      "id": "086cf35a",
      "metadata": {},
      "outputs": [
        {
          "data": {
            "text/plain": [
              "{1, 3, 4, 5, 55, 555, 99, 'Fabrizio'}"
            ]
          },
          "execution_count": 59,
          "metadata": {},
          "output_type": "execute_result"
        }
      ],
      "source": [
        "set3"
      ]
    },
    {
      "cell_type": "code",
      "execution_count": 60,
      "id": "d09c78b3",
      "metadata": {},
      "outputs": [
        {
          "data": {
            "text/plain": [
              "set()"
            ]
          },
          "execution_count": 60,
          "metadata": {},
          "output_type": "execute_result"
        }
      ],
      "source": [
        "set1.intersection(set2)"
      ]
    },
    {
      "cell_type": "code",
      "execution_count": 61,
      "id": "a90dcbff",
      "metadata": {},
      "outputs": [],
      "source": [
        "set1.remove('Fabrizio')"
      ]
    },
    {
      "cell_type": "code",
      "execution_count": 62,
      "id": "530112dd",
      "metadata": {},
      "outputs": [
        {
          "data": {
            "text/plain": [
              "{1, 3, 4, 99}"
            ]
          },
          "execution_count": 62,
          "metadata": {},
          "output_type": "execute_result"
        }
      ],
      "source": [
        "set1"
      ]
    },
    {
      "cell_type": "markdown",
      "id": "7bb46efc",
      "metadata": {},
      "source": [
        "# Trasformazione di oggetti di un tipo in oggetti di un altro tipo"
      ]
    },
    {
      "cell_type": "markdown",
      "id": "3d8b694e",
      "metadata": {},
      "source": [
        "Supponiamo che i dati che interessa analizzare siano contenuti in un insieme e che il programma che li deve analizzare debba usare una lista."
      ]
    },
    {
      "cell_type": "code",
      "execution_count": 73,
      "id": "46343668",
      "metadata": {},
      "outputs": [],
      "source": [
        "l1 = list(set1)"
      ]
    },
    {
      "cell_type": "code",
      "execution_count": 74,
      "id": "f8b226a8",
      "metadata": {},
      "outputs": [
        {
          "data": {
            "text/plain": [
              "[1, 3, 4, 99]"
            ]
          },
          "execution_count": 74,
          "metadata": {},
          "output_type": "execute_result"
        }
      ],
      "source": [
        "l1"
      ]
    },
    {
      "cell_type": "code",
      "execution_count": 75,
      "id": "056aea24",
      "metadata": {},
      "outputs": [],
      "source": [
        "t1 = tuple(set1)"
      ]
    },
    {
      "cell_type": "code",
      "execution_count": 76,
      "id": "12507d88",
      "metadata": {},
      "outputs": [
        {
          "data": {
            "text/plain": [
              "(1, 3, 4, 99)"
            ]
          },
          "execution_count": 76,
          "metadata": {},
          "output_type": "execute_result"
        }
      ],
      "source": [
        "t1"
      ]
    },
    {
      "cell_type": "code",
      "execution_count": 77,
      "id": "4ff1006e",
      "metadata": {},
      "outputs": [],
      "source": [
        "l2 = list(t1)"
      ]
    },
    {
      "cell_type": "code",
      "execution_count": 78,
      "id": "51be50ab",
      "metadata": {},
      "outputs": [
        {
          "data": {
            "text/plain": [
              "[1, 3, 4, 99]"
            ]
          },
          "execution_count": 78,
          "metadata": {},
          "output_type": "execute_result"
        }
      ],
      "source": [
        "l2"
      ]
    },
    {
      "cell_type": "markdown",
      "id": "5e6aa7a4",
      "metadata": {},
      "source": [
        "Si può fare anche il contrario"
      ]
    },
    {
      "cell_type": "code",
      "execution_count": 79,
      "id": "e0a22b58",
      "metadata": {},
      "outputs": [],
      "source": [
        "set3 = set(l1)"
      ]
    },
    {
      "cell_type": "code",
      "execution_count": 80,
      "id": "a33f7bd0",
      "metadata": {},
      "outputs": [
        {
          "data": {
            "text/plain": [
              "{1, 3, 4, 99}"
            ]
          },
          "execution_count": 80,
          "metadata": {},
          "output_type": "execute_result"
        }
      ],
      "source": [
        "set3"
      ]
    },
    {
      "cell_type": "code",
      "execution_count": null,
      "id": "8b7849e7",
      "metadata": {},
      "outputs": [],
      "source": []
    }
  ],
  "metadata": {
    "colab": {
      "provenance": []
    },
    "kernelspec": {
      "display_name": "Python 3 (ipykernel)",
      "language": "python",
      "name": "python3"
    },
    "language_info": {
      "codemirror_mode": {
        "name": "ipython",
        "version": 3
      },
      "file_extension": ".py",
      "mimetype": "text/x-python",
      "name": "python",
      "nbconvert_exporter": "python",
      "pygments_lexer": "ipython3",
      "version": "3.11.5"
    }
  },
  "nbformat": 4,
  "nbformat_minor": 5
}
