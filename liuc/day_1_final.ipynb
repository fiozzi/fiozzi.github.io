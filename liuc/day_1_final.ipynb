{
 "cells": [
  {
   "cell_type": "markdown",
   "metadata": {},
   "source": [
    "## Programma Giorno 1"
   ]
  },
  {
   "cell_type": "markdown",
   "metadata": {},
   "source": [
    "### Primo approccio\n",
    "- Scaricamento di Anaconda (breve cenno ai diversi modi di installare python)\n",
    "- Ambienti di lavoro: spyder, jupyter notebook\n",
    "- Elementi fondamentali di un linguaggio di programmazione:\n",
    "  - Comandi, sintassi (maiuscole, minuscole, spazi, tabs)\n",
    "  - Primo programma, funzioni finanziarie. Moduli, importazione"
   ]
  },
  {
   "cell_type": "markdown",
   "metadata": {},
   "source": [
    "### Python: sintassi, espressioni e variabili\n",
    "Python is one of the most popular languages for data science (alternatives are R, Julia, Matlab). It is a high-level, **interpreted**, and **object-oriented** programming language.\n",
    "The source code (.py) is translated into bytecodes (.pyc, portable!) that is executed by the Python Virtual Machine\n",
    "* Pros: general purpose, edit-test-debug cycle is fast, easy to learn and to read, portable, huge community: libraries etc\n",
    "* Cons: can be too slow for extremely data-intensive operations, dynamic typing sometime makes the code hard to debug"
   ]
  },
  {
   "cell_type": "markdown",
   "metadata": {},
   "source": [
    "## Python Objects\n",
    "In Python, everything is an \"object\" and programs manipulate data objects. \n",
    "For example, some basic data type objects are:\n",
    "  - int, float: represent integers, real numbers\n",
    "  - bool -- represent Boolean values (True / False)\n",
    "  - NoneType -- special and has only one value, None\n",
    "If you want to know what type an object is, use the function `type`\n",
    "For a complete list of built-in types see\n",
    "[https://docs.python.org/3/library/stdtypes.html](https://docs.python.org/3/library/stdtypes.html)"
   ]
  },
  {
   "cell_type": "markdown",
   "metadata": {},
   "source": [
    "## Expressions\n",
    "Objects and operators can be combined to form expressions. Each expression has a value (and therefore a type)\n",
    "Basic operations: `i + j`, `i - j`, `i * j`, `i / j`, `i // j`, `i % j`, `i**j` (use parentheses to specify precedence)"
   ]
  },
  {
   "cell_type": "markdown",
   "metadata": {},
   "source": [
    "## Assignment\n",
    "Equal sign (=) is an assignment of a value to a variable name! Actually, **all variables in Python are references**. The meaning of `x = 2 ` is \n",
    "*2 is stored in a memory location X and `x` is a \"label\" of X*.\n",
    "Assignment `y = x` copies the label, does not take another  memory location"
   ]
  },
  {
   "cell_type": "code",
   "execution_count": 3,
   "metadata": {},
   "outputs": [],
   "source": [
    "x = 2\n"
   ]
  },
  {
   "cell_type": "code",
   "execution_count": 4,
   "metadata": {},
   "outputs": [
    {
     "data": {
      "text/plain": [
       "140728962783704"
      ]
     },
     "execution_count": 4,
     "metadata": {},
     "output_type": "execute_result"
    }
   ],
   "source": [
    "id(x)\n"
   ]
  },
  {
   "cell_type": "code",
   "execution_count": 5,
   "metadata": {},
   "outputs": [],
   "source": [
    "y = x"
   ]
  },
  {
   "cell_type": "code",
   "execution_count": 6,
   "metadata": {},
   "outputs": [
    {
     "data": {
      "text/plain": [
       "140728962783704"
      ]
     },
     "execution_count": 6,
     "metadata": {},
     "output_type": "execute_result"
    }
   ],
   "source": [
    "id(y)"
   ]
  },
  {
   "cell_type": "code",
   "execution_count": 7,
   "metadata": {},
   "outputs": [],
   "source": [
    "x=3"
   ]
  },
  {
   "cell_type": "code",
   "execution_count": 8,
   "metadata": {},
   "outputs": [
    {
     "data": {
      "text/plain": [
       "3"
      ]
     },
     "execution_count": 8,
     "metadata": {},
     "output_type": "execute_result"
    }
   ],
   "source": [
    "x"
   ]
  },
  {
   "cell_type": "code",
   "execution_count": 9,
   "metadata": {},
   "outputs": [
    {
     "data": {
      "text/plain": [
       "2"
      ]
     },
     "execution_count": 9,
     "metadata": {},
     "output_type": "execute_result"
    }
   ],
   "source": [
    "y"
   ]
  },
  {
   "cell_type": "markdown",
   "metadata": {},
   "source": [
    "\n",
    "  We can re-bind variable names using new assignment statements:\n"
   ]
  },
  {
   "cell_type": "code",
   "execution_count": 10,
   "metadata": {},
   "outputs": [],
   "source": [
    "x = 2\n",
    "x = 'Donald Duck'"
   ]
  },
  {
   "cell_type": "markdown",
   "metadata": {},
   "source": [
    "2 still uses a memory location but now it is not accessible (it will be cleaned up later ...)\n",
    "\n",
    "A Python program accesses data values through references. What is important is whether a type is **mutable** or **immutable**.\n",
    "The basic numeric and string types, as well as tuples and frozensets are immutable; names that are bound to an object of one of those types can only be re-bound, not mutated.\n",
    "\n"
   ]
  },
  {
   "cell_type": "markdown",
   "metadata": {},
   "source": [
    "# Sequences\n",
    "\n",
    "- Sequence types are collections with **indexes**. \n",
    "- **Indexes start from 0**\n",
    "\n",
    "## Tuples\n",
    "- A tuple is an **immutable**, **sequence** of elements (elements’ types can be of any type)\n",
    "- Represented with parentheses\n",
    "- Used also to return more than one value from a function\n"
   ]
  },
  {
   "cell_type": "code",
   "execution_count": 11,
   "metadata": {},
   "outputs": [
    {
     "name": "stdout",
     "output_type": "stream",
     "text": [
      "<class 'tuple'>\n"
     ]
    }
   ],
   "source": [
    "t1 = (2,5,7,9)\n",
    "print(type(t1))"
   ]
  },
  {
   "cell_type": "code",
   "execution_count": 14,
   "metadata": {},
   "outputs": [
    {
     "name": "stdout",
     "output_type": "stream",
     "text": [
      "2\n",
      "7\n",
      "(1, 2)\n"
     ]
    }
   ],
   "source": [
    "print(t1[0])\n",
    "print(t1[2])\n",
    "\n",
    "t2 = (12, 'Mickey Mouse', (1,2))\n",
    "\n",
    "print(t2[2])"
   ]
  },
  {
   "cell_type": "code",
   "execution_count": 15,
   "metadata": {},
   "outputs": [
    {
     "ename": "TypeError",
     "evalue": "'tuple' object does not support item assignment",
     "output_type": "error",
     "traceback": [
      "\u001b[1;31m---------------------------------------------------------------------------\u001b[0m",
      "\u001b[1;31mTypeError\u001b[0m                                 Traceback (most recent call last)",
      "Cell \u001b[1;32mIn[15], line 3\u001b[0m\n\u001b[0;32m      1\u001b[0m \u001b[38;5;66;03m## tuples are immutable objects! The following code generates an exception\u001b[39;00m\n\u001b[1;32m----> 3\u001b[0m \u001b[43mt1\u001b[49m\u001b[43m[\u001b[49m\u001b[38;5;241;43m1\u001b[39;49m\u001b[43m]\u001b[49m \u001b[38;5;241m=\u001b[39m \u001b[38;5;241m88\u001b[39m \n",
      "\u001b[1;31mTypeError\u001b[0m: 'tuple' object does not support item assignment"
     ]
    }
   ],
   "source": [
    "## tuples are immutable objects! The following code generates an exception\n",
    "\n",
    "t1[1] = 88 \n"
   ]
  },
  {
   "cell_type": "markdown",
   "metadata": {},
   "source": [
    "## Lists\n",
    "\n",
    "A list is a **mutable sequence** of elements (elements’ types can be of any type)\n"
   ]
  },
  {
   "cell_type": "code",
   "execution_count": 19,
   "metadata": {},
   "outputs": [
    {
     "name": "stdout",
     "output_type": "stream",
     "text": [
      "<class 'list'>\n",
      "Donald Duck\n",
      "3081987124992\n",
      "l1=[1, 2, 'Donald Duck'], l2=[1, 2, 3, 44], l3=[1, 2, 3, 44]\n",
      "None\n"
     ]
    }
   ],
   "source": [
    "l1 = [1, 2, 'Donald Duck']\n",
    "print(type(l1))\n",
    "\n",
    "print(l1[2])\n",
    "\n",
    "l2 = [1, 2, 3] # creating a list, referenced by l2\n",
    "l3 = l2        # l3 is a copy of l2, so it points at the same list\n",
    "\n",
    "print(id(l2))\n",
    "\n",
    "l3.append(44)\n",
    "\n",
    "print(f'l1={l1}, {l2=}, {l3=}')\n",
    "l3 = l2.append(55)\n",
    "print(l3)"
   ]
  },
  {
   "cell_type": "code",
   "execution_count": 21,
   "metadata": {},
   "outputs": [
    {
     "data": {
      "text/plain": [
       "[1, 2, 3, 44, 55]"
      ]
     },
     "execution_count": 21,
     "metadata": {},
     "output_type": "execute_result"
    }
   ],
   "source": [
    "l2 "
   ]
  },
  {
   "cell_type": "markdown",
   "metadata": {},
   "source": [
    "### Negative Indexing:\n",
    "In sequences, negative indexing is allowed. It counts elements from *the end* of the sequence.\n",
    "\n"
   ]
  },
  {
   "cell_type": "code",
   "execution_count": 23,
   "metadata": {},
   "outputs": [
    {
     "name": "stdout",
     "output_type": "stream",
     "text": [
      "7\n",
      "7\n",
      "11\n"
     ]
    }
   ],
   "source": [
    "l1 = [1, 3, 6, 7, 9, 11]\n",
    "print(l1[3])\n",
    "print(l1[-3])\n",
    "print(l1[-1])"
   ]
  },
  {
   "cell_type": "markdown",
   "metadata": {},
   "source": [
    "### Slicing:\n",
    "In sequences, instead of specifying a single index, as in `a[3]` you can specify a *slice* object in the form `start:stop:step`. This returns a copy of the sequence containing only the elements indexed `start` to `stop - 1`"
   ]
  },
  {
   "cell_type": "code",
   "execution_count": 24,
   "metadata": {},
   "outputs": [
    {
     "name": "stdout",
     "output_type": "stream",
     "text": [
      "[1, 3, 6, 7, 9, 11]\n",
      "[6, 7, 9]\n",
      "[6, 7, 9, 11]\n",
      "[1, 3, 6]\n",
      "[1, 3, 6, 7, 9, 11]\n",
      "[9, 11]\n"
     ]
    }
   ],
   "source": [
    "print(l1)\n",
    "print( l1[2:5] ) # from the thrid to the fourth (the second index is the first not to be included)\n",
    "\n",
    "print( l1[2:] ) # from the third to the end\n",
    "\n",
    "print( l1[:3] ) \n",
    "\n",
    "print( l1[:] )\n",
    "\n",
    "print( l1[-2:] )\n"
   ]
  },
  {
   "cell_type": "markdown",
   "metadata": {},
   "source": [
    "### Copying a list via slicing"
   ]
  },
  {
   "cell_type": "code",
   "execution_count": 33,
   "metadata": {},
   "outputs": [
    {
     "name": "stdout",
     "output_type": "stream",
     "text": [
      "[1, 2, 3, 44, 55]\n",
      "[1, 2, 3, 44, 55]\n",
      "l4=[1, 2, 3, 44, 55, 55], quello che vuoi l2=[1, 2, 3, 44, 55]\n",
      "ciao__ciao__32\n"
     ]
    }
   ],
   "source": [
    "print(l2)\n",
    "\n",
    "l4 = l2[:]\n",
    "print(l4)\n",
    "\n",
    "l4.append(55)\n",
    "print(f'{l4=}, quello che vuoi {l2=}')\n",
    "# questo l'ha chiesto Giovanni\n",
    "'''\n",
    "sldfkj lsjf slfjsd flsdk jfs\n",
    "lskfjslfdksjfs ldfjs lfs jdfls j\n",
    "'''\n",
    "print('ciao', 'ciao', 32, sep='__')\n"
   ]
  },
  {
   "cell_type": "markdown",
   "metadata": {},
   "source": [
    "### Range:\n",
    "The range type represents an **immutable** sequence of numbers and is commonly used for looping a specific number of times in for loops."
   ]
  },
  {
   "cell_type": "code",
   "execution_count": 34,
   "metadata": {},
   "outputs": [
    {
     "name": "stdout",
     "output_type": "stream",
     "text": [
      "range(0, 10)\n",
      "[0, 1, 2, 3, 4, 5, 6, 7, 8, 9]\n",
      "[1, 4, 7, 10, 13]\n"
     ]
    }
   ],
   "source": [
    "print(range(10))\n",
    "\n",
    "print(list(range(10)))\n",
    "\n",
    "print(list(range(1,15,3)))\n"
   ]
  },
  {
   "cell_type": "markdown",
   "metadata": {},
   "source": [
    "## Strings\n",
    "\n",
    "- In Python, strings (the type str) are **immutable**. You may think of them as tuples of characters.\n",
    "\n",
    "- To create string literals you may use:\n",
    "  - Single quotes: 'allows embedded \"double\" quotes'\n",
    "  - Double quotes: \"allows embedded 'single' quotes\"\n",
    "  - Triple quoted: '''Three single quotes''', \"\"\"Three double quotes\"\"\"\n",
    "\n",
    "  Since strings are sequences, you can use slicing to extract substrings.\n"
   ]
  },
  {
   "cell_type": "code",
   "execution_count": 38,
   "metadata": {},
   "outputs": [
    {
     "name": "stdout",
     "output_type": "stream",
     "text": [
      "s1='cat' 3081892070720 <class 'str'>\n",
      "s2='cat' 3081892070720 <class 'str'>\n",
      "Is s1 identical to s2? True\n",
      "s3='cat' 3081960509568\n",
      "Is s1 equal to s3? True\n",
      "Is s1 identical to s3? False\n",
      "gorit\n",
      "believed.\n"
     ]
    }
   ],
   "source": [
    "\n",
    "s1 = \"cat\"\n",
    "print(f'{s1=}', id(s1), type(s1))\n",
    "s2 = s1\n",
    "print(f'{s2=}', id(s2), type(s2))\n",
    "\n",
    "print('Is s1 identical to s2?', s1 is s2)\n",
    "\n",
    "s3 = \"ca\"\n",
    "s3 = s3 + \"t\"\n",
    "print(f'{s3=}', id(s3))\n",
    "\n",
    "print(f'Is s1 equal to s3? {s1 == s3}')\n",
    "print(f'Is s1 identical to s3? {s1 is s3}')\n",
    "\n",
    "# The following generates error\n",
    "# s2[2] = \"r\"\n",
    "\n",
    "long_str = \"An algorithm must be seen to be believed.\"\n",
    "print(long_str[5:10])\n",
    "print(long_str[-9:])"
   ]
  },
  {
   "cell_type": "markdown",
   "metadata": {},
   "source": [
    "\n",
    "## Functions: benefits\n",
    "  \n",
    "  Functions are reusable pieces of code. A function is a subprogram *solving a specific task*. Functions:\n",
    "  * improve organization and clarity of the code (the details are within the function, therefore the flow of the program is more readable);\n",
    "  * remove the need for making copies of code (the \"DRY principle\": Don't Repeat Yourself);\n",
    "  * might be provided by other parties (so you don't worry about writing them)\n",
    "  * are easy to maintain (because they do just one thing)\n",
    "  \n",
    "## Functions: mechanism\n",
    "  \n",
    "  * Functions are not run until they are “called” or “invoked” in a program\n",
    "  * You call a function to execute its code: you can think of the execution as jumping from the calling site to the function body, and jumping back out when the function terminates, by resuming execution in the caller from where it left\n",
    "  * You can call functions within functions\n",
    "  \n",
    "## Functions: structure\n",
    "  \n",
    "  * A function has a name\n",
    "  * It accepts input parameters\n",
    "  * It has a body\n",
    "  * At the end of the code gives back the control to the calling program. Whenever a `return` statement is executed in the body of the fucntion, what follows `return` is returned to the calling program. If no `return` statement is executed, the function returns `None` \n",
    "\n",
    "## Standard Library Functions\n",
    "\n"
   ]
  },
  {
   "cell_type": "code",
   "execution_count": 39,
   "metadata": {},
   "outputs": [
    {
     "name": "stdout",
     "output_type": "stream",
     "text": [
      "The square root of 5 is 2.23606797749979.\n"
     ]
    }
   ],
   "source": [
    "import math\n",
    "\n",
    "n = 5\n",
    "s = math.sqrt(n)\n",
    "print(f'The square root of {n} is {s}.')\n"
   ]
  },
  {
   "cell_type": "markdown",
   "metadata": {},
   "source": [
    "# User-defined Functions"
   ]
  },
  {
   "cell_type": "code",
   "execution_count": 44,
   "metadata": {},
   "outputs": [
    {
     "name": "stdout",
     "output_type": "stream",
     "text": [
      "The distance of point (5,7) from the origin is 8.602325267042627\n",
      "The distance of point (5,7) from point (3,4) is 3.605551275463989Che bravo che sono a fare i conti\n",
      "The distance of point (5,7) from the origin is 8.602325267042627\n",
      "[-1.5, 0.5]\n",
      "Two real roots: -1.5, 0.5\n"
     ]
    }
   ],
   "source": [
    "import math\n",
    "\n",
    "def distance(x, y):\n",
    "    return math.sqrt(x*x+y*y)\n",
    "\n",
    "p_x = 5\n",
    "p_y = 7\n",
    "d = distance(p_x, p_y)\n",
    "print(f'The distance of point ({p_x},{p_y}) from the origin is {d}')\n",
    "\n",
    "def distance2(x_1, y_1, x_2 = 0, y_2 = 0):\n",
    "    d_x = x_1-x_2\n",
    "    d_y = y_1-y_2\n",
    "    d = math.sqrt(d_x*d_x + d_y*d_y)\n",
    "    return d\n",
    "\n",
    "# point p\n",
    "p_x = 5\n",
    "p_y = 7\n",
    "# point q\n",
    "q_x = 3\n",
    "q_y = 4\n",
    "d_pq = distance2(p_x, p_y, q_x, q_y)\n",
    "d_p = distance2(p_x, p_y)\n",
    "print(f'The distance of point ({p_x},{p_y}) from point ({q_x},{q_y}) is {d_pq}', end=\"Che bravo che sono a fare i conti\\n\")\n",
    "print(f'The distance of point ({p_x},{p_y}) from the origin is {d_p}')\n",
    "\n",
    "def quadratic(a, b, c):\n",
    "    '''\n",
    "    Input a, b, c, coefficients of a quadratic equation\n",
    "\n",
    "    Returns: a tuple with the first number equal to the number of roots\n",
    "    the equation has. It can be 0, 1, or 2. The remaining number(s) \n",
    "    are the roots (or None if there are no roots).\n",
    "    '''\n",
    "    delta = b*b - 4*a*c\n",
    "    if delta < 0:\n",
    "        return 0, None\n",
    "    elif delta == 0:\n",
    "        return 1, -b/(2*a)\n",
    "    else:\n",
    "        r1 = (-b - math.sqrt(delta))/(2*a)\n",
    "        # start with r1 below, so that we see issues with interpreter\n",
    "        r2 = (-b + math.sqrt(delta))/(2*a)\n",
    "        return 2, r1, r2\n",
    "        \n",
    "a = 4\n",
    "b = 4\n",
    "c = -3\n",
    "\n",
    "risultato = quadratic(a, b, c)\n",
    "(result, *roots) = risultato\n",
    "print(roots)\n",
    "if result == 0:\n",
    "    print('No real roots')\n",
    "elif result == 1:\n",
    "    print(f'One real root: {roots[0]}')\n",
    "else:\n",
    "    print(f'Two real roots: {roots[0]}, {roots[1]}')\n"
   ]
  },
  {
   "cell_type": "markdown",
   "metadata": {},
   "source": [
    "## Visibility of variables inside and outside functions"
   ]
  },
  {
   "cell_type": "code",
   "execution_count": null,
   "metadata": {},
   "outputs": [],
   "source": [
    "def f(x):   # x is a formal parameter\n",
    "    x = x + 1   # the value of x is increased by one\n",
    "    print(f'In the body of f(x), {x=}')\n",
    "    return x\n",
    "\n",
    "x = 3\n",
    "print(f'Outside the body of f(x), before computing z, {x=}')\n",
    "z = f(x)\n",
    "print(f'Outside the body of f(x), after computing z, {x=}')\n",
    "print(f'{z=}')\n",
    "\n",
    "def g(x):\n",
    "\n",
    "    # defines h inside g\n",
    "    def h():\n",
    "        x = 'abc'\n",
    "\n",
    "    # increase x\n",
    "    x = x + 1\n",
    "    print(f'The value of x inside g(x) before the execution of h is {x}')\n",
    "    h()\n",
    "    print(f'The value of x inside g(x) after the execution of h is {x}')\n",
    "    return x\n",
    "\n",
    "x = 3\n",
    "z = g(x)\n",
    "print(f'Outside the body of f(x), {x=}')\n",
    "print(f'{z=}')\n"
   ]
  },
  {
   "cell_type": "code",
   "execution_count": 49,
   "metadata": {
    "editable": true,
    "slideshow": {
     "slide_type": ""
    },
    "tags": []
   },
   "outputs": [
    {
     "name": "stdout",
     "output_type": "stream",
     "text": [
      "[1, 44, 56, 78, 66, 67, 121]\n",
      "[1, 44, 56, 66, 67, 78, 121]\n",
      "[1, 44, 56, 66, 67, 78, 121]\n",
      "1 44 56 [66, 67, 78, 121]\n"
     ]
    }
   ],
   "source": [
    "lista1 = [1,44,56,78,66, 67, 121]\n",
    "lista2 = sorted(lista1)\n",
    "print(lista1)\n",
    "lista1.sort()\n",
    "print(lista1)\n",
    "print(lista2)\n",
    "primo, secondo, terzo, *altri = lista1\n",
    "primo = lista1[0]\n",
    "secondo = lista1[1]\n",
    "terzo = lista1[2]\n",
    "print(primo, secondo, terzo, altri)"
   ]
  },
  {
   "cell_type": "markdown",
   "metadata": {},
   "source": [
    "\n",
    "### Variables and Scoping Rules:\n",
    "Each time a function executes, a local namespace is created.\n",
    "This namespace is an environment that contains the names and values of the function parameters as well as all variables that are assigned inside the function body.\n",
    "The binding of names is known in advance when a function is defined and all names assigned within the function body are bound to the local environment.\n",
    "All other names that are used but not assigned in the function body (the free variables) are dynamically found in the global namespace which is always the enclosing module where a function was defined.\n",
    "\n",
    "### The return statement\n",
    "\n",
    "* If no `return` statement is explicitly given python returns the value `None` (which roughly represents the absence of a value)\n",
    "* Only one `return` can be executed per function (but more than one `return` statement can be present in the same function)\n",
    "* Code after a `return` statement is not executed. The execution goes back to the caller, where the value of the return can be used\n",
    "\n",
    "### Passing Parameters:\n",
    "When a function is called, _the function parameters are local names_ that get bound to the passed input objects. Python passes the supplied objects to the function \"as is\" without any extra copying.\n",
    "**Care is required if mutable objects, such as lists or dictionaries, are passed. If changes are made, those changes are reflected in the original object.** "
   ]
  },
  {
   "cell_type": "code",
   "execution_count": null,
   "metadata": {},
   "outputs": [],
   "source": [
    "def changer(a, b):\n",
    "    a = 2\n",
    "    b[0] = '55'\n",
    "\n",
    "X = 1\n",
    "L = [1,2]\n",
    "changer(X, L)\n",
    "print(f'The value of X is {X} and that of L is {L}')\n"
   ]
  },
  {
   "cell_type": "markdown",
   "metadata": {},
   "source": [
    "\n",
    "#### Step by step:\n",
    "\n",
    "The above example in details:\n",
    "1. (lines 5-6) The main function assigns 1 to `N` and \\[1,2\\] to `L`.\n",
    "2. `L` is mutable.\n",
    "3. The changer function:\n",
    "    1. (line 1) assigns `a` the value of `X`, so `a` points to 1. \n",
    "    1. (line 1) assigns `b` the value of `L`, so `b` points to the list `[1,2]`\n",
    "    1.  (line 2) assigns 2 to its first argument `a`\n",
    "    2.  (line 3) assigns '55' to the first element in the object referenced by argument `b`\n",
    "\n",
    "The two assignments are almost identical but they are radically different in their results:\n",
    "- Because `a` is a local variable name in the function’s scope, the first assignment has no effect on the caller. It simply changes the local variable `a` to reference a completely different object, and does not change the binding of the name `X` in the caller’s scope. \n",
    "- Argument `b` is a local variable name, too, but it is passed a mutable object (the list that `L` references in the caller’s scope). As the second assignment is an in-place object change, the result of the assignment to `b[0]` in the function impacts the value of `L` after the function returns.\n",
    "\n",
    "Really, the second assignment statement in changer doesn’t change `b` &mdash; it changes part of the object that `b` currently references. This in-place change impacts the caller only because the changed object outlives the function call. The name `L` hasn’t changed either &mdash; it still references the same, changed object&mdash; but it seems as though `L` differs after the call because the value it references has been modified within the function. In effect, the list name `L` serves as both input to and output from the function.\n",
    "\n"
   ]
  },
  {
   "cell_type": "code",
   "execution_count": null,
   "metadata": {},
   "outputs": [],
   "source": [
    "def double(x):\n",
    "    y = 2*x\n",
    "    return y\n",
    "\n",
    "def zero_first(l):\n",
    "    x = double(l[0])\n",
    "    l[0] = 0\n",
    "    return x\n",
    "\n",
    "a = [2, 1, 3]\n",
    "b = zero_first(a)\n",
    "print(f'a is {a} and b is {b}')"
   ]
  },
  {
   "cell_type": "markdown",
   "metadata": {},
   "source": [
    "\n",
    "### Docstring\n",
    "\n",
    "(from docs.python.org)\n",
    "\n",
    "Glossary: **docstring**\n",
    "\n",
    "A string literal which appears as the first expression in a class, function or module. While ignored when the suite is executed, it is recognized by the compiler and put into the __doc__ attribute of the enclosing class, function or module. Since it is available via introspection, it is the canonical place for documentation of the object.\n",
    "\n"
   ]
  },
  {
   "cell_type": "code",
   "execution_count": null,
   "metadata": {},
   "outputs": [],
   "source": [
    "def double(x):\n",
    "    \"\"\"\n",
    "    double x\n",
    "    return 2x\n",
    "    \"\"\"\n",
    "    y = 2*x\n",
    "    return y\n",
    "\n",
    "def zero_first(l):\n",
    "    x = double(l[0])\n",
    "    l[0] = 0\n",
    "    return x\n",
    "\n",
    "a = [2, 1, 3]\n",
    "b = zero_first(a)\n",
    "print(f'{a=} and {b=}')\n",
    "\n",
    "print(double.__doc__)\n",
    "\n",
    "a = (1,3,55,77,'fabrizio', 'iozzi')\n",
    "print(a)\n",
    "b, *c = a\n",
    "print(f'{a=}, {b=}, {c=}')\n"
   ]
  }
 ],
 "metadata": {
  "kernelspec": {
   "display_name": "Python 3 (ipykernel)",
   "language": "python",
   "name": "python3"
  },
  "language_info": {
   "codemirror_mode": {
    "name": "ipython",
    "version": 3
   },
   "file_extension": ".py",
   "mimetype": "text/x-python",
   "name": "python",
   "nbconvert_exporter": "python",
   "pygments_lexer": "ipython3",
   "version": "3.12.3"
  }
 },
 "nbformat": 4,
 "nbformat_minor": 4
}
