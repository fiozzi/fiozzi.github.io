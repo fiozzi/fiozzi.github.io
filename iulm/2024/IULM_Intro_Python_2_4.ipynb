{
  "cells": [
    {
      "cell_type": "markdown",
      "id": "01d1f7df-2e6b-4d0e-b92c-2a6ac6660fa4",
      "metadata": {
        "id": "01d1f7df-2e6b-4d0e-b92c-2a6ac6660fa4"
      },
      "source": [
        "# Introduzione a Python 2/4"
      ]
    },
    {
      "cell_type": "markdown",
      "id": "f2c7a2d0-5f07-4f0a-80c6-50897826afa9",
      "metadata": {
        "id": "f2c7a2d0-5f07-4f0a-80c6-50897826afa9"
      },
      "source": [
        "5 Febbraio 2024"
      ]
    },
    {
      "cell_type": "markdown",
      "id": "5aeeb700-94b9-457a-80a2-7a3b3d89ff4b",
      "metadata": {
        "id": "5aeeb700-94b9-457a-80a2-7a3b3d89ff4b"
      },
      "source": [
        "## Argomenti"
      ]
    },
    {
      "cell_type": "markdown",
      "id": "1eb57e32-c366-4689-9934-fff4eade2509",
      "metadata": {
        "id": "1eb57e32-c366-4689-9934-fff4eade2509"
      },
      "source": [
        "1. Operatori di confronto\n",
        "1. Tipi mutabili e immutabili\n",
        "1. Numeri (int, float)\n",
        "1. Liste (list)\n",
        "1. Ciclo for\n",
        "1. Condizionali"
      ]
    },
    {
      "cell_type": "markdown",
      "id": "9e67d0b9",
      "metadata": {},
      "source": [
        "## Operatori di confronto"
      ]
    },
    {
      "cell_type": "code",
      "execution_count": 1,
      "id": "c05b3c03",
      "metadata": {},
      "outputs": [
        {
          "data": {
            "text/plain": [
              "True"
            ]
          },
          "execution_count": 1,
          "metadata": {},
          "output_type": "execute_result"
        }
      ],
      "source": [
        "3 == 2+1"
      ]
    },
    {
      "cell_type": "code",
      "execution_count": 2,
      "id": "8fc0a7aa",
      "metadata": {},
      "outputs": [
        {
          "data": {
            "text/plain": [
              "False"
            ]
          },
          "execution_count": 2,
          "metadata": {},
          "output_type": "execute_result"
        }
      ],
      "source": [
        "3 > 4"
      ]
    },
    {
      "cell_type": "markdown",
      "id": "60d75fde",
      "metadata": {},
      "source": [
        "**Attenzione a non confondere `=`, che è l'operatore di assegnazione, con `==`, che è l'operatore di confronto!**"
      ]
    },
    {
      "cell_type": "markdown",
      "id": "46aabacd-ad78-446a-b638-d0c237172ace",
      "metadata": {
        "id": "46aabacd-ad78-446a-b638-d0c237172ace"
      },
      "source": [
        "## Numeri"
      ]
    },
    {
      "cell_type": "markdown",
      "id": "d767f284-ab43-45ee-badf-e45c6f2cc3fd",
      "metadata": {
        "id": "d767f284-ab43-45ee-badf-e45c6f2cc3fd"
      },
      "source": [
        "Il tipo di dati numerico contiene molti sottotipi ma i più frequenti sono gli interi, `int`, e i numeri con la virgola, `float`."
      ]
    },
    {
      "cell_type": "code",
      "execution_count": 11,
      "id": "d95ef126",
      "metadata": {},
      "outputs": [
        {
          "data": {
            "text/plain": [
              "int"
            ]
          },
          "execution_count": 11,
          "metadata": {},
          "output_type": "execute_result"
        }
      ],
      "source": [
        "a = 4\n",
        "type(a)"
      ]
    },
    {
      "cell_type": "code",
      "execution_count": 12,
      "id": "5db7b53b",
      "metadata": {},
      "outputs": [
        {
          "data": {
            "text/plain": [
              "float"
            ]
          },
          "execution_count": 12,
          "metadata": {},
          "output_type": "execute_result"
        }
      ],
      "source": [
        "a = 1.9 + 1.1\n",
        "type(a)"
      ]
    },
    {
      "cell_type": "code",
      "execution_count": 14,
      "id": "5e60e656",
      "metadata": {},
      "outputs": [
        {
          "data": {
            "text/plain": [
              "float"
            ]
          },
          "execution_count": 14,
          "metadata": {},
          "output_type": "execute_result"
        }
      ],
      "source": [
        "a = 3.0\n",
        "type(a)"
      ]
    },
    {
      "cell_type": "markdown",
      "id": "4688612a",
      "metadata": {},
      "source": [
        "## Tipi mutabili e immutabili"
      ]
    },
    {
      "cell_type": "markdown",
      "id": "4dd8c190",
      "metadata": {},
      "source": [
        "Gli oggetti di Python possono essere mutabili o immutabili. *Mutabile* significa che il suo contenuto può cambiare dopo che la variabile è stata assegnata. *Immutabile* significa il contrario.\n",
        "\n",
        "Le stringhe sono *immutabili*."
      ]
    },
    {
      "cell_type": "code",
      "execution_count": null,
      "id": "46ff85a1",
      "metadata": {},
      "outputs": [],
      "source": [
        "s1 = 'Fabrizio'"
      ]
    },
    {
      "cell_type": "code",
      "execution_count": null,
      "id": "b656d9bb",
      "metadata": {},
      "outputs": [
        {
          "data": {
            "text/plain": [
              "'r'"
            ]
          },
          "metadata": {},
          "output_type": "display_data"
        }
      ],
      "source": [
        "s1[3]"
      ]
    },
    {
      "cell_type": "code",
      "execution_count": null,
      "id": "628c4e6a",
      "metadata": {},
      "outputs": [
        {
          "ename": "TypeError",
          "evalue": "'str' object does not support item assignment",
          "output_type": "error",
          "traceback": [
            "\u001b[1;31m---------------------------------------------------------------------------\u001b[0m\n",
            "\u001b[1;31mTypeError\u001b[0m                                 Traceback (most recent call last)\n",
            "Cell \u001b[1;32mIn[21], line 1\u001b[0m\n",
            "\u001b[1;32m----> 1\u001b[0m \u001b[43ms1\u001b[49m\u001b[43m[\u001b[49m\u001b[38;5;241;43m3\u001b[39;49m\u001b[43m]\u001b[49m\u001b[38;5;241m=\u001b[39m \u001b[38;5;124m'\u001b[39m\u001b[38;5;124mb\u001b[39m\u001b[38;5;124m'\u001b[39m\n",
            "\n",
            "\u001b[1;31mTypeError\u001b[0m: 'str' object does not support item assignment"
          ]
        }
      ],
      "source": [
        "s1[3]= 'b'"
      ]
    },
    {
      "cell_type": "markdown",
      "id": "e3b5e6c3",
      "metadata": {},
      "source": [
        "I numeri sono immutabili. Questo è ovvio perché `3` non può che voler dire 3 (tre)."
      ]
    },
    {
      "cell_type": "markdown",
      "id": "1074c105-8ac8-4b39-bcdc-0a5fdc8baee6",
      "metadata": {
        "id": "1074c105-8ac8-4b39-bcdc-0a5fdc8baee6"
      },
      "source": [
        "## Liste"
      ]
    },
    {
      "cell_type": "markdown",
      "id": "389cf9ae-6e8a-49c0-97ce-3d93b546ad01",
      "metadata": {
        "id": "389cf9ae-6e8a-49c0-97ce-3d93b546ad01"
      },
      "source": [
        "Le liste sono sequenze di oggetti qualsiasi. Sono delimitate da `[ ]`."
      ]
    },
    {
      "cell_type": "code",
      "execution_count": 42,
      "id": "0b38f691",
      "metadata": {},
      "outputs": [],
      "source": [
        "lista1 = [5, 9, 'Fabrizio']"
      ]
    },
    {
      "cell_type": "code",
      "execution_count": 28,
      "id": "b3b3ec0b",
      "metadata": {},
      "outputs": [
        {
          "data": {
            "text/plain": [
              "list"
            ]
          },
          "execution_count": 28,
          "metadata": {},
          "output_type": "execute_result"
        }
      ],
      "source": [
        "type(lista1)"
      ]
    },
    {
      "cell_type": "code",
      "execution_count": 29,
      "id": "50e7f253",
      "metadata": {},
      "outputs": [],
      "source": [
        "lista2 = [33, False, lista1]"
      ]
    },
    {
      "cell_type": "code",
      "execution_count": 30,
      "id": "4c4e06a2",
      "metadata": {},
      "outputs": [
        {
          "name": "stdout",
          "output_type": "stream",
          "text": [
            "[33, False, [5, 9, 'Fabrizio']]\n"
          ]
        }
      ],
      "source": [
        "print(lista2)"
      ]
    },
    {
      "cell_type": "markdown",
      "id": "8e6f5bd2",
      "metadata": {},
      "source": [
        "Le liste hanno indici, come le stringhe."
      ]
    },
    {
      "cell_type": "code",
      "execution_count": 31,
      "id": "b0360e38",
      "metadata": {},
      "outputs": [
        {
          "name": "stdout",
          "output_type": "stream",
          "text": [
            "33 False [5, 9, 'Fabrizio']\n"
          ]
        }
      ],
      "source": [
        "print(lista2[0], lista2[1], lista2[2])"
      ]
    },
    {
      "cell_type": "code",
      "execution_count": 33,
      "id": "a510abb0",
      "metadata": {},
      "outputs": [
        {
          "name": "stdout",
          "output_type": "stream",
          "text": [
            "9\n"
          ]
        }
      ],
      "source": [
        "print(lista2[2][1]) \n",
        "# lista2[2] è la lista [1, 2, 'Fabrizio']. \n",
        "# lista2[2][1] è l'elemento di indice 1 nell'oggetto lista2[2], cioè 9"
      ]
    },
    {
      "cell_type": "markdown",
      "id": "7e190757",
      "metadata": {},
      "source": [
        "Le liste **sono mutabili**."
      ]
    },
    {
      "cell_type": "code",
      "execution_count": 34,
      "id": "2f58bfd1",
      "metadata": {},
      "outputs": [],
      "source": [
        "lista1[0] = 27"
      ]
    },
    {
      "cell_type": "code",
      "execution_count": 35,
      "id": "127ac94a",
      "metadata": {},
      "outputs": [
        {
          "data": {
            "text/plain": [
              "[27, 9, 'Fabrizio']"
            ]
          },
          "execution_count": 35,
          "metadata": {},
          "output_type": "execute_result"
        }
      ],
      "source": [
        "lista1"
      ]
    },
    {
      "cell_type": "markdown",
      "id": "cad85849",
      "metadata": {},
      "source": [
        "**Attenzione!**"
      ]
    },
    {
      "cell_type": "code",
      "execution_count": 36,
      "id": "e7aac209",
      "metadata": {},
      "outputs": [
        {
          "data": {
            "text/plain": [
              "[33, False, [27, 9, 'Fabrizio']]"
            ]
          },
          "execution_count": 36,
          "metadata": {},
          "output_type": "execute_result"
        }
      ],
      "source": [
        "lista2"
      ]
    },
    {
      "cell_type": "markdown",
      "id": "bd95c4b2",
      "metadata": {},
      "source": [
        "Questo succede proprio perché le liste sono mutabili. Python crea locazioni di memoria e i nomi che usiamo per gli oggetti sono solo \"riferimenti\" alle locazioni di memoria (come degli indirizzi sono riferimenti a qualche posto). Se l'oggetto è mutabile, il suo contenuto può cambiare pur rimanendo lo stesso oggetto (come il bar in via Roma 43 può diventare una lavanderia, mantenendo lo stesso indirizzo).\n",
        "\n",
        "Se non si vogliono modificare i contenuti delle variabili, si devono usare tipi di dati immutabili o creare copie delle variabili."
      ]
    },
    {
      "cell_type": "markdown",
      "id": "46138bf5",
      "metadata": {},
      "source": [
        "Le liste hanno una lunghezza."
      ]
    },
    {
      "cell_type": "code",
      "execution_count": 38,
      "id": "ad18f056",
      "metadata": {},
      "outputs": [
        {
          "name": "stdout",
          "output_type": "stream",
          "text": [
            "La lunghezza della lista1 è 3\n"
          ]
        }
      ],
      "source": [
        "print(f'La lunghezza della lista1 è {len(lista1)}')"
      ]
    },
    {
      "cell_type": "code",
      "execution_count": 39,
      "id": "aa5f77ab",
      "metadata": {},
      "outputs": [
        {
          "name": "stdout",
          "output_type": "stream",
          "text": [
            "La lunghezza della lista2 è 3\n"
          ]
        }
      ],
      "source": [
        "print(f'La lunghezza della lista2 è {len(lista2)}')"
      ]
    },
    {
      "cell_type": "markdown",
      "id": "2bab373c",
      "metadata": {},
      "source": [
        "Le liste hanno dei metodi specifici. Si può guardare [qui](https://docs.python.org/3/library/stdtypes.html#mutable-sequence-types)"
      ]
    },
    {
      "cell_type": "code",
      "execution_count": 43,
      "id": "773791db",
      "metadata": {},
      "outputs": [
        {
          "data": {
            "text/plain": [
              "[5, 9, 'Fabrizio', 'Iozzi']"
            ]
          },
          "execution_count": 43,
          "metadata": {},
          "output_type": "execute_result"
        }
      ],
      "source": [
        "lista1.append('Iozzi')\n",
        "lista1"
      ]
    },
    {
      "cell_type": "code",
      "execution_count": 44,
      "id": "530b4152",
      "metadata": {},
      "outputs": [
        {
          "data": {
            "text/plain": [
              "1"
            ]
          },
          "execution_count": 44,
          "metadata": {},
          "output_type": "execute_result"
        }
      ],
      "source": [
        "lista1.index(9)"
      ]
    },
    {
      "cell_type": "code",
      "execution_count": 45,
      "id": "e86a69cc",
      "metadata": {},
      "outputs": [
        {
          "data": {
            "text/plain": [
              "True"
            ]
          },
          "execution_count": 45,
          "metadata": {},
          "output_type": "execute_result"
        }
      ],
      "source": [
        "'Fabrizio' in lista1"
      ]
    },
    {
      "cell_type": "code",
      "execution_count": 46,
      "id": "49349cef",
      "metadata": {},
      "outputs": [],
      "source": [
        "lista3 = lista1.copy()"
      ]
    },
    {
      "cell_type": "code",
      "execution_count": 47,
      "id": "7fbde91b",
      "metadata": {},
      "outputs": [
        {
          "data": {
            "text/plain": [
              "[5, 9, 'Fabrizio', 'Iozzi']"
            ]
          },
          "execution_count": 47,
          "metadata": {},
          "output_type": "execute_result"
        }
      ],
      "source": [
        "lista3"
      ]
    },
    {
      "cell_type": "code",
      "execution_count": 48,
      "id": "45485073",
      "metadata": {},
      "outputs": [],
      "source": [
        "lista3[1] = 44"
      ]
    },
    {
      "cell_type": "code",
      "execution_count": 49,
      "id": "fa11263d",
      "metadata": {},
      "outputs": [
        {
          "data": {
            "text/plain": [
              "[5, 9, 'Fabrizio', 'Iozzi']"
            ]
          },
          "execution_count": 49,
          "metadata": {},
          "output_type": "execute_result"
        }
      ],
      "source": [
        "lista1"
      ]
    },
    {
      "cell_type": "code",
      "execution_count": 50,
      "id": "0a6ef9a5",
      "metadata": {},
      "outputs": [
        {
          "data": {
            "text/plain": [
              "[5, 44, 'Fabrizio', 'Iozzi']"
            ]
          },
          "execution_count": 50,
          "metadata": {},
          "output_type": "execute_result"
        }
      ],
      "source": [
        "lista3"
      ]
    },
    {
      "cell_type": "code",
      "execution_count": 51,
      "id": "4b912189",
      "metadata": {},
      "outputs": [
        {
          "data": {
            "text/plain": [
              "'Iozzi'"
            ]
          },
          "execution_count": 51,
          "metadata": {},
          "output_type": "execute_result"
        }
      ],
      "source": [
        "lista3.pop()"
      ]
    },
    {
      "cell_type": "code",
      "execution_count": 52,
      "id": "91290e94",
      "metadata": {},
      "outputs": [
        {
          "data": {
            "text/plain": [
              "[5, 44, 'Fabrizio']"
            ]
          },
          "execution_count": 52,
          "metadata": {},
          "output_type": "execute_result"
        }
      ],
      "source": [
        "lista3"
      ]
    },
    {
      "cell_type": "code",
      "execution_count": 53,
      "id": "8062dce1",
      "metadata": {},
      "outputs": [],
      "source": [
        "lista3.reverse()"
      ]
    },
    {
      "cell_type": "code",
      "execution_count": 54,
      "id": "e54d61d3",
      "metadata": {},
      "outputs": [
        {
          "data": {
            "text/plain": [
              "['Fabrizio', 44, 5]"
            ]
          },
          "execution_count": 54,
          "metadata": {},
          "output_type": "execute_result"
        }
      ],
      "source": [
        "lista3"
      ]
    },
    {
      "cell_type": "markdown",
      "id": "fd239fc1",
      "metadata": {},
      "source": [
        "Il metodo `reverse` agisce *in place*, cioè modifica l'oggetto su cui agisce e non restituisce nulla."
      ]
    },
    {
      "cell_type": "code",
      "execution_count": 55,
      "id": "f8bda514",
      "metadata": {},
      "outputs": [
        {
          "ename": "TypeError",
          "evalue": "'<' not supported between instances of 'int' and 'str'",
          "output_type": "error",
          "traceback": [
            "\u001b[1;31m---------------------------------------------------------------------------\u001b[0m",
            "\u001b[1;31mTypeError\u001b[0m                                 Traceback (most recent call last)",
            "Cell \u001b[1;32mIn[55], line 1\u001b[0m\n\u001b[1;32m----> 1\u001b[0m \u001b[43mlista3\u001b[49m\u001b[38;5;241;43m.\u001b[39;49m\u001b[43msort\u001b[49m\u001b[43m(\u001b[49m\u001b[43m)\u001b[49m\n",
            "\u001b[1;31mTypeError\u001b[0m: '<' not supported between instances of 'int' and 'str'"
          ]
        }
      ],
      "source": [
        "lista3.sort()"
      ]
    },
    {
      "cell_type": "markdown",
      "id": "c91d1a37",
      "metadata": {},
      "source": [
        "### Il metodo `join` delle stringhe"
      ]
    },
    {
      "cell_type": "markdown",
      "id": "bf73449b",
      "metadata": {},
      "source": [
        "Supponiamo di avere una lista di nomi"
      ]
    },
    {
      "cell_type": "code",
      "execution_count": 56,
      "id": "ef2e3d2c",
      "metadata": {},
      "outputs": [],
      "source": [
        "lista_nomi = ['Alice', 'Marcello', 'Paola', 'Riccardo']"
      ]
    },
    {
      "cell_type": "markdown",
      "id": "b0cab36c",
      "metadata": {},
      "source": [
        "e di voler costruire una stringa con i nomi separati da una virgola: \"Alice,Marcello,Paola,Riccardo\".\n",
        "\n",
        "Il metodo `join` delle stringhe svolge questa funzione. Si prende la stringa del separatore, la virgola in questo caso, si applica `join` al separatore e come parametro si passa una lista (o una qualunque altra sequenza di elementi).\n",
        "\n",
        "Il metodo restituisce la stringa completa."
      ]
    },
    {
      "cell_type": "code",
      "execution_count": 58,
      "id": "c9df0277",
      "metadata": {},
      "outputs": [
        {
          "data": {
            "text/plain": [
              "'Alice, Marcello, Paola, Riccardo'"
            ]
          },
          "execution_count": 58,
          "metadata": {},
          "output_type": "execute_result"
        }
      ],
      "source": [
        "sep = ', '\n",
        "lista_con_virgole = sep.join(lista_nomi)\n",
        "lista_con_virgole\n"
      ]
    },
    {
      "cell_type": "markdown",
      "id": "8407f8ca",
      "metadata": {},
      "source": [
        "# Il ciclo `for`"
      ]
    },
    {
      "cell_type": "markdown",
      "id": "ea7a1ccb",
      "metadata": {},
      "source": [
        "In molte occasioni si vuole scorrere gli elementi di una lista e su ognuno di essi svolgere delle operazioni. In questo caso conviene usare l'istruzione `for`.\n",
        "\n",
        "La sintassi di `for` è\n",
        "\n",
        "```python\n",
        "for <elemento> in <sequenza>:\n",
        "    fai_qualcosa\n",
        "```\n",
        "\n",
        "Attenzione a due cose importanti:\n",
        "- il `:` alla fine della riga con il `for`\n",
        "- l'indentazione delle istruzioni dipendenti dal `for`"
      ]
    },
    {
      "cell_type": "markdown",
      "id": "5010dc82",
      "metadata": {},
      "source": [
        "Per esempio, se abbiamo la lista"
      ]
    },
    {
      "cell_type": "code",
      "execution_count": 59,
      "id": "7587b769",
      "metadata": {},
      "outputs": [],
      "source": [
        "lista4 = [1, 3, 6, 7, 9]"
      ]
    },
    {
      "cell_type": "markdown",
      "id": "981474a7",
      "metadata": {},
      "source": [
        "e vogliamo stampare una lista con tutti gli elementi moltiplicati per due, possiamo fare così"
      ]
    },
    {
      "cell_type": "code",
      "execution_count": 61,
      "id": "472c1a16",
      "metadata": {},
      "outputs": [
        {
          "name": "stdout",
          "output_type": "stream",
          "text": [
            "Il doppio dell'elemento 1 è 2\n",
            "Il doppio dell'elemento 3 è 6\n",
            "Il doppio dell'elemento 6 è 12\n",
            "Il doppio dell'elemento 7 è 14\n",
            "Il doppio dell'elemento 9 è 18\n",
            "Ho finito.\n"
          ]
        }
      ],
      "source": [
        "for elemento in lista4:\n",
        "    print(f\"Il doppio dell'elemento {elemento} è {2*elemento}\")\n",
        "print('Ho finito.')"
      ]
    },
    {
      "cell_type": "markdown",
      "id": "8d14647b",
      "metadata": {},
      "source": [
        "Si osservi che le istruzioni indentate sono eseguite una per elemento mentre l'istruzione finale, che non è indentata, viene eseguita una volta sola.\n",
        "\n",
        "Quando la lista è finita, `for` si conclude e il programma prosegue con le istruzioni seguenti."
      ]
    },
    {
      "cell_type": "markdown",
      "id": "f84d4f95",
      "metadata": {},
      "source": [
        "E se voglio stampare il doppio dei primi 5 numeri naturali? Potrei partire dalla lista [1, 2, 3, 4, 5] ma c'è una maniera rapida per creare un *iterabile* che produce questa lista. Un *iterabile* è un oggetto che, quando è chiamato dentro un ciclio `for` si mette a produrre elementi secondo un certo schema. \n",
        "\n",
        "Per produrre una iterabile che generi 5 numeri, si può usare `range(5)`, che genera i numeri 0, 1, 2, 3, 4. La regola è sempre che l'indice che vediamo è il primo a non essere scritto. Per esteso, `range(5)` sarebbe `range(0,5)`. Si può decidere di lasciare così o usare `range(1,6)`, se si vogliono i numeri da 1 a 5, e non da 0 a 4."
      ]
    },
    {
      "cell_type": "code",
      "execution_count": 66,
      "id": "7214d113",
      "metadata": {},
      "outputs": [
        {
          "name": "stdout",
          "output_type": "stream",
          "text": [
            "0\n",
            "1\n",
            "2\n",
            "3\n",
            "4\n"
          ]
        }
      ],
      "source": [
        "for numero in range(5):\n",
        "    print(numero)"
      ]
    },
    {
      "cell_type": "code",
      "execution_count": 67,
      "id": "f2f9b1da",
      "metadata": {},
      "outputs": [
        {
          "name": "stdout",
          "output_type": "stream",
          "text": [
            "0\n",
            "1\n",
            "2\n",
            "3\n",
            "4\n"
          ]
        }
      ],
      "source": [
        "for numero in range(0,5):\n",
        "    print(numero)"
      ]
    },
    {
      "cell_type": "code",
      "execution_count": 68,
      "id": "c7e61f14",
      "metadata": {},
      "outputs": [
        {
          "name": "stdout",
          "output_type": "stream",
          "text": [
            "1\n",
            "2\n",
            "3\n",
            "4\n",
            "5\n"
          ]
        }
      ],
      "source": [
        "for numero in range(1,6):\n",
        "    print(numero)"
      ]
    },
    {
      "cell_type": "markdown",
      "id": "81a44f2e",
      "metadata": {},
      "source": [
        "La sintassi completa di `range` è `range(start, stop[, step]`"
      ]
    },
    {
      "cell_type": "code",
      "execution_count": 1,
      "id": "cac58bc3",
      "metadata": {},
      "outputs": [
        {
          "name": "stdout",
          "output_type": "stream",
          "text": [
            "1\n",
            "3\n",
            "5\n",
            "7\n",
            "9\n"
          ]
        }
      ],
      "source": [
        "for numero in range(1, 10, 2):\n",
        "    print(numero)"
      ]
    },
    {
      "cell_type": "markdown",
      "id": "b1275b56",
      "metadata": {},
      "source": [
        "`for` funziona con sequenze di qualsiasi tipo."
      ]
    },
    {
      "cell_type": "code",
      "execution_count": null,
      "id": "ddc137ca",
      "metadata": {},
      "outputs": [
        {
          "name": "stdout",
          "output_type": "stream",
          "text": [
            "mela\n",
            "banana\n",
            "ciliegia\n",
            "kiwi\n",
            "mango\n"
          ]
        }
      ],
      "source": [
        "frutti = [\"mela\", \"banana\", \"ciliegia\", \"kiwi\", \"mango\"]\n",
        "\n",
        "for frutto in frutti:\n",
        "    print(frutto)\n"
      ]
    },
    {
      "cell_type": "code",
      "execution_count": 2,
      "id": "73beabd6",
      "metadata": {},
      "outputs": [
        {
          "name": "stdout",
          "output_type": "stream",
          "text": [
            "M\n",
            "i\n",
            "c\n",
            "k\n",
            "e\n",
            "y\n",
            " \n",
            "M\n",
            "o\n",
            "u\n",
            "s\n",
            "e\n"
          ]
        }
      ],
      "source": [
        "s1 = 'Mickey Mouse'\n",
        "for carattere in s1:\n",
        "    print(carattere)\n"
      ]
    },
    {
      "cell_type": "markdown",
      "id": "8174ff00",
      "metadata": {},
      "source": [
        "Quando si usa un ciclo for non sempre si \"contano gli elementi\". \n",
        "\n",
        "Se occorre anche contare gli elementi della sequenza, mentre li si elabora, si può esare la funzione `enumerate`.\n",
        "\n",
        "`enumerate` manipola la sequenza in modo tale da restituire una coppia di oggetti: un indice e l'elemento della sequenza."
      ]
    },
    {
      "cell_type": "code",
      "execution_count": 3,
      "id": "9f2429d1",
      "metadata": {},
      "outputs": [
        {
          "name": "stdout",
          "output_type": "stream",
          "text": [
            "0 mela\n",
            "1 banana\n",
            "2 ciliegia\n",
            "3 kiwi\n",
            "4 mango\n"
          ]
        }
      ],
      "source": [
        "frutti = [\"mela\", \"banana\", \"ciliegia\", \"kiwi\", \"mango\"]\n",
        "\n",
        "for indice, frutto in enumerate(frutti):\n",
        "    print(indice, frutto)\n"
      ]
    },
    {
      "cell_type": "markdown",
      "id": "3f6d4aac",
      "metadata": {},
      "source": [
        "# Condizionali"
      ]
    },
    {
      "cell_type": "markdown",
      "id": "9c775ec9",
      "metadata": {},
      "source": [
        "In mancanza di altre indicazioni, l'esecuzione delle istruzioni di un programma avviene dalla prima all'ultima istruzione. L'ordine di esecuzione viene modificato:\n",
        "- dai *cicli* (ad esempio  l'istruzione `for`), che ripetono un gruppo di istruzioni un certo numero di volte\n",
        "- dai *condizionali*, che eseguono un gruppo di istruzioni al verificarsi di una certa condizione\n",
        "\n",
        "In Python, la principale istruzione condizionale è `if ... [elif] ... [else]`."
      ]
    },
    {
      "cell_type": "code",
      "execution_count": 6,
      "id": "6d7e451f",
      "metadata": {},
      "outputs": [
        {
          "name": "stdout",
          "output_type": "stream",
          "text": [
            "Inizio del programma.\n",
            "a è uguale a 3\n",
            "Fine del programma.\n"
          ]
        }
      ],
      "source": [
        "print('Inizio del programma.')\n",
        "a = 3\n",
        "if a == 3:\n",
        "    print('a è uguale a 3')\n",
        "print('Fine del programma.')\n"
      ]
    },
    {
      "cell_type": "markdown",
      "id": "fefbfd54",
      "metadata": {},
      "source": [
        "Le istruzioni dipendenti dalla condizione devono essere indentate. Si noti che:\n",
        "- la condizione *non* è `a = 3`, ma `a == 3` (`=` è un operatore di assegnazione, non di confronto)\n",
        "- il `:` dopo la condizione."
      ]
    },
    {
      "cell_type": "code",
      "execution_count": 8,
      "id": "5f5fb64e",
      "metadata": {},
      "outputs": [
        {
          "name": "stdout",
          "output_type": "stream",
          "text": [
            "Inizio del programma.\n",
            "a non è uguale a 3\n",
            "Fine del programma.\n"
          ]
        }
      ],
      "source": [
        "print('Inizio del programma.')\n",
        "a = 4\n",
        "if a == 3:\n",
        "    print('a è uguale a 3')\n",
        "else:\n",
        "    print('a non è uguale a 3')\n",
        "print('Fine del programma.')\n"
      ]
    },
    {
      "cell_type": "code",
      "execution_count": 9,
      "id": "2bc63d70",
      "metadata": {},
      "outputs": [
        {
          "name": "stdout",
          "output_type": "stream",
          "text": [
            "Inizio del programma.\n",
            "a non è uguale né a 3, né a 4\n",
            "Fine del programma.\n"
          ]
        }
      ],
      "source": [
        "print('Inizio del programma.')\n",
        "a = 5\n",
        "if a == 3:\n",
        "    print('a è uguale a 3')\n",
        "elif a == 4:\n",
        "    print('a è uguale a 4')\n",
        "else:\n",
        "    print('a non è uguale né a 3, né a 4')\n",
        "print('Fine del programma.')\n"
      ]
    },
    {
      "cell_type": "markdown",
      "id": "c168c723",
      "metadata": {},
      "source": [
        "Non uguale si scrive `!=`. "
      ]
    },
    {
      "cell_type": "code",
      "execution_count": 3,
      "id": "ab40bddb",
      "metadata": {},
      "outputs": [
        {
          "name": "stdout",
          "output_type": "stream",
          "text": [
            "Inizio del programma.\n",
            "a non è uguale a 3\n",
            "Fine del programma.\n"
          ]
        }
      ],
      "source": [
        "print('Inizio del programma.')\n",
        "a = 4\n",
        "if a != 3:\n",
        "    print('a non è uguale a 3')\n",
        "else:\n",
        "    print('a non è uguale a 3')\n",
        "print('Fine del programma.')\n"
      ]
    },
    {
      "cell_type": "markdown",
      "id": "007aa9a3",
      "metadata": {},
      "source": [
        "Le condizioni si possono combinare con `and` e `or`. `and` restituisce vero solo se **le due condizioni sono entrambe vere**. `or` restituisce vero se **almeno una delle due condizioni è vera**."
      ]
    },
    {
      "cell_type": "code",
      "execution_count": 4,
      "id": "ee601b50",
      "metadata": {},
      "outputs": [
        {
          "name": "stdout",
          "output_type": "stream",
          "text": [
            "Inizio del programma.\n",
            "a è uguale a 3 o uguale a 4\n",
            "Fine del programma.\n"
          ]
        }
      ],
      "source": [
        "print('Inizio del programma.')\n",
        "a = 4\n",
        "if a == 3 or a == 4:\n",
        "    print('a è uguale a 3 o uguale a 4')\n",
        "else:\n",
        "    print('a non è uguale né a 3, né a 4')\n",
        "print('Fine del programma.')\n"
      ]
    },
    {
      "cell_type": "code",
      "execution_count": 5,
      "id": "463ffdd8",
      "metadata": {},
      "outputs": [
        {
          "name": "stdout",
          "output_type": "stream",
          "text": [
            "Inizio del programma.\n",
            "a è minore o uguale a 5, o maggiore o uguale a 10\n",
            "Fine del programma.\n"
          ]
        }
      ],
      "source": [
        "print('Inizio del programma.')\n",
        "a = 4\n",
        "if a < 10 and a > 5:\n",
        "    print('a è compreso tra 5 e 10')\n",
        "else:\n",
        "    print('a è minore o uguale a 5, o maggiore o uguale a 10')\n",
        "print('Fine del programma.')\n"
      ]
    },
    {
      "cell_type": "markdown",
      "id": "2248f263",
      "metadata": {},
      "source": [
        "C'è anche `not`, che trasforma il vero in falso e viceversa."
      ]
    },
    {
      "cell_type": "code",
      "execution_count": 6,
      "id": "a34da01b",
      "metadata": {},
      "outputs": [
        {
          "data": {
            "text/plain": [
              "True"
            ]
          },
          "execution_count": 6,
          "metadata": {},
          "output_type": "execute_result"
        }
      ],
      "source": [
        "not (3 == 4)"
      ]
    },
    {
      "cell_type": "code",
      "execution_count": 7,
      "id": "0bd0f1fe",
      "metadata": {},
      "outputs": [
        {
          "data": {
            "text/plain": [
              "True"
            ]
          },
          "execution_count": 7,
          "metadata": {},
          "output_type": "execute_result"
        }
      ],
      "source": [
        "3 != 4"
      ]
    },
    {
      "cell_type": "markdown",
      "id": "483dd881",
      "metadata": {},
      "source": [
        "`in` è un operatore che restituisce vero o falso. `a in b` è vero se `a` è contenuto nella sequenza `b`"
      ]
    },
    {
      "cell_type": "code",
      "execution_count": 1,
      "id": "16e925dd",
      "metadata": {},
      "outputs": [
        {
          "data": {
            "text/plain": [
              "True"
            ]
          },
          "execution_count": 1,
          "metadata": {},
          "output_type": "execute_result"
        }
      ],
      "source": [
        "'abr' in 'Fabrizio'"
      ]
    },
    {
      "cell_type": "code",
      "execution_count": 2,
      "id": "922f10a0",
      "metadata": {},
      "outputs": [
        {
          "data": {
            "text/plain": [
              "True"
            ]
          },
          "execution_count": 2,
          "metadata": {},
          "output_type": "execute_result"
        }
      ],
      "source": [
        "33 in [2, 33, 4, 6]"
      ]
    },
    {
      "cell_type": "markdown",
      "id": "0c00310e",
      "metadata": {},
      "source": [
        "`not` e `in` si combinano in `not in `"
      ]
    },
    {
      "cell_type": "code",
      "execution_count": 8,
      "id": "eb5c01d5",
      "metadata": {},
      "outputs": [
        {
          "data": {
            "text/plain": [
              "True"
            ]
          },
          "execution_count": 8,
          "metadata": {},
          "output_type": "execute_result"
        }
      ],
      "source": [
        "'w' not in 'Fabrizio'"
      ]
    },
    {
      "cell_type": "markdown",
      "id": "6521725d",
      "metadata": {},
      "source": [
        "### Esercizio"
      ]
    },
    {
      "cell_type": "code",
      "execution_count": 11,
      "id": "a206d06b",
      "metadata": {},
      "outputs": [
        {
          "name": "stdout",
          "output_type": "stream",
          "text": [
            "[]\n"
          ]
        }
      ],
      "source": [
        "frutti = [\"mela\", \"banana\", \"ciliegia\", \"kiwi\", \"mango\"]\n",
        "frutti_con_la_n = []\n",
        "\n",
        "# scrivere un piccolo programma che aggiunge a frutti_con_la_n tutti i frutti il cui nome contiene la m\n",
        "\n",
        "print(frutti_con_la_n)"
      ]
    },
    {
      "cell_type": "markdown",
      "id": "a5808cc8",
      "metadata": {},
      "source": [
        "### Esercizio"
      ]
    },
    {
      "cell_type": "code",
      "execution_count": 10,
      "id": "93fb02c7",
      "metadata": {},
      "outputs": [
        {
          "name": "stdout",
          "output_type": "stream",
          "text": [
            "[]\n"
          ]
        }
      ],
      "source": [
        "frutti = [\"mela\", \"banana\", \"ciliegia\", \"kiwi\", \"mango\"]\n",
        "frutti_senza_la_n = []\n",
        "\n",
        "# scrivere un piccolo programma che aggiunge a frutti_con_la_n tutti i frutti il cui nome non contiene la m\n",
        "\n",
        "print(frutti_senza_la_n)"
      ]
    },
    {
      "cell_type": "markdown",
      "id": "aa4b2928",
      "metadata": {},
      "source": [
        "### Esercizio"
      ]
    },
    {
      "cell_type": "code",
      "execution_count": 13,
      "id": "0b60e5a0",
      "metadata": {},
      "outputs": [],
      "source": [
        "frutti = [\"mela\", \"banana\", \"ciliegia\", \"kiwi\", \"fragola\"]\n",
        "frutti_che_mi_piacciono = [\"banana\", \"fragola\", \"kiwi\"]\n",
        "\n",
        "# scrivere un piccolo programma che scrive tutti i frutti della lista \"frutti\"\n",
        "# e aggiunge \"mi piace\" o \"non mi piace\" a seconda che il frutto sia o meno nella lista\n",
        "# frutti_che_mi_piacciono\n",
        "\n"
      ]
    },
    {
      "cell_type": "code",
      "execution_count": null,
      "id": "63ea60b1",
      "metadata": {},
      "outputs": [],
      "source": []
    }
  ],
  "metadata": {
    "colab": {
      "provenance": []
    },
    "kernelspec": {
      "display_name": "Python 3 (ipykernel)",
      "language": "python",
      "name": "python3"
    },
    "language_info": {
      "codemirror_mode": {
        "name": "ipython",
        "version": 3
      },
      "file_extension": ".py",
      "mimetype": "text/x-python",
      "name": "python",
      "nbconvert_exporter": "python",
      "pygments_lexer": "ipython3",
      "version": "3.11.5"
    }
  },
  "nbformat": 4,
  "nbformat_minor": 5
}
