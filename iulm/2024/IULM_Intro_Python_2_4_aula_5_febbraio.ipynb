{
  "cells": [
    {
      "cell_type": "markdown",
      "id": "01d1f7df-2e6b-4d0e-b92c-2a6ac6660fa4",
      "metadata": {
        "id": "01d1f7df-2e6b-4d0e-b92c-2a6ac6660fa4"
      },
      "source": [
        "# Introduzione a Python 2/4"
      ]
    },
    {
      "cell_type": "markdown",
      "id": "f2c7a2d0-5f07-4f0a-80c6-50897826afa9",
      "metadata": {
        "id": "f2c7a2d0-5f07-4f0a-80c6-50897826afa9"
      },
      "source": [
        "5 Febbraio 2024"
      ]
    },
    {
      "cell_type": "markdown",
      "id": "5aeeb700-94b9-457a-80a2-7a3b3d89ff4b",
      "metadata": {
        "id": "5aeeb700-94b9-457a-80a2-7a3b3d89ff4b"
      },
      "source": [
        "## Argomenti"
      ]
    },
    {
      "cell_type": "markdown",
      "id": "1eb57e32-c366-4689-9934-fff4eade2509",
      "metadata": {
        "id": "1eb57e32-c366-4689-9934-fff4eade2509"
      },
      "source": [
        "1. Operatori di confronto\n",
        "1. Tipi mutabili e immutabili\n",
        "1. Numeri (int, float)\n",
        "1. Liste (list)\n",
        "1. Ciclo for\n",
        "1. Condizionali"
      ]
    },
    {
      "cell_type": "markdown",
      "id": "9e67d0b9",
      "metadata": {
        "id": "9e67d0b9"
      },
      "source": [
        "## Operatori di confronto"
      ]
    },
    {
      "cell_type": "code",
      "execution_count": null,
      "id": "c05b3c03",
      "metadata": {
        "colab": {
          "base_uri": "https://localhost:8080/"
        },
        "id": "c05b3c03",
        "outputId": "d0596bb3-5046-4a4c-db3d-3527d785b5b5"
      },
      "outputs": [
        {
          "output_type": "execute_result",
          "data": {
            "text/plain": [
              "True"
            ]
          },
          "metadata": {},
          "execution_count": 2
        }
      ],
      "source": [
        "3 == 2+1"
      ]
    },
    {
      "cell_type": "code",
      "execution_count": null,
      "id": "8fc0a7aa",
      "metadata": {
        "colab": {
          "base_uri": "https://localhost:8080/"
        },
        "id": "8fc0a7aa",
        "outputId": "c67e1e26-d695-49f2-efc9-04282219e0e1"
      },
      "outputs": [
        {
          "output_type": "execute_result",
          "data": {
            "text/plain": [
              "False"
            ]
          },
          "metadata": {},
          "execution_count": 3
        }
      ],
      "source": [
        "3 > 4"
      ]
    },
    {
      "cell_type": "markdown",
      "id": "60d75fde",
      "metadata": {
        "id": "60d75fde"
      },
      "source": [
        "**Attenzione a non confondere `=`, che è l'operatore di assegnazione, con `==`, che è l'operatore di confronto!**"
      ]
    },
    {
      "cell_type": "markdown",
      "id": "46aabacd-ad78-446a-b638-d0c237172ace",
      "metadata": {
        "id": "46aabacd-ad78-446a-b638-d0c237172ace"
      },
      "source": [
        "## Numeri"
      ]
    },
    {
      "cell_type": "markdown",
      "id": "d767f284-ab43-45ee-badf-e45c6f2cc3fd",
      "metadata": {
        "id": "d767f284-ab43-45ee-badf-e45c6f2cc3fd"
      },
      "source": [
        "Il tipo di dati numerico contiene molti sottotipi ma i più frequenti sono gli interi, `int`, e i numeri con la virgola, `float`."
      ]
    },
    {
      "cell_type": "code",
      "execution_count": null,
      "id": "d95ef126",
      "metadata": {
        "colab": {
          "base_uri": "https://localhost:8080/"
        },
        "id": "d95ef126",
        "outputId": "75d49ddd-c917-4731-d880-af7405f08ab4"
      },
      "outputs": [
        {
          "output_type": "execute_result",
          "data": {
            "text/plain": [
              "int"
            ]
          },
          "metadata": {},
          "execution_count": 4
        }
      ],
      "source": [
        "a = 4\n",
        "type(a)"
      ]
    },
    {
      "cell_type": "code",
      "execution_count": null,
      "id": "5db7b53b",
      "metadata": {
        "colab": {
          "base_uri": "https://localhost:8080/"
        },
        "id": "5db7b53b",
        "outputId": "80f71e0f-93cb-449c-9dcd-cf13d5bce418"
      },
      "outputs": [
        {
          "output_type": "execute_result",
          "data": {
            "text/plain": [
              "float"
            ]
          },
          "metadata": {},
          "execution_count": 5
        }
      ],
      "source": [
        "a = 1.9 + 1.1\n",
        "type(a)"
      ]
    },
    {
      "cell_type": "code",
      "execution_count": null,
      "id": "5e60e656",
      "metadata": {
        "colab": {
          "base_uri": "https://localhost:8080/"
        },
        "id": "5e60e656",
        "outputId": "6e83de83-0ef8-4c88-f3d0-bae3bcbdd74c"
      },
      "outputs": [
        {
          "output_type": "execute_result",
          "data": {
            "text/plain": [
              "float"
            ]
          },
          "metadata": {},
          "execution_count": 6
        }
      ],
      "source": [
        "a = 3.0\n",
        "type(a)"
      ]
    },
    {
      "cell_type": "markdown",
      "id": "4688612a",
      "metadata": {
        "id": "4688612a"
      },
      "source": [
        "## Tipi mutabili e immutabili"
      ]
    },
    {
      "cell_type": "markdown",
      "id": "4dd8c190",
      "metadata": {
        "id": "4dd8c190"
      },
      "source": [
        "Gli oggetti di Python possono essere mutabili o immutabili. *Mutabile* significa che il suo contenuto può cambiare dopo che la variabile è stata assegnata. *Immutabile* significa il contrario.\n",
        "\n",
        "Le stringhe sono *immutabili*."
      ]
    },
    {
      "cell_type": "code",
      "execution_count": null,
      "id": "46ff85a1",
      "metadata": {
        "id": "46ff85a1"
      },
      "outputs": [],
      "source": [
        "s1 = 'Fabrizio'"
      ]
    },
    {
      "cell_type": "code",
      "execution_count": null,
      "id": "b656d9bb",
      "metadata": {
        "colab": {
          "base_uri": "https://localhost:8080/",
          "height": 35
        },
        "id": "b656d9bb",
        "outputId": "b342eeee-d632-44f2-990a-8dcf7714839a"
      },
      "outputs": [
        {
          "output_type": "execute_result",
          "data": {
            "text/plain": [
              "'r'"
            ],
            "application/vnd.google.colaboratory.intrinsic+json": {
              "type": "string"
            }
          },
          "metadata": {},
          "execution_count": 8
        }
      ],
      "source": [
        "s1[3]"
      ]
    },
    {
      "cell_type": "code",
      "execution_count": null,
      "id": "628c4e6a",
      "metadata": {
        "colab": {
          "base_uri": "https://localhost:8080/",
          "height": 177
        },
        "id": "628c4e6a",
        "outputId": "7f1e5e7b-e2bb-486e-e05c-a4c7e7d08669"
      },
      "outputs": [
        {
          "output_type": "error",
          "ename": "TypeError",
          "evalue": "'str' object does not support item assignment",
          "traceback": [
            "\u001b[0;31m---------------------------------------------------------------------------\u001b[0m",
            "\u001b[0;31mTypeError\u001b[0m                                 Traceback (most recent call last)",
            "\u001b[0;32m<ipython-input-9-f759f07506d0>\u001b[0m in \u001b[0;36m<cell line: 1>\u001b[0;34m()\u001b[0m\n\u001b[0;32m----> 1\u001b[0;31m \u001b[0ms1\u001b[0m\u001b[0;34m[\u001b[0m\u001b[0;36m3\u001b[0m\u001b[0;34m]\u001b[0m\u001b[0;34m=\u001b[0m \u001b[0;34m'b'\u001b[0m\u001b[0;34m\u001b[0m\u001b[0;34m\u001b[0m\u001b[0m\n\u001b[0m",
            "\u001b[0;31mTypeError\u001b[0m: 'str' object does not support item assignment"
          ]
        }
      ],
      "source": [
        "s1[3]= 'b'"
      ]
    },
    {
      "cell_type": "markdown",
      "id": "e3b5e6c3",
      "metadata": {
        "id": "e3b5e6c3"
      },
      "source": [
        "I numeri sono immutabili. Questo è ovvio perché `3` non può che voler dire 3 (tre)."
      ]
    },
    {
      "cell_type": "code",
      "source": [
        "s1='Fabbizio'"
      ],
      "metadata": {
        "id": "6LLo345osx6B"
      },
      "id": "6LLo345osx6B",
      "execution_count": null,
      "outputs": []
    },
    {
      "cell_type": "code",
      "source": [
        "s1"
      ],
      "metadata": {
        "colab": {
          "base_uri": "https://localhost:8080/",
          "height": 35
        },
        "id": "bw3Pc8bQs9UK",
        "outputId": "a74f3b7a-59e5-4bb4-feb0-d3826492758b"
      },
      "id": "bw3Pc8bQs9UK",
      "execution_count": null,
      "outputs": [
        {
          "output_type": "execute_result",
          "data": {
            "text/plain": [
              "'Fabbizio'"
            ],
            "application/vnd.google.colaboratory.intrinsic+json": {
              "type": "string"
            }
          },
          "metadata": {},
          "execution_count": 14
        }
      ]
    },
    {
      "cell_type": "markdown",
      "id": "1074c105-8ac8-4b39-bcdc-0a5fdc8baee6",
      "metadata": {
        "id": "1074c105-8ac8-4b39-bcdc-0a5fdc8baee6"
      },
      "source": [
        "## Liste"
      ]
    },
    {
      "cell_type": "markdown",
      "id": "389cf9ae-6e8a-49c0-97ce-3d93b546ad01",
      "metadata": {
        "id": "389cf9ae-6e8a-49c0-97ce-3d93b546ad01"
      },
      "source": [
        "Le liste sono sequenze di oggetti qualsiasi. Sono delimitate da `[ ]`."
      ]
    },
    {
      "cell_type": "code",
      "execution_count": null,
      "id": "0b38f691",
      "metadata": {
        "id": "0b38f691"
      },
      "outputs": [],
      "source": [
        "lista1 = [5, 9, 'Fabrizio']"
      ]
    },
    {
      "cell_type": "code",
      "execution_count": null,
      "id": "b3b3ec0b",
      "metadata": {
        "colab": {
          "base_uri": "https://localhost:8080/"
        },
        "id": "b3b3ec0b",
        "outputId": "41a99abd-4629-4ab7-ae80-9272c3149a97"
      },
      "outputs": [
        {
          "output_type": "execute_result",
          "data": {
            "text/plain": [
              "list"
            ]
          },
          "metadata": {},
          "execution_count": 16
        }
      ],
      "source": [
        "type(lista1)"
      ]
    },
    {
      "cell_type": "code",
      "execution_count": null,
      "id": "50e7f253",
      "metadata": {
        "id": "50e7f253"
      },
      "outputs": [],
      "source": [
        "lista2 = ['Giusi', 'Economia']\n",
        "lista3 = ['Andrea', 'Geourbanistica']\n",
        "lista4 = ['Serena', 'Terapeutica artistica']\n",
        "lista_studenti_iulm = [lista2, lista3, lista4]"
      ]
    },
    {
      "cell_type": "code",
      "execution_count": null,
      "id": "4c4e06a2",
      "metadata": {
        "colab": {
          "base_uri": "https://localhost:8080/"
        },
        "id": "4c4e06a2",
        "outputId": "d2dc3f1a-6930-4956-88c7-02d0b130e826"
      },
      "outputs": [
        {
          "output_type": "execute_result",
          "data": {
            "text/plain": [
              "[['Giusi', 'Economia'],\n",
              " ['Andrea', 'Geourbanistica'],\n",
              " ['Serena', 'Terapeutica artistica']]"
            ]
          },
          "metadata": {},
          "execution_count": 23
        }
      ],
      "source": [
        "lista_studenti_iulm"
      ]
    },
    {
      "cell_type": "markdown",
      "id": "8e6f5bd2",
      "metadata": {
        "id": "8e6f5bd2"
      },
      "source": [
        "Le liste hanno indici, come le stringhe."
      ]
    },
    {
      "cell_type": "code",
      "execution_count": null,
      "id": "b0360e38",
      "metadata": {
        "colab": {
          "base_uri": "https://localhost:8080/"
        },
        "id": "b0360e38",
        "outputId": "08e421af-5b26-49ad-df15-1cd594039ed9"
      },
      "outputs": [
        {
          "output_type": "stream",
          "name": "stdout",
          "text": [
            "Giusi Economia\n"
          ]
        }
      ],
      "source": [
        "print(lista2[0], lista2[1])"
      ]
    },
    {
      "cell_type": "code",
      "execution_count": null,
      "id": "a510abb0",
      "metadata": {
        "colab": {
          "base_uri": "https://localhost:8080/"
        },
        "id": "a510abb0",
        "outputId": "dba0971a-0604-4da2-e248-afb44901d357"
      },
      "outputs": [
        {
          "output_type": "stream",
          "name": "stdout",
          "text": [
            "Terapeutica artistica\n"
          ]
        }
      ],
      "source": [
        "print(lista_studenti_iulm[2][1])"
      ]
    },
    {
      "cell_type": "code",
      "source": [
        "print(lista_studenti_iulm[1], lista_studenti_iulm[2])"
      ],
      "metadata": {
        "colab": {
          "base_uri": "https://localhost:8080/"
        },
        "id": "mIK1EGnExO24",
        "outputId": "87387c7f-13b7-41d9-a9b0-d49a7c436519"
      },
      "id": "mIK1EGnExO24",
      "execution_count": null,
      "outputs": [
        {
          "output_type": "stream",
          "name": "stdout",
          "text": [
            "['Andrea', 'Geourbanistica'] ['Serena', 'Terapeutica artistica']\n"
          ]
        }
      ]
    },
    {
      "cell_type": "code",
      "source": [
        "print(lista_studenti_iulm[1:3])"
      ],
      "metadata": {
        "colab": {
          "base_uri": "https://localhost:8080/"
        },
        "id": "hJNygeA9xV7F",
        "outputId": "4dde786e-1c32-4434-d995-b67b686e4110"
      },
      "id": "hJNygeA9xV7F",
      "execution_count": null,
      "outputs": [
        {
          "output_type": "stream",
          "name": "stdout",
          "text": [
            "[['Andrea', 'Geourbanistica'], ['Serena', 'Terapeutica artistica']]\n"
          ]
        }
      ]
    },
    {
      "cell_type": "markdown",
      "id": "7e190757",
      "metadata": {
        "id": "7e190757"
      },
      "source": [
        "Le liste **sono mutabili**."
      ]
    },
    {
      "cell_type": "code",
      "execution_count": null,
      "id": "2f58bfd1",
      "metadata": {
        "id": "2f58bfd1"
      },
      "outputs": [],
      "source": [
        "lista1[0] = 27"
      ]
    },
    {
      "cell_type": "code",
      "execution_count": null,
      "id": "127ac94a",
      "metadata": {
        "colab": {
          "base_uri": "https://localhost:8080/"
        },
        "id": "127ac94a",
        "outputId": "7be2d73f-c065-40c3-c76d-795ef1111fba"
      },
      "outputs": [
        {
          "output_type": "execute_result",
          "data": {
            "text/plain": [
              "[27, 9, 'Fabrizio']"
            ]
          },
          "metadata": {},
          "execution_count": 38
        }
      ],
      "source": [
        "lista1"
      ]
    },
    {
      "cell_type": "markdown",
      "id": "cad85849",
      "metadata": {
        "id": "cad85849"
      },
      "source": [
        "**Attenzione!**"
      ]
    },
    {
      "cell_type": "code",
      "execution_count": null,
      "id": "e7aac209",
      "metadata": {
        "id": "e7aac209"
      },
      "outputs": [],
      "source": [
        "lista1 = ['Fabrizio', 'Matematica']"
      ]
    },
    {
      "cell_type": "code",
      "source": [
        "lista3 = [lista1, lista2]"
      ],
      "metadata": {
        "id": "vF8UHvzszO4g"
      },
      "id": "vF8UHvzszO4g",
      "execution_count": null,
      "outputs": []
    },
    {
      "cell_type": "code",
      "source": [
        "lista3"
      ],
      "metadata": {
        "colab": {
          "base_uri": "https://localhost:8080/"
        },
        "id": "M4g5rhMgzaDE",
        "outputId": "20c69a92-a770-4c28-f98a-14c1bf3d4e5f"
      },
      "id": "M4g5rhMgzaDE",
      "execution_count": null,
      "outputs": [
        {
          "output_type": "execute_result",
          "data": {
            "text/plain": [
              "[['Fabrizio', 'Matematica'], ['Giusi', 'Economia']]"
            ]
          },
          "metadata": {},
          "execution_count": 44
        }
      ]
    },
    {
      "cell_type": "code",
      "source": [
        "lista1[0] = 'Fabrizio Iozzi'"
      ],
      "metadata": {
        "id": "s3RT8VLjzsdE"
      },
      "id": "s3RT8VLjzsdE",
      "execution_count": null,
      "outputs": []
    },
    {
      "cell_type": "code",
      "source": [
        "lista1"
      ],
      "metadata": {
        "colab": {
          "base_uri": "https://localhost:8080/"
        },
        "id": "a-t8G1wVz1Cc",
        "outputId": "3e145250-152d-4025-f955-1afd9963b050"
      },
      "id": "a-t8G1wVz1Cc",
      "execution_count": null,
      "outputs": [
        {
          "output_type": "execute_result",
          "data": {
            "text/plain": [
              "['Fabrizio Iozzi', 'Matematica']"
            ]
          },
          "metadata": {},
          "execution_count": 46
        }
      ]
    },
    {
      "cell_type": "code",
      "source": [
        "lista3"
      ],
      "metadata": {
        "colab": {
          "base_uri": "https://localhost:8080/"
        },
        "id": "Kzd4LLNbz2oe",
        "outputId": "5652049b-89bf-4853-a595-4adb247d76ee"
      },
      "id": "Kzd4LLNbz2oe",
      "execution_count": null,
      "outputs": [
        {
          "output_type": "execute_result",
          "data": {
            "text/plain": [
              "[['Fabrizio Iozzi', 'Matematica'], ['Giusi', 'Economia']]"
            ]
          },
          "metadata": {},
          "execution_count": 47
        }
      ]
    },
    {
      "cell_type": "markdown",
      "id": "bd95c4b2",
      "metadata": {
        "id": "bd95c4b2"
      },
      "source": [
        "Questo succede proprio perché le liste sono mutabili. Python crea locazioni di memoria e i nomi che usiamo per gli oggetti sono solo \"riferimenti\" alle locazioni di memoria (come degli indirizzi sono riferimenti a qualche posto). Se l'oggetto è mutabile, il suo contenuto può cambiare pur rimanendo lo stesso oggetto (come il bar in via Roma 43 può diventare una lavanderia, mantenendo lo stesso indirizzo).\n",
        "\n",
        "Se non si vogliono modificare i contenuti delle variabili, si devono usare tipi di dati immutabili o creare copie delle variabili."
      ]
    },
    {
      "cell_type": "markdown",
      "id": "46138bf5",
      "metadata": {
        "id": "46138bf5"
      },
      "source": [
        "Le liste hanno una lunghezza."
      ]
    },
    {
      "cell_type": "code",
      "execution_count": null,
      "id": "ad18f056",
      "metadata": {
        "colab": {
          "base_uri": "https://localhost:8080/"
        },
        "id": "ad18f056",
        "outputId": "98b9e6f5-0d5a-4882-ba2a-45f9dd1567f4"
      },
      "outputs": [
        {
          "output_type": "stream",
          "name": "stdout",
          "text": [
            "La lunghezza della lista1 è 2\n"
          ]
        }
      ],
      "source": [
        "print(f'La lunghezza della lista1 è {len(lista1)}')"
      ]
    },
    {
      "cell_type": "code",
      "execution_count": null,
      "id": "aa5f77ab",
      "metadata": {
        "colab": {
          "base_uri": "https://localhost:8080/"
        },
        "id": "aa5f77ab",
        "outputId": "ed13a71e-ba80-47f9-eecf-98fb9c216098"
      },
      "outputs": [
        {
          "output_type": "stream",
          "name": "stdout",
          "text": [
            "La lunghezza della lista3 è 2\n"
          ]
        }
      ],
      "source": [
        "print(f'La lunghezza della lista3 è {len(lista3)}')"
      ]
    },
    {
      "cell_type": "markdown",
      "id": "2bab373c",
      "metadata": {
        "id": "2bab373c"
      },
      "source": [
        "Le liste hanno dei metodi specifici. Si può guardare [qui](https://docs.python.org/3/library/stdtypes.html#mutable-sequence-types)"
      ]
    },
    {
      "cell_type": "code",
      "source": [
        "lista1"
      ],
      "metadata": {
        "colab": {
          "base_uri": "https://localhost:8080/"
        },
        "id": "BC2pteCK2JWX",
        "outputId": "7bff7f3c-88f4-4e3f-b1f0-4a8ba98e618f"
      },
      "id": "BC2pteCK2JWX",
      "execution_count": null,
      "outputs": [
        {
          "output_type": "execute_result",
          "data": {
            "text/plain": [
              "['Fabrizio Iozzi', 'Matematica']"
            ]
          },
          "metadata": {},
          "execution_count": 51
        }
      ]
    },
    {
      "cell_type": "code",
      "execution_count": null,
      "id": "773791db",
      "metadata": {
        "colab": {
          "base_uri": "https://localhost:8080/"
        },
        "id": "773791db",
        "outputId": "aafd86a3-45de-4da6-8714-706415949c8a"
      },
      "outputs": [
        {
          "output_type": "execute_result",
          "data": {
            "text/plain": [
              "['Fabrizio Iozzi', 'Matematica', 'Università Statale Milano']"
            ]
          },
          "metadata": {},
          "execution_count": 52
        }
      ],
      "source": [
        "lista1.append('Università Statale Milano')\n",
        "lista1"
      ]
    },
    {
      "cell_type": "code",
      "source": [
        "lista1.append(1989)"
      ],
      "metadata": {
        "id": "K5A371mX2bTL"
      },
      "id": "K5A371mX2bTL",
      "execution_count": null,
      "outputs": []
    },
    {
      "cell_type": "code",
      "source": [
        "lista1"
      ],
      "metadata": {
        "colab": {
          "base_uri": "https://localhost:8080/"
        },
        "id": "Y6Ej5s_s2XNR",
        "outputId": "f1c9ae0e-ea3b-4b93-d1cd-d7aee85ee893"
      },
      "id": "Y6Ej5s_s2XNR",
      "execution_count": null,
      "outputs": [
        {
          "output_type": "execute_result",
          "data": {
            "text/plain": [
              "['Fabrizio Iozzi', 'Matematica', 'Università Statale Milano', 1989]"
            ]
          },
          "metadata": {},
          "execution_count": 54
        }
      ]
    },
    {
      "cell_type": "code",
      "execution_count": null,
      "id": "530b4152",
      "metadata": {
        "colab": {
          "base_uri": "https://localhost:8080/",
          "height": 177
        },
        "id": "530b4152",
        "outputId": "079a8a9d-f00b-4e9c-f5fc-8e6061b74ed7"
      },
      "outputs": [
        {
          "output_type": "error",
          "ename": "ValueError",
          "evalue": "'Economia' is not in list",
          "traceback": [
            "\u001b[0;31m---------------------------------------------------------------------------\u001b[0m",
            "\u001b[0;31mValueError\u001b[0m                                Traceback (most recent call last)",
            "\u001b[0;32m<ipython-input-60-d24b8c1c56d0>\u001b[0m in \u001b[0;36m<cell line: 1>\u001b[0;34m()\u001b[0m\n\u001b[0;32m----> 1\u001b[0;31m \u001b[0mlista1\u001b[0m\u001b[0;34m.\u001b[0m\u001b[0mindex\u001b[0m\u001b[0;34m(\u001b[0m\u001b[0;34m'Economia'\u001b[0m\u001b[0;34m)\u001b[0m\u001b[0;34m\u001b[0m\u001b[0;34m\u001b[0m\u001b[0m\n\u001b[0m",
            "\u001b[0;31mValueError\u001b[0m: 'Economia' is not in list"
          ]
        }
      ],
      "source": [
        "lista1.index('Economia')"
      ]
    },
    {
      "cell_type": "code",
      "execution_count": null,
      "id": "e86a69cc",
      "metadata": {
        "colab": {
          "base_uri": "https://localhost:8080/"
        },
        "id": "e86a69cc",
        "outputId": "822cf852-e539-429a-dadc-f523ab37c55a"
      },
      "outputs": [
        {
          "output_type": "execute_result",
          "data": {
            "text/plain": [
              "False"
            ]
          },
          "metadata": {},
          "execution_count": 62
        }
      ],
      "source": [
        "'Fabrizio' in lista1"
      ]
    },
    {
      "cell_type": "code",
      "source": [
        "lista1"
      ],
      "metadata": {
        "colab": {
          "base_uri": "https://localhost:8080/"
        },
        "id": "IdU-fLyl_YnG",
        "outputId": "d21d7081-3c72-4644-93f7-ee66a60f75bf"
      },
      "id": "IdU-fLyl_YnG",
      "execution_count": null,
      "outputs": [
        {
          "output_type": "execute_result",
          "data": {
            "text/plain": [
              "['Fabrizio Iozzi', 'Matematica', 'Università Statale Milano', 1989]"
            ]
          },
          "metadata": {},
          "execution_count": 63
        }
      ]
    },
    {
      "cell_type": "code",
      "execution_count": null,
      "id": "49349cef",
      "metadata": {
        "id": "49349cef"
      },
      "outputs": [],
      "source": [
        "lista3 = lista1.copy()"
      ]
    },
    {
      "cell_type": "code",
      "execution_count": null,
      "id": "7fbde91b",
      "metadata": {
        "colab": {
          "base_uri": "https://localhost:8080/"
        },
        "id": "7fbde91b",
        "outputId": "68d7744b-aac0-4d4b-91f6-ded90de823a3"
      },
      "outputs": [
        {
          "output_type": "execute_result",
          "data": {
            "text/plain": [
              "['Fabrizio Iozzi', 'Matematica', 'Università Statale Milano', 1989]"
            ]
          },
          "metadata": {},
          "execution_count": 65
        }
      ],
      "source": [
        "lista3"
      ]
    },
    {
      "cell_type": "code",
      "execution_count": null,
      "id": "45485073",
      "metadata": {
        "id": "45485073"
      },
      "outputs": [],
      "source": [
        "lista3[1] = 44"
      ]
    },
    {
      "cell_type": "code",
      "execution_count": null,
      "id": "fa11263d",
      "metadata": {
        "colab": {
          "base_uri": "https://localhost:8080/"
        },
        "id": "fa11263d",
        "outputId": "6e95f2e7-868b-4cee-e1db-30408e7915d5"
      },
      "outputs": [
        {
          "output_type": "execute_result",
          "data": {
            "text/plain": [
              "['Fabrizio Iozzi', 'Matematica', 'Università Statale Milano', 1989]"
            ]
          },
          "metadata": {},
          "execution_count": 67
        }
      ],
      "source": [
        "lista1"
      ]
    },
    {
      "cell_type": "code",
      "execution_count": null,
      "id": "0a6ef9a5",
      "metadata": {
        "colab": {
          "base_uri": "https://localhost:8080/"
        },
        "id": "0a6ef9a5",
        "outputId": "d2bba1d5-7440-4bd2-d29e-c0a06114e687"
      },
      "outputs": [
        {
          "output_type": "execute_result",
          "data": {
            "text/plain": [
              "['Fabrizio Iozzi', 44, 'Università Statale Milano', 1989]"
            ]
          },
          "metadata": {},
          "execution_count": 68
        }
      ],
      "source": [
        "lista3"
      ]
    },
    {
      "cell_type": "code",
      "execution_count": null,
      "id": "4b912189",
      "metadata": {
        "colab": {
          "base_uri": "https://localhost:8080/"
        },
        "id": "4b912189",
        "outputId": "6d6d53f1-b4f1-448d-dcdc-86100f2d3962"
      },
      "outputs": [
        {
          "output_type": "execute_result",
          "data": {
            "text/plain": [
              "1989"
            ]
          },
          "metadata": {},
          "execution_count": 69
        }
      ],
      "source": [
        "lista3.pop()"
      ]
    },
    {
      "cell_type": "code",
      "execution_count": null,
      "id": "91290e94",
      "metadata": {
        "colab": {
          "base_uri": "https://localhost:8080/"
        },
        "id": "91290e94",
        "outputId": "fa3e1b9d-ab2e-44ab-bfc0-abd55cdf2274"
      },
      "outputs": [
        {
          "output_type": "execute_result",
          "data": {
            "text/plain": [
              "['Fabrizio Iozzi', 44, 'Università Statale Milano']"
            ]
          },
          "metadata": {},
          "execution_count": 70
        }
      ],
      "source": [
        "lista3"
      ]
    },
    {
      "cell_type": "code",
      "execution_count": null,
      "id": "8062dce1",
      "metadata": {
        "id": "8062dce1"
      },
      "outputs": [],
      "source": [
        "lista3.reverse()"
      ]
    },
    {
      "cell_type": "code",
      "execution_count": null,
      "id": "e54d61d3",
      "metadata": {
        "colab": {
          "base_uri": "https://localhost:8080/"
        },
        "id": "e54d61d3",
        "outputId": "348cf730-f41b-4abb-de05-c63eca09e96d"
      },
      "outputs": [
        {
          "output_type": "execute_result",
          "data": {
            "text/plain": [
              "[1989, 'Università Statale Milano', 44, 'Fabrizio Iozzi', 1989, 1989]"
            ]
          },
          "metadata": {},
          "execution_count": 77
        }
      ],
      "source": [
        "lista3"
      ]
    },
    {
      "cell_type": "code",
      "source": [
        "lista3.reverse()\n",
        "lista3"
      ],
      "metadata": {
        "colab": {
          "base_uri": "https://localhost:8080/"
        },
        "id": "dx6wzqafAk1F",
        "outputId": "d4f8f450-ccc2-450b-8fab-8878dc64cf01"
      },
      "id": "dx6wzqafAk1F",
      "execution_count": null,
      "outputs": [
        {
          "output_type": "execute_result",
          "data": {
            "text/plain": [
              "[1989, 1989, 'Fabrizio Iozzi', 44, 'Università Statale Milano', 1989]"
            ]
          },
          "metadata": {},
          "execution_count": 78
        }
      ]
    },
    {
      "cell_type": "markdown",
      "id": "fd239fc1",
      "metadata": {
        "id": "fd239fc1"
      },
      "source": [
        "Il metodo `reverse` agisce *in place*, cioè modifica l'oggetto su cui agisce e non restituisce nulla."
      ]
    },
    {
      "cell_type": "code",
      "execution_count": null,
      "id": "f8bda514",
      "metadata": {
        "colab": {
          "base_uri": "https://localhost:8080/",
          "height": 177
        },
        "id": "f8bda514",
        "outputId": "1ed24a30-3fd3-4d46-ff94-9c5174d5651a"
      },
      "outputs": [
        {
          "output_type": "error",
          "ename": "TypeError",
          "evalue": "'<' not supported between instances of 'str' and 'int'",
          "traceback": [
            "\u001b[0;31m---------------------------------------------------------------------------\u001b[0m",
            "\u001b[0;31mTypeError\u001b[0m                                 Traceback (most recent call last)",
            "\u001b[0;32m<ipython-input-79-27b661daf6a1>\u001b[0m in \u001b[0;36m<cell line: 1>\u001b[0;34m()\u001b[0m\n\u001b[0;32m----> 1\u001b[0;31m \u001b[0mlista3\u001b[0m\u001b[0;34m.\u001b[0m\u001b[0msort\u001b[0m\u001b[0;34m(\u001b[0m\u001b[0;34m)\u001b[0m\u001b[0;34m\u001b[0m\u001b[0;34m\u001b[0m\u001b[0m\n\u001b[0m",
            "\u001b[0;31mTypeError\u001b[0m: '<' not supported between instances of 'str' and 'int'"
          ]
        }
      ],
      "source": [
        "lista3.sort()"
      ]
    },
    {
      "cell_type": "code",
      "source": [
        "lista4 = [3,66,45,12,55]"
      ],
      "metadata": {
        "id": "JmTtnN15Bgp0"
      },
      "id": "JmTtnN15Bgp0",
      "execution_count": null,
      "outputs": []
    },
    {
      "cell_type": "code",
      "source": [
        "lista4.sort(reverse=True)\n",
        "lista4"
      ],
      "metadata": {
        "colab": {
          "base_uri": "https://localhost:8080/"
        },
        "id": "riEWcY_nBlpm",
        "outputId": "65db4211-3653-4f72-ab8a-79544808112b"
      },
      "id": "riEWcY_nBlpm",
      "execution_count": null,
      "outputs": [
        {
          "output_type": "execute_result",
          "data": {
            "text/plain": [
              "[66, 55, 45, 12, 3]"
            ]
          },
          "metadata": {},
          "execution_count": 87
        }
      ]
    },
    {
      "cell_type": "code",
      "source": [
        "lista5 = ['Giusi', 'Andrea', 'Serena', 'Simone', 'Laura', 'Amalia']"
      ],
      "metadata": {
        "id": "rMQTVCV_BufH"
      },
      "id": "rMQTVCV_BufH",
      "execution_count": null,
      "outputs": []
    },
    {
      "cell_type": "code",
      "source": [
        "lista5.sort()\n",
        "lista5"
      ],
      "metadata": {
        "colab": {
          "base_uri": "https://localhost:8080/"
        },
        "id": "HrXzDxqKB66r",
        "outputId": "85432beb-c2ec-4db1-b856-c12c7e5aa4bf"
      },
      "id": "HrXzDxqKB66r",
      "execution_count": null,
      "outputs": [
        {
          "output_type": "execute_result",
          "data": {
            "text/plain": [
              "['Amalia', 'Andrea', 'Giusi', 'Laura', 'Serena', 'Simone']"
            ]
          },
          "metadata": {},
          "execution_count": 85
        }
      ]
    },
    {
      "cell_type": "markdown",
      "id": "c91d1a37",
      "metadata": {
        "id": "c91d1a37"
      },
      "source": [
        "### Il metodo `join` delle stringhe"
      ]
    },
    {
      "cell_type": "markdown",
      "id": "bf73449b",
      "metadata": {
        "id": "bf73449b"
      },
      "source": [
        "Supponiamo di avere una lista di nomi"
      ]
    },
    {
      "cell_type": "code",
      "execution_count": null,
      "id": "ef2e3d2c",
      "metadata": {
        "id": "ef2e3d2c"
      },
      "outputs": [],
      "source": [
        "lista_nomi = ['Alice', 'Marcello', 'Paola', 'Riccardo']"
      ]
    },
    {
      "cell_type": "markdown",
      "id": "b0cab36c",
      "metadata": {
        "id": "b0cab36c"
      },
      "source": [
        "e di voler costruire una stringa con i nomi separati da una virgola: \"Alice,Marcello,Paola,Riccardo\".\n",
        "\n",
        "Il metodo `join` delle stringhe svolge questa funzione. Si prende la stringa del separatore, la virgola in questo caso, si applica `join` al separatore e come parametro si passa una lista (o una qualunque altra sequenza di elementi).\n",
        "\n",
        "Il metodo restituisce la stringa completa."
      ]
    },
    {
      "cell_type": "code",
      "execution_count": null,
      "id": "c9df0277",
      "metadata": {
        "colab": {
          "base_uri": "https://localhost:8080/",
          "height": 70
        },
        "id": "c9df0277",
        "outputId": "c1cef142-e194-464c-dcbd-f884f24077e3"
      },
      "outputs": [
        {
          "output_type": "stream",
          "name": "stdout",
          "text": [
            "Alice--Marcello--Paola--Riccardo\n",
            "Alice--Marcello--Paola--Riccardo\n"
          ]
        },
        {
          "output_type": "execute_result",
          "data": {
            "text/plain": [
              "'Ming & Barbara & Sebastiano & Federica'"
            ],
            "application/vnd.google.colaboratory.intrinsic+json": {
              "type": "string"
            }
          },
          "metadata": {},
          "execution_count": 95
        }
      ],
      "source": [
        "separator = '--'\n",
        "lista_con_virgole = separator.join(lista_nomi)\n",
        "print(lista_con_virgole)\n",
        "print('--'.join(['Alice', 'Marcello', 'Paola', 'Riccardo']))\n",
        "' & '.join(['Ming', 'Barbara', 'Sebastiano', 'Federica'])"
      ]
    },
    {
      "cell_type": "markdown",
      "id": "8407f8ca",
      "metadata": {
        "id": "8407f8ca"
      },
      "source": [
        "# Il ciclo `for`"
      ]
    },
    {
      "cell_type": "markdown",
      "id": "ea7a1ccb",
      "metadata": {
        "id": "ea7a1ccb"
      },
      "source": [
        "In molte occasioni si vuole scorrere gli elementi di una lista e su ognuno di essi svolgere delle operazioni. In questo caso conviene usare l'istruzione `for`.\n",
        "\n",
        "La sintassi di `for` è\n",
        "\n",
        "```python\n",
        "for <elemento> in <sequenza>:\n",
        "    fai_qualcosa\n",
        "```\n",
        "\n",
        "Attenzione a due cose importanti:\n",
        "- il `:` alla fine della riga con il `for`\n",
        "- l'indentazione delle istruzioni dipendenti dal `for`"
      ]
    },
    {
      "cell_type": "markdown",
      "id": "5010dc82",
      "metadata": {
        "id": "5010dc82"
      },
      "source": [
        "Per esempio, se abbiamo la lista"
      ]
    },
    {
      "cell_type": "code",
      "source": [
        "lista_nomi = ['FGiusi', 'FSerena', 'FLaura', 'FMing', 'FAmalia', 'FBarbara', 'FFederica', 'MAndrea', 'MSimone', 'MSebastiano']\n",
        "for minz in lista_nomi:\n",
        "  print(minz[0], minz[1:])\n",
        "  print(f'{minz} è una studentessa di dottorato.')\n",
        "print('Serena non deve guardare questo programma.')"
      ],
      "metadata": {
        "colab": {
          "base_uri": "https://localhost:8080/"
        },
        "id": "tDE1GZQxHHk3",
        "outputId": "b7d44179-3fd8-4938-8215-a7c2940b9634"
      },
      "id": "tDE1GZQxHHk3",
      "execution_count": null,
      "outputs": [
        {
          "output_type": "stream",
          "name": "stdout",
          "text": [
            "F Giusi\n",
            "FGiusi è una studentessa di dottorato.\n",
            "F Serena\n",
            "FSerena è una studentessa di dottorato.\n",
            "F Laura\n",
            "FLaura è una studentessa di dottorato.\n",
            "F Ming\n",
            "FMing è una studentessa di dottorato.\n",
            "F Amalia\n",
            "FAmalia è una studentessa di dottorato.\n",
            "F Barbara\n",
            "FBarbara è una studentessa di dottorato.\n",
            "F Federica\n",
            "FFederica è una studentessa di dottorato.\n",
            "M Andrea\n",
            "MAndrea è una studentessa di dottorato.\n",
            "M Simone\n",
            "MSimone è una studentessa di dottorato.\n",
            "M Sebastiano\n",
            "MSebastiano è una studentessa di dottorato.\n",
            "Serena non deve guardare questo programma.\n"
          ]
        }
      ]
    },
    {
      "cell_type": "code",
      "execution_count": null,
      "id": "7587b769",
      "metadata": {
        "id": "7587b769"
      },
      "outputs": [],
      "source": [
        "lista4 = [1, 3, 6, 7, 9]"
      ]
    },
    {
      "cell_type": "markdown",
      "id": "981474a7",
      "metadata": {
        "id": "981474a7"
      },
      "source": [
        "e vogliamo stampare una lista con tutti gli elementi moltiplicati per due, possiamo fare così"
      ]
    },
    {
      "cell_type": "code",
      "execution_count": null,
      "id": "472c1a16",
      "metadata": {
        "colab": {
          "base_uri": "https://localhost:8080/"
        },
        "id": "472c1a16",
        "outputId": "d62fb17e-0547-429d-bc9c-c73581a42535"
      },
      "outputs": [
        {
          "output_type": "stream",
          "name": "stdout",
          "text": [
            "Il doppio dell'elemento 1 è 2\n",
            "Il doppio dell'elemento 3 è 6\n",
            "Il doppio dell'elemento 6 è 12\n",
            "Il doppio dell'elemento 7 è 14\n",
            "Il doppio dell'elemento 9 è 18\n",
            "Ho finito.\n"
          ]
        }
      ],
      "source": [
        "for elemento in lista4:\n",
        "    print(f\"Il doppio dell'elemento {elemento} è {2*elemento}\")\n",
        "print('Ho finito.')"
      ]
    },
    {
      "cell_type": "markdown",
      "id": "8d14647b",
      "metadata": {
        "id": "8d14647b"
      },
      "source": [
        "Si osservi che le istruzioni indentate sono eseguite una per elemento mentre l'istruzione finale, che non è indentata, viene eseguita una volta sola.\n",
        "\n",
        "Quando la lista è finita, `for` si conclude e il programma prosegue con le istruzioni seguenti."
      ]
    },
    {
      "cell_type": "markdown",
      "source": [
        "# Fine della lezione del 5 febbraio"
      ],
      "metadata": {
        "id": "WUheZq6mNhEa"
      },
      "id": "WUheZq6mNhEa"
    },
    {
      "cell_type": "markdown",
      "id": "f84d4f95",
      "metadata": {
        "id": "f84d4f95"
      },
      "source": [
        "E se voglio stampare il doppio dei primi 5 numeri naturali? Potrei partire dalla lista [1, 2, 3, 4, 5] ma c'è una maniera rapida per creare un *iterabile* che produce questa lista. Un *iterabile* è un oggetto che, quando è chiamato dentro un ciclio `for` si mette a produrre elementi secondo un certo schema.\n",
        "\n",
        "Per produrre una iterabile che generi 5 numeri, si può usare `range(5)`, che genera i numeri 0, 1, 2, 3, 4. La regola è sempre che l'indice che vediamo è il primo a non essere scritto. Per esteso, `range(5)` sarebbe `range(0,5)`. Si può decidere di lasciare così o usare `range(1,6)`, se si vogliono i numeri da 1 a 5, e non da 0 a 4."
      ]
    },
    {
      "cell_type": "code",
      "execution_count": null,
      "id": "7214d113",
      "metadata": {
        "id": "7214d113",
        "outputId": "493ef00e-a13c-44e3-bc7e-fe93e92d9134"
      },
      "outputs": [
        {
          "name": "stdout",
          "output_type": "stream",
          "text": [
            "0\n",
            "1\n",
            "2\n",
            "3\n",
            "4\n"
          ]
        }
      ],
      "source": [
        "for numero in range(5):\n",
        "    print(numero)"
      ]
    },
    {
      "cell_type": "code",
      "execution_count": null,
      "id": "f2f9b1da",
      "metadata": {
        "id": "f2f9b1da",
        "outputId": "7abdc64b-3098-4dea-fad3-449fc02b5f0b"
      },
      "outputs": [
        {
          "name": "stdout",
          "output_type": "stream",
          "text": [
            "0\n",
            "1\n",
            "2\n",
            "3\n",
            "4\n"
          ]
        }
      ],
      "source": [
        "for numero in range(0,5):\n",
        "    print(numero)"
      ]
    },
    {
      "cell_type": "code",
      "execution_count": null,
      "id": "c7e61f14",
      "metadata": {
        "id": "c7e61f14",
        "outputId": "a956f807-43c8-474a-cf84-721a0dbb1c88"
      },
      "outputs": [
        {
          "name": "stdout",
          "output_type": "stream",
          "text": [
            "1\n",
            "2\n",
            "3\n",
            "4\n",
            "5\n"
          ]
        }
      ],
      "source": [
        "for numero in range(1,6):\n",
        "    print(numero)"
      ]
    },
    {
      "cell_type": "markdown",
      "id": "81a44f2e",
      "metadata": {
        "id": "81a44f2e"
      },
      "source": [
        "La sintassi completa di `range` è `range(start, stop[, step]`"
      ]
    },
    {
      "cell_type": "code",
      "execution_count": null,
      "id": "cac58bc3",
      "metadata": {
        "id": "cac58bc3",
        "outputId": "1821d0ae-d1c8-41c5-c3aa-2ca57212470a"
      },
      "outputs": [
        {
          "name": "stdout",
          "output_type": "stream",
          "text": [
            "1\n",
            "3\n",
            "5\n",
            "7\n",
            "9\n"
          ]
        }
      ],
      "source": [
        "for numero in range(1, 10, 2):\n",
        "    print(numero)"
      ]
    },
    {
      "cell_type": "markdown",
      "id": "b1275b56",
      "metadata": {
        "id": "b1275b56"
      },
      "source": [
        "`for` funziona con sequenze di qualsiasi tipo."
      ]
    },
    {
      "cell_type": "code",
      "execution_count": null,
      "id": "ddc137ca",
      "metadata": {
        "id": "ddc137ca",
        "outputId": "2430dc80-5e8e-4324-a566-c3ca8cd3a619"
      },
      "outputs": [
        {
          "name": "stdout",
          "output_type": "stream",
          "text": [
            "mela\n",
            "banana\n",
            "ciliegia\n",
            "kiwi\n",
            "mango\n"
          ]
        }
      ],
      "source": [
        "frutti = [\"mela\", \"banana\", \"ciliegia\", \"kiwi\", \"mango\"]\n",
        "\n",
        "for frutto in frutti:\n",
        "    print(frutto)\n"
      ]
    },
    {
      "cell_type": "code",
      "execution_count": null,
      "id": "73beabd6",
      "metadata": {
        "id": "73beabd6",
        "outputId": "5c1997c5-731d-4d13-849d-fc18e4d3d7f4"
      },
      "outputs": [
        {
          "name": "stdout",
          "output_type": "stream",
          "text": [
            "M\n",
            "i\n",
            "c\n",
            "k\n",
            "e\n",
            "y\n",
            " \n",
            "M\n",
            "o\n",
            "u\n",
            "s\n",
            "e\n"
          ]
        }
      ],
      "source": [
        "s1 = 'Mickey Mouse'\n",
        "for carattere in s1:\n",
        "    print(carattere)\n"
      ]
    },
    {
      "cell_type": "markdown",
      "id": "8174ff00",
      "metadata": {
        "id": "8174ff00"
      },
      "source": [
        "Quando si usa un ciclo for non sempre si \"contano gli elementi\".\n",
        "\n",
        "Se occorre anche contare gli elementi della sequenza, mentre li si elabora, si può esare la funzione `enumerate`.\n",
        "\n",
        "`enumerate` manipola la sequenza in modo tale da restituire una coppia di oggetti: un indice e l'elemento della sequenza."
      ]
    },
    {
      "cell_type": "code",
      "execution_count": null,
      "id": "9f2429d1",
      "metadata": {
        "id": "9f2429d1",
        "outputId": "5dd5f827-8fdb-44a1-bcdc-905292e5ef69"
      },
      "outputs": [
        {
          "name": "stdout",
          "output_type": "stream",
          "text": [
            "0 mela\n",
            "1 banana\n",
            "2 ciliegia\n",
            "3 kiwi\n",
            "4 mango\n"
          ]
        }
      ],
      "source": [
        "frutti = [\"mela\", \"banana\", \"ciliegia\", \"kiwi\", \"mango\"]\n",
        "\n",
        "for indice, frutto in enumerate(frutti):\n",
        "    print(indice, frutto)\n"
      ]
    },
    {
      "cell_type": "markdown",
      "id": "3f6d4aac",
      "metadata": {
        "id": "3f6d4aac"
      },
      "source": [
        "# Condizionali"
      ]
    },
    {
      "cell_type": "markdown",
      "id": "9c775ec9",
      "metadata": {
        "id": "9c775ec9"
      },
      "source": [
        "In mancanza di altre indicazioni, l'esecuzione delle istruzioni di un programma avviene dalla prima all'ultima istruzione. L'ordine di esecuzione viene modificato:\n",
        "- dai *cicli* (ad esempio  l'istruzione `for`), che ripetono un gruppo di istruzioni un certo numero di volte\n",
        "- dai *condizionali*, che eseguono un gruppo di istruzioni al verificarsi di una certa condizione\n",
        "\n",
        "In Python, la principale istruzione condizionale è `if ... [elif] ... [else]`."
      ]
    },
    {
      "cell_type": "code",
      "execution_count": null,
      "id": "6d7e451f",
      "metadata": {
        "id": "6d7e451f",
        "outputId": "edb85163-1e5e-4490-ead5-5580f6e85d77"
      },
      "outputs": [
        {
          "name": "stdout",
          "output_type": "stream",
          "text": [
            "Inizio del programma.\n",
            "a è uguale a 3\n",
            "Fine del programma.\n"
          ]
        }
      ],
      "source": [
        "print('Inizio del programma.')\n",
        "a = 3\n",
        "if a == 3:\n",
        "    print('a è uguale a 3')\n",
        "print('Fine del programma.')\n"
      ]
    },
    {
      "cell_type": "markdown",
      "id": "fefbfd54",
      "metadata": {
        "id": "fefbfd54"
      },
      "source": [
        "Le istruzioni dipendenti dalla condizione devono essere indentate. Si noti che:\n",
        "- la condizione *non* è `a = 3`, ma `a == 3` (`=` è un operatore di assegnazione, non di confronto)\n",
        "- il `:` dopo la condizione."
      ]
    },
    {
      "cell_type": "code",
      "execution_count": null,
      "id": "5f5fb64e",
      "metadata": {
        "id": "5f5fb64e",
        "outputId": "5d8ee340-9a53-4a99-da4e-e984d6a95386"
      },
      "outputs": [
        {
          "name": "stdout",
          "output_type": "stream",
          "text": [
            "Inizio del programma.\n",
            "a non è uguale a 3\n",
            "Fine del programma.\n"
          ]
        }
      ],
      "source": [
        "print('Inizio del programma.')\n",
        "a = 4\n",
        "if a == 3:\n",
        "    print('a è uguale a 3')\n",
        "else:\n",
        "    print('a non è uguale a 3')\n",
        "print('Fine del programma.')\n"
      ]
    },
    {
      "cell_type": "code",
      "execution_count": null,
      "id": "2bc63d70",
      "metadata": {
        "id": "2bc63d70",
        "outputId": "8d703863-9854-493e-d271-ff91a6f1cb61"
      },
      "outputs": [
        {
          "name": "stdout",
          "output_type": "stream",
          "text": [
            "Inizio del programma.\n",
            "a non è uguale né a 3, né a 4\n",
            "Fine del programma.\n"
          ]
        }
      ],
      "source": [
        "print('Inizio del programma.')\n",
        "a = 5\n",
        "if a == 3:\n",
        "    print('a è uguale a 3')\n",
        "elif a == 4:\n",
        "    print('a è uguale a 4')\n",
        "else:\n",
        "    print('a non è uguale né a 3, né a 4')\n",
        "print('Fine del programma.')\n"
      ]
    },
    {
      "cell_type": "markdown",
      "id": "c168c723",
      "metadata": {
        "id": "c168c723"
      },
      "source": [
        "Non uguale si scrive `!=`."
      ]
    },
    {
      "cell_type": "code",
      "execution_count": null,
      "id": "ab40bddb",
      "metadata": {
        "id": "ab40bddb",
        "outputId": "6db6bcd5-5910-4ad7-e25b-11145b157410"
      },
      "outputs": [
        {
          "name": "stdout",
          "output_type": "stream",
          "text": [
            "Inizio del programma.\n",
            "a non è uguale a 3\n",
            "Fine del programma.\n"
          ]
        }
      ],
      "source": [
        "print('Inizio del programma.')\n",
        "a = 4\n",
        "if a != 3:\n",
        "    print('a non è uguale a 3')\n",
        "else:\n",
        "    print('a non è uguale a 3')\n",
        "print('Fine del programma.')\n"
      ]
    },
    {
      "cell_type": "markdown",
      "id": "007aa9a3",
      "metadata": {
        "id": "007aa9a3"
      },
      "source": [
        "Le condizioni si possono combinare con `and` e `or`. `and` restituisce vero solo se **le due condizioni sono entrambe vere**. `or` restituisce vero se **almeno una delle due condizioni è vera**."
      ]
    },
    {
      "cell_type": "code",
      "execution_count": null,
      "id": "ee601b50",
      "metadata": {
        "id": "ee601b50",
        "outputId": "97ee08e8-506d-4dfa-dfd2-49feb9d160af"
      },
      "outputs": [
        {
          "name": "stdout",
          "output_type": "stream",
          "text": [
            "Inizio del programma.\n",
            "a è uguale a 3 o uguale a 4\n",
            "Fine del programma.\n"
          ]
        }
      ],
      "source": [
        "print('Inizio del programma.')\n",
        "a = 4\n",
        "if a == 3 or a == 4:\n",
        "    print('a è uguale a 3 o uguale a 4')\n",
        "else:\n",
        "    print('a non è uguale né a 3, né a 4')\n",
        "print('Fine del programma.')\n"
      ]
    },
    {
      "cell_type": "code",
      "execution_count": null,
      "id": "463ffdd8",
      "metadata": {
        "id": "463ffdd8",
        "outputId": "5a7b0d21-67f9-4867-8246-172c265025b2"
      },
      "outputs": [
        {
          "name": "stdout",
          "output_type": "stream",
          "text": [
            "Inizio del programma.\n",
            "a è minore o uguale a 5, o maggiore o uguale a 10\n",
            "Fine del programma.\n"
          ]
        }
      ],
      "source": [
        "print('Inizio del programma.')\n",
        "a = 4\n",
        "if a < 10 and a > 5:\n",
        "    print('a è compreso tra 5 e 10')\n",
        "else:\n",
        "    print('a è minore o uguale a 5, o maggiore o uguale a 10')\n",
        "print('Fine del programma.')\n"
      ]
    },
    {
      "cell_type": "markdown",
      "id": "2248f263",
      "metadata": {
        "id": "2248f263"
      },
      "source": [
        "C'è anche `not`, che trasforma il vero in falso e viceversa."
      ]
    },
    {
      "cell_type": "code",
      "execution_count": null,
      "id": "a34da01b",
      "metadata": {
        "id": "a34da01b",
        "outputId": "a6066137-0710-47b1-a889-509724732df4"
      },
      "outputs": [
        {
          "data": {
            "text/plain": [
              "True"
            ]
          },
          "execution_count": 6,
          "metadata": {},
          "output_type": "execute_result"
        }
      ],
      "source": [
        "not (3 == 4)"
      ]
    },
    {
      "cell_type": "code",
      "execution_count": null,
      "id": "0bd0f1fe",
      "metadata": {
        "id": "0bd0f1fe",
        "outputId": "ab2fcc1c-42c9-47ba-865b-c45da509a329"
      },
      "outputs": [
        {
          "data": {
            "text/plain": [
              "True"
            ]
          },
          "execution_count": 7,
          "metadata": {},
          "output_type": "execute_result"
        }
      ],
      "source": [
        "3 != 4"
      ]
    },
    {
      "cell_type": "markdown",
      "id": "483dd881",
      "metadata": {
        "id": "483dd881"
      },
      "source": [
        "`in` è un operatore che restituisce vero o falso. `a in b` è vero se `a` è contenuto nella sequenza `b`"
      ]
    },
    {
      "cell_type": "code",
      "execution_count": null,
      "id": "16e925dd",
      "metadata": {
        "id": "16e925dd",
        "outputId": "3417b21c-6918-4631-8cdd-17851e595a0d"
      },
      "outputs": [
        {
          "data": {
            "text/plain": [
              "True"
            ]
          },
          "execution_count": 1,
          "metadata": {},
          "output_type": "execute_result"
        }
      ],
      "source": [
        "'abr' in 'Fabrizio'"
      ]
    },
    {
      "cell_type": "code",
      "execution_count": null,
      "id": "922f10a0",
      "metadata": {
        "id": "922f10a0",
        "outputId": "c58e4f00-77c5-45c0-cea0-074b0cb4a618"
      },
      "outputs": [
        {
          "data": {
            "text/plain": [
              "True"
            ]
          },
          "execution_count": 2,
          "metadata": {},
          "output_type": "execute_result"
        }
      ],
      "source": [
        "33 in [2, 33, 4, 6]"
      ]
    },
    {
      "cell_type": "markdown",
      "id": "0c00310e",
      "metadata": {
        "id": "0c00310e"
      },
      "source": [
        "`not` e `in` si combinano in `not in `"
      ]
    },
    {
      "cell_type": "code",
      "execution_count": null,
      "id": "eb5c01d5",
      "metadata": {
        "id": "eb5c01d5",
        "outputId": "3dabb8d9-3bab-4d46-9df4-6363f8e68dae"
      },
      "outputs": [
        {
          "data": {
            "text/plain": [
              "True"
            ]
          },
          "execution_count": 8,
          "metadata": {},
          "output_type": "execute_result"
        }
      ],
      "source": [
        "'w' not in 'Fabrizio'"
      ]
    },
    {
      "cell_type": "markdown",
      "id": "6521725d",
      "metadata": {
        "id": "6521725d"
      },
      "source": [
        "### Esercizio"
      ]
    },
    {
      "cell_type": "code",
      "execution_count": null,
      "id": "a206d06b",
      "metadata": {
        "id": "a206d06b",
        "outputId": "4e3e8e05-871a-44e0-c0e7-1eed3bb2703e"
      },
      "outputs": [
        {
          "name": "stdout",
          "output_type": "stream",
          "text": [
            "[]\n"
          ]
        }
      ],
      "source": [
        "frutti = [\"mela\", \"banana\", \"ciliegia\", \"kiwi\", \"mango\"]\n",
        "frutti_con_la_n = []\n",
        "\n",
        "# scrivere un piccolo programma che aggiunge a frutti_con_la_n tutti i frutti il cui nome contiene la m\n",
        "\n",
        "print(frutti_con_la_n)"
      ]
    },
    {
      "cell_type": "markdown",
      "id": "a5808cc8",
      "metadata": {
        "id": "a5808cc8"
      },
      "source": [
        "### Esercizio"
      ]
    },
    {
      "cell_type": "code",
      "execution_count": null,
      "id": "93fb02c7",
      "metadata": {
        "id": "93fb02c7",
        "outputId": "d03860fc-e7cf-4a58-b471-6022d48139b8"
      },
      "outputs": [
        {
          "name": "stdout",
          "output_type": "stream",
          "text": [
            "[]\n"
          ]
        }
      ],
      "source": [
        "frutti = [\"mela\", \"banana\", \"ciliegia\", \"kiwi\", \"mango\"]\n",
        "frutti_senza_la_n = []\n",
        "\n",
        "# scrivere un piccolo programma che aggiunge a frutti_con_la_n tutti i frutti il cui nome non contiene la m\n",
        "\n",
        "print(frutti_senza_la_n)"
      ]
    },
    {
      "cell_type": "markdown",
      "id": "aa4b2928",
      "metadata": {
        "id": "aa4b2928"
      },
      "source": [
        "### Esercizio"
      ]
    },
    {
      "cell_type": "code",
      "execution_count": null,
      "id": "0b60e5a0",
      "metadata": {
        "id": "0b60e5a0"
      },
      "outputs": [],
      "source": [
        "frutti = [\"mela\", \"banana\", \"ciliegia\", \"kiwi\", \"fragola\"]\n",
        "frutti_che_mi_piacciono = [\"banana\", \"fragola\", \"kiwi\"]\n",
        "\n",
        "# scrivere un piccolo programma che scrive tutti i frutti della lista \"frutti\"\n",
        "# e aggiunge \"mi piace\" o \"non mi piace\" a seconda che il frutto sia o meno nella lista\n",
        "# frutti_che_mi_piacciono\n",
        "\n"
      ]
    },
    {
      "cell_type": "code",
      "execution_count": null,
      "id": "63ea60b1",
      "metadata": {
        "id": "63ea60b1"
      },
      "outputs": [],
      "source": []
    }
  ],
  "metadata": {
    "colab": {
      "provenance": []
    },
    "kernelspec": {
      "display_name": "Python 3 (ipykernel)",
      "language": "python",
      "name": "python3"
    },
    "language_info": {
      "codemirror_mode": {
        "name": "ipython",
        "version": 3
      },
      "file_extension": ".py",
      "mimetype": "text/x-python",
      "name": "python",
      "nbconvert_exporter": "python",
      "pygments_lexer": "ipython3",
      "version": "3.11.5"
    }
  },
  "nbformat": 4,
  "nbformat_minor": 5
}